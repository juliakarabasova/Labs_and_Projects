{
  "nbformat": 4,
  "nbformat_minor": 0,
  "metadata": {
    "kernelspec": {
      "display_name": "Python 3",
      "language": "python",
      "name": "python3"
    },
    "language_info": {
      "codemirror_mode": {
        "name": "ipython",
        "version": 3
      },
      "file_extension": ".py",
      "mimetype": "text/x-python",
      "name": "python",
      "nbconvert_exporter": "python",
      "pygments_lexer": "ipython3",
      "version": "3.7.2"
    },
    "colab": {
      "name": "text_preprocessing_instruments",
      "provenance": [],
      "collapsed_sections": [
        "UhRd7oO1LB0D"
      ]
    }
  },
  "cells": [
    {
      "cell_type": "markdown",
      "metadata": {
        "id": "oqCkrwA2LBzk"
      },
      "source": [
        "# Text preprocessing"
      ]
    },
    {
      "cell_type": "code",
      "metadata": {
        "id": "q3Z7gGueLBzq"
      },
      "source": [
        "text_ru = '''\n",
        "Продаётся LADA 4x4. ПТС 01.12.2018, куплена 20 января 19 года, 10 000 км пробега. \n",
        "Комплектация полная. Новая в салоне 750 000, отдам за 650 000. \n",
        "Возможен обмен на ВАЗ-2110 или ВАЗ 2109 с вашей доплатой. \n",
        "Краснодар, ул. Миклухо-Маклая, д. 4/5, подьезд 1 \n",
        "Тел. 8(999)1234567, 8 903 987-65-43, +7 (351) 111 22 33 \n",
        "И.И. Иванов (Иван Иванович) \n",
        "'''\n",
        "\n",
        "text_en = '''\n",
        "328i trim. FUEL EFFICIENT 28 MPG Hwy/18 MPG City!, \n",
        "PRICED TO MOVE $600 below Kelley Blue Book! Moonroof, Leather, Dual Zone A/C, CD Player, Rear Air, \n",
        "6-SPEED STEPTRONIC AUTOMATIC TRANSMIS... PREMIUM PKG, VALUE PKG. \n",
        "======KEY FEATURES INCLUDE: Rear Air, CD Player, Dual Zone A/C. BMW 328i with Crimson Red exterior and Oyster/Black Dakota Leather interior features a Straight 6 Cylinder Engine with 230 HP at 6500 RPM*. \n",
        "======OPTION PACKAGES: PREMIUM PKG Dakota leather seat trim, universal garage door opener, auto-dimming pwr folding exterior mirrors w/2-position memory, auto-dimming rearview mirror w/compass, pwr front seats w/4-way pwr lumbar, 2-position driver seat memory, BMW Assist, Bluetooth interface, pwr tilt/slide glass moonroof, VALUE PKG iPod & USB adapter, Dakota leather seat trim, 17' x 8.0 V-spoke alloy wheels (style 285), P225/45R17 run-flat performance tires, 6-SPEED STEPTRONIC AUTOMATIC TRANSMISSION normal, sport & manual shift modes. Remote Trunk Release, Keyless Entry, Steering Wheel Controls, Child Safety Locks, Electronic Stability Control. \n",
        "======AFFORDABILITY: This 328i is priced $600 below Kelley Blue Book. \n",
        "======OUR OFFERINGS: Here at DCH Subaru of Riverside, everything we do revolves around you. \n",
        "Our various teams are trained to address your needs from the moment you walk through the door, whether you're in the market for your next vehicle or tuning up your current one. Our Riverside showroom is the place to be if you're in the market for a new Subaru or quality pre-owned vehicle from today's top automakers. \n",
        "No matter what you are in search of, we deliver customer happiness! Pricing analysis performed on 8/22/2021. \n",
        "Horsepower calculations based on trim engine configuration. \n",
        "Fuel economy calculations based on original manufacturer data for trim engine configuration. \n",
        "Please confirm the accuracy of the included equipment by calling us prior to purchase.\n",
        "\n",
        "DCH Subaru of Riverside\n",
        "| 862 Lifetime Reviews\n",
        "8043 Indiana Avenue\n",
        "\n",
        "Riverside, California 92504\n",
        "\n",
        "(951) 428-2314\n",
        "'''"
      ],
      "execution_count": null,
      "outputs": []
    },
    {
      "cell_type": "markdown",
      "metadata": {
        "id": "Nl3YWasXLBzu"
      },
      "source": [
        "### 1. Sentence splitting"
      ]
    },
    {
      "cell_type": "markdown",
      "metadata": {
        "id": "sgUM3R0nLBzv"
      },
      "source": [
        "Sentence splitting mostly relies on punctuation marks. \"? \", \"! \"are usually unambiguous, thea problems arise with \". \" Possible solution: develop a binary classifier for sentence segmentation. For each dot \".\" task is to define whether it is the end of the sentence or not."
      ]
    },
    {
      "cell_type": "code",
      "metadata": {
        "id": "LYhFRDtbLBzw",
        "colab": {
          "base_uri": "https://localhost:8080/"
        },
        "outputId": "b5eda2b2-fe8b-42ed-bd1c-14634706899b"
      },
      "source": [
        "from nltk.tokenize import sent_tokenize\n",
        "import nltk\n",
        "\n",
        "nltk.download('punkt')\n",
        "\n",
        "sents = sent_tokenize(text_ru)\n",
        "print(len(sents))\n",
        "sents"
      ],
      "execution_count": null,
      "outputs": [
        {
          "output_type": "stream",
          "name": "stdout",
          "text": [
            "[nltk_data] Downloading package punkt to /root/nltk_data...\n",
            "[nltk_data]   Unzipping tokenizers/punkt.zip.\n",
            "10\n"
          ]
        },
        {
          "output_type": "execute_result",
          "data": {
            "text/plain": [
              "['\\nПродаётся LADA 4x4.',\n",
              " 'ПТС 01.12.2018, куплена 20 января 19 года, 10 000 км пробега.',\n",
              " 'Комплектация полная.',\n",
              " 'Новая в салоне 750 000, отдам за 650 000.',\n",
              " 'Возможен обмен на ВАЗ-2110 или ВАЗ 2109 с вашей доплатой.',\n",
              " 'Краснодар, ул.',\n",
              " 'Миклухо-Маклая, д.',\n",
              " '4/5, подьезд 1 \\nТел.',\n",
              " '8(999)1234567, 8 903 987-65-43, +7 (351) 111 22 33 \\nИ.И.',\n",
              " 'Иванов (Иван Иванович)']"
            ]
          },
          "metadata": {},
          "execution_count": 2
        }
      ]
    },
    {
      "cell_type": "code",
      "metadata": {
        "id": "u_sAttSHLBzy",
        "colab": {
          "base_uri": "https://localhost:8080/"
        },
        "outputId": "50d53116-f35e-4532-cb1c-ef1b82a2d6ad"
      },
      "source": [
        "sents = sent_tokenize(text_en)\n",
        "print(len(sents))\n",
        "sents"
      ],
      "execution_count": null,
      "outputs": [
        {
          "output_type": "stream",
          "name": "stdout",
          "text": [
            "18\n"
          ]
        },
        {
          "output_type": "execute_result",
          "data": {
            "text/plain": [
              "['\\n328i trim.',\n",
              " 'FUEL EFFICIENT 28 MPG Hwy/18 MPG City!, \\nPRICED TO MOVE $600 below Kelley Blue Book!',\n",
              " 'Moonroof, Leather, Dual Zone A/C, CD Player, Rear Air, \\n6-SPEED STEPTRONIC AUTOMATIC TRANSMIS...',\n",
              " 'PREMIUM PKG, VALUE PKG.',\n",
              " '======KEY FEATURES INCLUDE: Rear Air, CD Player, Dual Zone A/C.',\n",
              " 'BMW 328i with Crimson Red exterior and Oyster/Black Dakota Leather interior features a Straight 6 Cylinder Engine with 230 HP at 6500 RPM*.',\n",
              " \"======OPTION PACKAGES: PREMIUM PKG Dakota leather seat trim, universal garage door opener, auto-dimming pwr folding exterior mirrors w/2-position memory, auto-dimming rearview mirror w/compass, pwr front seats w/4-way pwr lumbar, 2-position driver seat memory, BMW Assist, Bluetooth interface, pwr tilt/slide glass moonroof, VALUE PKG iPod & USB adapter, Dakota leather seat trim, 17' x 8.0 V-spoke alloy wheels (style 285), P225/45R17 run-flat performance tires, 6-SPEED STEPTRONIC AUTOMATIC TRANSMISSION normal, sport & manual shift modes.\",\n",
              " 'Remote Trunk Release, Keyless Entry, Steering Wheel Controls, Child Safety Locks, Electronic Stability Control.',\n",
              " '======AFFORDABILITY: This 328i is priced $600 below Kelley Blue Book.',\n",
              " '======OUR OFFERINGS: Here at DCH Subaru of Riverside, everything we do revolves around you.',\n",
              " \"Our various teams are trained to address your needs from the moment you walk through the door, whether you're in the market for your next vehicle or tuning up your current one.\",\n",
              " \"Our Riverside showroom is the place to be if you're in the market for a new Subaru or quality pre-owned vehicle from today's top automakers.\",\n",
              " 'No matter what you are in search of, we deliver customer happiness!',\n",
              " 'Pricing analysis performed on 8/22/2021.',\n",
              " 'Horsepower calculations based on trim engine configuration.',\n",
              " 'Fuel economy calculations based on original manufacturer data for trim engine configuration.',\n",
              " 'Please confirm the accuracy of the included equipment by calling us prior to purchase.',\n",
              " 'DCH Subaru of Riverside\\n| 862 Lifetime Reviews\\n8043 Indiana Avenue\\n\\nRiverside, California 92504\\n\\n(951) 428-2314']"
            ]
          },
          "metadata": {},
          "execution_count": 3
        }
      ]
    },
    {
      "cell_type": "markdown",
      "metadata": {
        "id": "JjRPrEZ5LBzy"
      },
      "source": [
        "## Word level"
      ]
    },
    {
      "cell_type": "markdown",
      "metadata": {
        "id": "9GlM47LsLBzz"
      },
      "source": [
        "<ol><li><b>Tokenization</b> is the very first step in text processing. <br>\n",
        "<li><b>Normalization</b> — mapping to the same lowercase form, removing punctuation, correcting typos, etc. <br>\n",
        "    <b>Stemming</b> — reducing the words to their word stem or root form. The objective of stemming is to reduce related words to the same stem even if the stem is not a dictionary word. For example, connection, connected, connecting word reduce to a common word “connect”.<br>\n",
        "   <b>Lemmatization</b> — unlike stemming, lemmatization reduces words to their base (dictionary) form, reducing the inflected words properly and ensuring that the root word belongs to the language.<br>\n",
        "<li><b>Deleting stopwords</b> — the most common words in any language (like articles, prepositions, pronouns, conjunctions, etc) and does not add much information to the text. The list depends on the task!<br><br>\n",
        "<b>Important! You don't always need all the stages, it all depends on the task!</b>\n",
        "\n"
      ]
    },
    {
      "cell_type": "markdown",
      "metadata": {
        "id": "w2cnR64pLBz0"
      },
      "source": [
        "### 3. Tokenization"
      ]
    },
    {
      "cell_type": "markdown",
      "metadata": {
        "id": "JcSKFYlcLBz1"
      },
      "source": [
        "How many words are there in the following sentence? <br>\n",
        "<i>На дворе трава, на траве дрова, не руби дрова на траве двора.</i>\n",
        "\n",
        "<b>12 tokens:</b> На, дворе, трава, на, траве, дрова, не, руби, дрова, на, траве, двора <br>\n",
        "<b>8 word forms:</b> На/на, дворе, трава, траве, дрова, не, руби, двора<br>\n",
        "<b>6 lemmas:</b> на, не, двор, трава, дрова, рубить<br>\n",
        "\n",
        "Tokens and word forms\n",
        "Word form – a unique word from the text\n",
        "\n",
        "Token – a word form and its position in the text\n",
        "\n",
        "The volume of the corpus is measured in tokens, the volume of the dictionary is measured in word forms or lexemes.\n",
        "\n",
        "Notation\n",
        "𝑁  = number of tokens\n",
        "\n",
        "𝑉  = dictionary (all wordforms)\n",
        "\n",
        "|𝑉|  = number of wordforms in the dictionary"
      ]
    },
    {
      "cell_type": "markdown",
      "metadata": {
        "id": "ach_dzjyLBz1"
      },
      "source": [
        "#### Split text by space "
      ]
    },
    {
      "cell_type": "code",
      "metadata": {
        "id": "BLCbJYDKLBz1",
        "colab": {
          "base_uri": "https://localhost:8080/"
        },
        "outputId": "58983c3b-2df0-4be0-9c44-b7561152fc24"
      },
      "source": [
        "tokens = text_ru.split()\n",
        "print(tokens)\n",
        "len(tokens)"
      ],
      "execution_count": null,
      "outputs": [
        {
          "output_type": "stream",
          "name": "stdout",
          "text": [
            "['Продаётся', 'LADA', '4x4.', 'ПТС', '01.12.2018,', 'куплена', '20', 'января', '19', 'года,', '10', '000', 'км', 'пробега.', 'Комплектация', 'полная.', 'Новая', 'в', 'салоне', '750', '000,', 'отдам', 'за', '650', '000.', 'Возможен', 'обмен', 'на', 'ВАЗ-2110', 'или', 'ВАЗ', '2109', 'с', 'вашей', 'доплатой.', 'Краснодар,', 'ул.', 'Миклухо-Маклая,', 'д.', '4/5,', 'подьезд', '1', 'Тел.', '8(999)1234567,', '8', '903', '987-65-43,', '+7', '(351)', '111', '22', '33', 'И.И.', 'Иванов', '(Иван', 'Иванович)']\n"
          ]
        },
        {
          "output_type": "execute_result",
          "data": {
            "text/plain": [
              "56"
            ]
          },
          "metadata": {},
          "execution_count": 4
        }
      ]
    },
    {
      "cell_type": "code",
      "metadata": {
        "id": "ZNe9aM1VLBz2",
        "colab": {
          "base_uri": "https://localhost:8080/"
        },
        "outputId": "4e041b59-288f-4d5b-c388-76b96cdd32cb"
      },
      "source": [
        "tokens = text_en.split()\n",
        "print(tokens)\n",
        "len(tokens)"
      ],
      "execution_count": null,
      "outputs": [
        {
          "output_type": "stream",
          "name": "stdout",
          "text": [
            "['328i', 'trim.', 'FUEL', 'EFFICIENT', '28', 'MPG', 'Hwy/18', 'MPG', 'City!,', 'PRICED', 'TO', 'MOVE', '$600', 'below', 'Kelley', 'Blue', 'Book!', 'Moonroof,', 'Leather,', 'Dual', 'Zone', 'A/C,', 'CD', 'Player,', 'Rear', 'Air,', '6-SPEED', 'STEPTRONIC', 'AUTOMATIC', 'TRANSMIS...', 'PREMIUM', 'PKG,', 'VALUE', 'PKG.', '======KEY', 'FEATURES', 'INCLUDE:', 'Rear', 'Air,', 'CD', 'Player,', 'Dual', 'Zone', 'A/C.', 'BMW', '328i', 'with', 'Crimson', 'Red', 'exterior', 'and', 'Oyster/Black', 'Dakota', 'Leather', 'interior', 'features', 'a', 'Straight', '6', 'Cylinder', 'Engine', 'with', '230', 'HP', 'at', '6500', 'RPM*.', '======OPTION', 'PACKAGES:', 'PREMIUM', 'PKG', 'Dakota', 'leather', 'seat', 'trim,', 'universal', 'garage', 'door', 'opener,', 'auto-dimming', 'pwr', 'folding', 'exterior', 'mirrors', 'w/2-position', 'memory,', 'auto-dimming', 'rearview', 'mirror', 'w/compass,', 'pwr', 'front', 'seats', 'w/4-way', 'pwr', 'lumbar,', '2-position', 'driver', 'seat', 'memory,', 'BMW', 'Assist,', 'Bluetooth', 'interface,', 'pwr', 'tilt/slide', 'glass', 'moonroof,', 'VALUE', 'PKG', 'iPod', '&', 'USB', 'adapter,', 'Dakota', 'leather', 'seat', 'trim,', \"17'\", 'x', '8.0', 'V-spoke', 'alloy', 'wheels', '(style', '285),', 'P225/45R17', 'run-flat', 'performance', 'tires,', '6-SPEED', 'STEPTRONIC', 'AUTOMATIC', 'TRANSMISSION', 'normal,', 'sport', '&', 'manual', 'shift', 'modes.', 'Remote', 'Trunk', 'Release,', 'Keyless', 'Entry,', 'Steering', 'Wheel', 'Controls,', 'Child', 'Safety', 'Locks,', 'Electronic', 'Stability', 'Control.', '======AFFORDABILITY:', 'This', '328i', 'is', 'priced', '$600', 'below', 'Kelley', 'Blue', 'Book.', '======OUR', 'OFFERINGS:', 'Here', 'at', 'DCH', 'Subaru', 'of', 'Riverside,', 'everything', 'we', 'do', 'revolves', 'around', 'you.', 'Our', 'various', 'teams', 'are', 'trained', 'to', 'address', 'your', 'needs', 'from', 'the', 'moment', 'you', 'walk', 'through', 'the', 'door,', 'whether', \"you're\", 'in', 'the', 'market', 'for', 'your', 'next', 'vehicle', 'or', 'tuning', 'up', 'your', 'current', 'one.', 'Our', 'Riverside', 'showroom', 'is', 'the', 'place', 'to', 'be', 'if', \"you're\", 'in', 'the', 'market', 'for', 'a', 'new', 'Subaru', 'or', 'quality', 'pre-owned', 'vehicle', 'from', \"today's\", 'top', 'automakers.', 'No', 'matter', 'what', 'you', 'are', 'in', 'search', 'of,', 'we', 'deliver', 'customer', 'happiness!', 'Pricing', 'analysis', 'performed', 'on', '8/22/2021.', 'Horsepower', 'calculations', 'based', 'on', 'trim', 'engine', 'configuration.', 'Fuel', 'economy', 'calculations', 'based', 'on', 'original', 'manufacturer', 'data', 'for', 'trim', 'engine', 'configuration.', 'Please', 'confirm', 'the', 'accuracy', 'of', 'the', 'included', 'equipment', 'by', 'calling', 'us', 'prior', 'to', 'purchase.', 'DCH', 'Subaru', 'of', 'Riverside', '|', '862', 'Lifetime', 'Reviews', '8043', 'Indiana', 'Avenue', 'Riverside,', 'California', '92504', '(951)', '428-2314']\n"
          ]
        },
        {
          "output_type": "execute_result",
          "data": {
            "text/plain": [
              "301"
            ]
          },
          "metadata": {},
          "execution_count": 7
        }
      ]
    },
    {
      "cell_type": "markdown",
      "metadata": {
        "id": "m2kJ0AjaLBz2"
      },
      "source": [
        "#### Find all combinations of letters and digits by RE"
      ]
    },
    {
      "cell_type": "code",
      "metadata": {
        "id": "s0GTo-CgLBz3",
        "colab": {
          "base_uri": "https://localhost:8080/"
        },
        "outputId": "868f4faa-a57a-4873-a54b-34d3167ab9a5"
      },
      "source": [
        "import re\n",
        "\n",
        "tokens = re.findall('\\w+', text_ru)\n",
        "print(tokens)\n",
        "len(tokens)"
      ],
      "execution_count": null,
      "outputs": [
        {
          "output_type": "stream",
          "name": "stdout",
          "text": [
            "['Продаётся', 'LADA', '4x4', 'ПТС', '01', '12', '2018', 'куплена', '20', 'января', '19', 'года', '10', '000', 'км', 'пробега', 'Комплектация', 'полная', 'Новая', 'в', 'салоне', '750', '000', 'отдам', 'за', '650', '000', 'Возможен', 'обмен', 'на', 'ВАЗ', '2110', 'или', 'ВАЗ', '2109', 'с', 'вашей', 'доплатой', 'Краснодар', 'ул', 'Миклухо', 'Маклая', 'д', '4', '5', 'подьезд', '1', 'Тел', '8', '999', '1234567', '8', '903', '987', '65', '43', '7', '351', '111', '22', '33', 'И', 'И', 'Иванов', 'Иван', 'Иванович']\n"
          ]
        },
        {
          "output_type": "execute_result",
          "data": {
            "text/plain": [
              "66"
            ]
          },
          "metadata": {},
          "execution_count": 5
        }
      ]
    },
    {
      "cell_type": "code",
      "metadata": {
        "id": "JfvAdwFhLBz3",
        "colab": {
          "base_uri": "https://localhost:8080/"
        },
        "outputId": "a64dd6c5-b2f6-4e50-a443-f2624e5be127"
      },
      "source": [
        "tokens = re.findall('\\w+', text_en)\n",
        "print(tokens)\n",
        "len(tokens)"
      ],
      "execution_count": null,
      "outputs": [
        {
          "output_type": "stream",
          "name": "stdout",
          "text": [
            "['328i', 'trim', 'FUEL', 'EFFICIENT', '28', 'MPG', 'Hwy', '18', 'MPG', 'City', 'PRICED', 'TO', 'MOVE', '600', 'below', 'Kelley', 'Blue', 'Book', 'Moonroof', 'Leather', 'Dual', 'Zone', 'A', 'C', 'CD', 'Player', 'Rear', 'Air', '6', 'SPEED', 'STEPTRONIC', 'AUTOMATIC', 'TRANSMIS', 'PREMIUM', 'PKG', 'VALUE', 'PKG', 'KEY', 'FEATURES', 'INCLUDE', 'Rear', 'Air', 'CD', 'Player', 'Dual', 'Zone', 'A', 'C', 'BMW', '328i', 'with', 'Crimson', 'Red', 'exterior', 'and', 'Oyster', 'Black', 'Dakota', 'Leather', 'interior', 'features', 'a', 'Straight', '6', 'Cylinder', 'Engine', 'with', '230', 'HP', 'at', '6500', 'RPM', 'OPTION', 'PACKAGES', 'PREMIUM', 'PKG', 'Dakota', 'leather', 'seat', 'trim', 'universal', 'garage', 'door', 'opener', 'auto', 'dimming', 'pwr', 'folding', 'exterior', 'mirrors', 'w', '2', 'position', 'memory', 'auto', 'dimming', 'rearview', 'mirror', 'w', 'compass', 'pwr', 'front', 'seats', 'w', '4', 'way', 'pwr', 'lumbar', '2', 'position', 'driver', 'seat', 'memory', 'BMW', 'Assist', 'Bluetooth', 'interface', 'pwr', 'tilt', 'slide', 'glass', 'moonroof', 'VALUE', 'PKG', 'iPod', 'USB', 'adapter', 'Dakota', 'leather', 'seat', 'trim', '17', 'x', '8', '0', 'V', 'spoke', 'alloy', 'wheels', 'style', '285', 'P225', '45R17', 'run', 'flat', 'performance', 'tires', '6', 'SPEED', 'STEPTRONIC', 'AUTOMATIC', 'TRANSMISSION', 'normal', 'sport', 'manual', 'shift', 'modes', 'Remote', 'Trunk', 'Release', 'Keyless', 'Entry', 'Steering', 'Wheel', 'Controls', 'Child', 'Safety', 'Locks', 'Electronic', 'Stability', 'Control', 'AFFORDABILITY', 'This', '328i', 'is', 'priced', '600', 'below', 'Kelley', 'Blue', 'Book', 'OUR', 'OFFERINGS', 'Here', 'at', 'DCH', 'Subaru', 'of', 'Riverside', 'everything', 'we', 'do', 'revolves', 'around', 'you', 'Our', 'various', 'teams', 'are', 'trained', 'to', 'address', 'your', 'needs', 'from', 'the', 'moment', 'you', 'walk', 'through', 'the', 'door', 'whether', 'you', 're', 'in', 'the', 'market', 'for', 'your', 'next', 'vehicle', 'or', 'tuning', 'up', 'your', 'current', 'one', 'Our', 'Riverside', 'showroom', 'is', 'the', 'place', 'to', 'be', 'if', 'you', 're', 'in', 'the', 'market', 'for', 'a', 'new', 'Subaru', 'or', 'quality', 'pre', 'owned', 'vehicle', 'from', 'today', 's', 'top', 'automakers', 'No', 'matter', 'what', 'you', 'are', 'in', 'search', 'of', 'we', 'deliver', 'customer', 'happiness', 'Pricing', 'analysis', 'performed', 'on', '8', '22', '2021', 'Horsepower', 'calculations', 'based', 'on', 'trim', 'engine', 'configuration', 'Fuel', 'economy', 'calculations', 'based', 'on', 'original', 'manufacturer', 'data', 'for', 'trim', 'engine', 'configuration', 'Please', 'confirm', 'the', 'accuracy', 'of', 'the', 'included', 'equipment', 'by', 'calling', 'us', 'prior', 'to', 'purchase', 'DCH', 'Subaru', 'of', 'Riverside', '862', 'Lifetime', 'Reviews', '8043', 'Indiana', 'Avenue', 'Riverside', 'California', '92504', '951', '428', '2314']\n"
          ]
        },
        {
          "output_type": "execute_result",
          "data": {
            "text/plain": [
              "324"
            ]
          },
          "metadata": {},
          "execution_count": 9
        }
      ]
    },
    {
      "cell_type": "markdown",
      "metadata": {
        "id": "gCxzxCw3LBz4"
      },
      "source": [
        "#### NLTK"
      ]
    },
    {
      "cell_type": "code",
      "metadata": {
        "id": "FiGckcy-LBz4",
        "colab": {
          "base_uri": "https://localhost:8080/"
        },
        "outputId": "1917f323-4547-4c47-fc0f-6d43f1442de0"
      },
      "source": [
        "from nltk.tokenize import word_tokenize\n",
        "\n",
        "tokens = word_tokenize(text_ru)\n",
        "print(tokens)\n",
        "len(tokens)"
      ],
      "execution_count": null,
      "outputs": [
        {
          "output_type": "stream",
          "name": "stdout",
          "text": [
            "['Продаётся', 'LADA', '4x4', '.', 'ПТС', '01.12.2018', ',', 'куплена', '20', 'января', '19', 'года', ',', '10', '000', 'км', 'пробега', '.', 'Комплектация', 'полная', '.', 'Новая', 'в', 'салоне', '750', '000', ',', 'отдам', 'за', '650', '000', '.', 'Возможен', 'обмен', 'на', 'ВАЗ-2110', 'или', 'ВАЗ', '2109', 'с', 'вашей', 'доплатой', '.', 'Краснодар', ',', 'ул', '.', 'Миклухо-Маклая', ',', 'д', '.', '4/5', ',', 'подьезд', '1', 'Тел', '.', '8', '(', '999', ')', '1234567', ',', '8', '903', '987-65-43', ',', '+7', '(', '351', ')', '111', '22', '33', 'И.И', '.', 'Иванов', '(', 'Иван', 'Иванович', ')']\n"
          ]
        },
        {
          "output_type": "execute_result",
          "data": {
            "text/plain": [
              "81"
            ]
          },
          "metadata": {},
          "execution_count": 6
        }
      ]
    },
    {
      "cell_type": "code",
      "metadata": {
        "id": "WS5eS3YJLBz5",
        "colab": {
          "base_uri": "https://localhost:8080/"
        },
        "outputId": "12f8ee51-bbdc-4416-fa71-a33a5a1b1866"
      },
      "source": [
        "tokens = word_tokenize(text_en)\n",
        "print(tokens)\n",
        "len(tokens)"
      ],
      "execution_count": null,
      "outputs": [
        {
          "output_type": "stream",
          "name": "stdout",
          "text": [
            "['328i', 'trim', '.', 'FUEL', 'EFFICIENT', '28', 'MPG', 'Hwy/18', 'MPG', 'City', '!', ',', 'PRICED', 'TO', 'MOVE', '$', '600', 'below', 'Kelley', 'Blue', 'Book', '!', 'Moonroof', ',', 'Leather', ',', 'Dual', 'Zone', 'A/C', ',', 'CD', 'Player', ',', 'Rear', 'Air', ',', '6-SPEED', 'STEPTRONIC', 'AUTOMATIC', 'TRANSMIS', '...', 'PREMIUM', 'PKG', ',', 'VALUE', 'PKG', '.', '======KEY', 'FEATURES', 'INCLUDE', ':', 'Rear', 'Air', ',', 'CD', 'Player', ',', 'Dual', 'Zone', 'A/C', '.', 'BMW', '328i', 'with', 'Crimson', 'Red', 'exterior', 'and', 'Oyster/Black', 'Dakota', 'Leather', 'interior', 'features', 'a', 'Straight', '6', 'Cylinder', 'Engine', 'with', '230', 'HP', 'at', '6500', 'RPM*', '.', '======OPTION', 'PACKAGES', ':', 'PREMIUM', 'PKG', 'Dakota', 'leather', 'seat', 'trim', ',', 'universal', 'garage', 'door', 'opener', ',', 'auto-dimming', 'pwr', 'folding', 'exterior', 'mirrors', 'w/2-position', 'memory', ',', 'auto-dimming', 'rearview', 'mirror', 'w/compass', ',', 'pwr', 'front', 'seats', 'w/4-way', 'pwr', 'lumbar', ',', '2-position', 'driver', 'seat', 'memory', ',', 'BMW', 'Assist', ',', 'Bluetooth', 'interface', ',', 'pwr', 'tilt/slide', 'glass', 'moonroof', ',', 'VALUE', 'PKG', 'iPod', '&', 'USB', 'adapter', ',', 'Dakota', 'leather', 'seat', 'trim', ',', '17', \"'\", 'x', '8.0', 'V-spoke', 'alloy', 'wheels', '(', 'style', '285', ')', ',', 'P225/45R17', 'run-flat', 'performance', 'tires', ',', '6-SPEED', 'STEPTRONIC', 'AUTOMATIC', 'TRANSMISSION', 'normal', ',', 'sport', '&', 'manual', 'shift', 'modes', '.', 'Remote', 'Trunk', 'Release', ',', 'Keyless', 'Entry', ',', 'Steering', 'Wheel', 'Controls', ',', 'Child', 'Safety', 'Locks', ',', 'Electronic', 'Stability', 'Control', '.', '======AFFORDABILITY', ':', 'This', '328i', 'is', 'priced', '$', '600', 'below', 'Kelley', 'Blue', 'Book', '.', '======OUR', 'OFFERINGS', ':', 'Here', 'at', 'DCH', 'Subaru', 'of', 'Riverside', ',', 'everything', 'we', 'do', 'revolves', 'around', 'you', '.', 'Our', 'various', 'teams', 'are', 'trained', 'to', 'address', 'your', 'needs', 'from', 'the', 'moment', 'you', 'walk', 'through', 'the', 'door', ',', 'whether', 'you', \"'re\", 'in', 'the', 'market', 'for', 'your', 'next', 'vehicle', 'or', 'tuning', 'up', 'your', 'current', 'one', '.', 'Our', 'Riverside', 'showroom', 'is', 'the', 'place', 'to', 'be', 'if', 'you', \"'re\", 'in', 'the', 'market', 'for', 'a', 'new', 'Subaru', 'or', 'quality', 'pre-owned', 'vehicle', 'from', 'today', \"'s\", 'top', 'automakers', '.', 'No', 'matter', 'what', 'you', 'are', 'in', 'search', 'of', ',', 'we', 'deliver', 'customer', 'happiness', '!', 'Pricing', 'analysis', 'performed', 'on', '8/22/2021', '.', 'Horsepower', 'calculations', 'based', 'on', 'trim', 'engine', 'configuration', '.', 'Fuel', 'economy', 'calculations', 'based', 'on', 'original', 'manufacturer', 'data', 'for', 'trim', 'engine', 'configuration', '.', 'Please', 'confirm', 'the', 'accuracy', 'of', 'the', 'included', 'equipment', 'by', 'calling', 'us', 'prior', 'to', 'purchase', '.', 'DCH', 'Subaru', 'of', 'Riverside', '|', '862', 'Lifetime', 'Reviews', '8043', 'Indiana', 'Avenue', 'Riverside', ',', 'California', '92504', '(', '951', ')', '428-2314']\n"
          ]
        },
        {
          "output_type": "execute_result",
          "data": {
            "text/plain": [
              "364"
            ]
          },
          "metadata": {},
          "execution_count": 11
        }
      ]
    },
    {
      "cell_type": "code",
      "metadata": {
        "id": "zEH0ixmoLBz5",
        "colab": {
          "base_uri": "https://localhost:8080/"
        },
        "outputId": "c03f3017-4399-4a74-a03b-582433736ce8"
      },
      "source": [
        "# tokenizer that specifies on tweets\n",
        "from nltk.tokenize import TweetTokenizer\n",
        "\n",
        "tknzr = TweetTokenizer()\n",
        "tweet = \"@remy This is a cooool #dummysmiley: :-) :-P <3 and some arrows < > -> <--\"\n",
        "print(tknzr.tokenize(tweet))\n",
        "print(word_tokenize(tweet))"
      ],
      "execution_count": null,
      "outputs": [
        {
          "output_type": "stream",
          "name": "stdout",
          "text": [
            "['@remy', 'This', 'is', 'a', 'cooool', '#dummysmiley', ':', ':-)', ':-P', '<3', 'and', 'some', 'arrows', '<', '>', '->', '<--']\n",
            "['@', 'remy', 'This', 'is', 'a', 'cooool', '#', 'dummysmiley', ':', ':', '-', ')', ':', '-P', '<', '3', 'and', 'some', 'arrows', '<', '>', '-', '>', '<', '--']\n"
          ]
        }
      ]
    },
    {
      "cell_type": "markdown",
      "metadata": {
        "id": "kMj9HrvJLBz6"
      },
      "source": [
        "#### Yargy"
      ]
    },
    {
      "cell_type": "code",
      "metadata": {
        "colab": {
          "base_uri": "https://localhost:8080/"
        },
        "id": "-IB8Qsuq-P0o",
        "outputId": "8bda172b-16ea-4a01-83cb-ef09c291bddb"
      },
      "source": [
        "!pip install yargy"
      ],
      "execution_count": null,
      "outputs": [
        {
          "output_type": "stream",
          "name": "stdout",
          "text": [
            "Collecting yargy\n",
            "  Downloading yargy-0.15.0-py3-none-any.whl (41 kB)\n",
            "\u001b[?25l\r\u001b[K     |████████                        | 10 kB 24.7 MB/s eta 0:00:01\r\u001b[K     |████████████████                | 20 kB 31.2 MB/s eta 0:00:01\r\u001b[K     |████████████████████████        | 30 kB 36.5 MB/s eta 0:00:01\r\u001b[K     |███████████████████████████████▉| 40 kB 39.4 MB/s eta 0:00:01\r\u001b[K     |████████████████████████████████| 41 kB 116 kB/s \n",
            "\u001b[?25hCollecting pymorphy2\n",
            "  Downloading pymorphy2-0.9.1-py3-none-any.whl (55 kB)\n",
            "\u001b[?25l\r\u001b[K     |██████                          | 10 kB 37.0 MB/s eta 0:00:01\r\u001b[K     |███████████▉                    | 20 kB 41.5 MB/s eta 0:00:01\r\u001b[K     |█████████████████▊              | 30 kB 46.8 MB/s eta 0:00:01\r\u001b[K     |███████████████████████▋        | 40 kB 51.3 MB/s eta 0:00:01\r\u001b[K     |█████████████████████████████▌  | 51 kB 54.0 MB/s eta 0:00:01\r\u001b[K     |████████████████████████████████| 55 kB 4.2 MB/s \n",
            "\u001b[?25hCollecting pymorphy2-dicts-ru<3.0,>=2.4\n",
            "  Downloading pymorphy2_dicts_ru-2.4.417127.4579844-py2.py3-none-any.whl (8.2 MB)\n",
            "\u001b[K     |████████████████████████████████| 8.2 MB 32.8 MB/s \n",
            "\u001b[?25hRequirement already satisfied: docopt>=0.6 in /usr/local/lib/python3.7/dist-packages (from pymorphy2->yargy) (0.6.2)\n",
            "Collecting dawg-python>=0.7.1\n",
            "  Downloading DAWG_Python-0.7.2-py2.py3-none-any.whl (11 kB)\n",
            "Installing collected packages: pymorphy2-dicts-ru, dawg-python, pymorphy2, yargy\n",
            "Successfully installed dawg-python-0.7.2 pymorphy2-0.9.1 pymorphy2-dicts-ru-2.4.417127.4579844 yargy-0.15.0\n"
          ]
        }
      ]
    },
    {
      "cell_type": "code",
      "metadata": {
        "id": "1FGZ221VLBz6",
        "colab": {
          "base_uri": "https://localhost:8080/"
        },
        "outputId": "070baa87-779c-42d5-f07e-7d4fc554b9d0"
      },
      "source": [
        "# the most detailed tokenization\n",
        "from yargy.tokenizer import MorphTokenizer\n",
        "\n",
        "tknzr = MorphTokenizer()\n",
        "tokens = [_.value for _ in tknzr(text_ru)]\n",
        "print(tokens)\n",
        "len(tokens)"
      ],
      "execution_count": null,
      "outputs": [
        {
          "output_type": "stream",
          "name": "stdout",
          "text": [
            "['\\n', 'Продаётся', 'LADA', '4', 'x', '4', '.', 'ПТС', '01', '.', '12', '.', '2018', ',', 'куплена', '20', 'января', '19', 'года', ',', '10', '000', 'км', 'пробега', '.', '\\n', 'Комплектация', 'полная', '.', 'Новая', 'в', 'салоне', '750', '000', ',', 'отдам', 'за', '650', '000', '.', '\\n', 'Возможен', 'обмен', 'на', 'ВАЗ', '-', '2110', 'или', 'ВАЗ', '2109', 'с', 'вашей', 'доплатой', '.', '\\n', 'Краснодар', ',', 'ул', '.', 'Миклухо', '-', 'Маклая', ',', 'д', '.', '4', '/', '5', ',', 'подьезд', '1', '\\n', 'Тел', '.', '8', '(', '999', ')', '1234567', ',', '8', '903', '987', '-', '65', '-', '43', ',', '+', '7', '(', '351', ')', '111', '22', '33', '\\n', 'И', '.', 'И', '.', 'Иванов', '(', 'Иван', 'Иванович', ')', '\\n']\n"
          ]
        },
        {
          "output_type": "execute_result",
          "data": {
            "text/plain": [
              "107"
            ]
          },
          "metadata": {},
          "execution_count": 15
        }
      ]
    },
    {
      "cell_type": "code",
      "metadata": {
        "id": "fo-jxNG3LBz6",
        "colab": {
          "base_uri": "https://localhost:8080/"
        },
        "outputId": "a9864ac1-fa21-43e9-ec54-27cd1f2999ab"
      },
      "source": [
        "tknzr = MorphTokenizer()\n",
        "tokens = [_.value for _ in tknzr(text_en)]\n",
        "print(tokens)\n",
        "len(tokens)"
      ],
      "execution_count": null,
      "outputs": [
        {
          "output_type": "stream",
          "name": "stdout",
          "text": [
            "['\\n', '328', 'i', 'trim', '.', 'FUEL', 'EFFICIENT', '28', 'MPG', 'Hwy', '/', '18', 'MPG', 'City', '!', ',', '\\n', 'PRICED', 'TO', 'MOVE', '$', '600', 'below', 'Kelley', 'Blue', 'Book', '!', 'Moonroof', ',', 'Leather', ',', 'Dual', 'Zone', 'A', '/', 'C', ',', 'CD', 'Player', ',', 'Rear', 'Air', ',', '\\n', '6', '-', 'SPEED', 'STEPTRONIC', 'AUTOMATIC', 'TRANSMIS', '.', '.', '.', 'PREMIUM', 'PKG', ',', 'VALUE', 'PKG', '.', '\\n', '=', '=', '=', '=', '=', '=', 'KEY', 'FEATURES', 'INCLUDE', ':', 'Rear', 'Air', ',', 'CD', 'Player', ',', 'Dual', 'Zone', 'A', '/', 'C', '.', 'BMW', '328', 'i', 'with', 'Crimson', 'Red', 'exterior', 'and', 'Oyster', '/', 'Black', 'Dakota', 'Leather', 'interior', 'features', 'a', 'Straight', '6', 'Cylinder', 'Engine', 'with', '230', 'HP', 'at', '6500', 'RPM', '*', '.', '\\n', '=', '=', '=', '=', '=', '=', 'OPTION', 'PACKAGES', ':', 'PREMIUM', 'PKG', 'Dakota', 'leather', 'seat', 'trim', ',', 'universal', 'garage', 'door', 'opener', ',', 'auto', '-', 'dimming', 'pwr', 'folding', 'exterior', 'mirrors', 'w', '/', '2', '-', 'position', 'memory', ',', 'auto', '-', 'dimming', 'rearview', 'mirror', 'w', '/', 'compass', ',', 'pwr', 'front', 'seats', 'w', '/', '4', '-', 'way', 'pwr', 'lumbar', ',', '2', '-', 'position', 'driver', 'seat', 'memory', ',', 'BMW', 'Assist', ',', 'Bluetooth', 'interface', ',', 'pwr', 'tilt', '/', 'slide', 'glass', 'moonroof', ',', 'VALUE', 'PKG', 'iPod', '&', 'USB', 'adapter', ',', 'Dakota', 'leather', 'seat', 'trim', ',', '17', \"'\", 'x', '8', '.', '0', 'V', '-', 'spoke', 'alloy', 'wheels', '(', 'style', '285', ')', ',', 'P', '225', '/', '45', 'R', '17', 'run', '-', 'flat', 'performance', 'tires', ',', '6', '-', 'SPEED', 'STEPTRONIC', 'AUTOMATIC', 'TRANSMISSION', 'normal', ',', 'sport', '&', 'manual', 'shift', 'modes', '.', 'Remote', 'Trunk', 'Release', ',', 'Keyless', 'Entry', ',', 'Steering', 'Wheel', 'Controls', ',', 'Child', 'Safety', 'Locks', ',', 'Electronic', 'Stability', 'Control', '.', '\\n', '=', '=', '=', '=', '=', '=', 'AFFORDABILITY', ':', 'This', '328', 'i', 'is', 'priced', '$', '600', 'below', 'Kelley', 'Blue', 'Book', '.', '\\n', '=', '=', '=', '=', '=', '=', 'OUR', 'OFFERINGS', ':', 'Here', 'at', 'DCH', 'Subaru', 'of', 'Riverside', ',', 'everything', 'we', 'do', 'revolves', 'around', 'you', '.', '\\n', 'Our', 'various', 'teams', 'are', 'trained', 'to', 'address', 'your', 'needs', 'from', 'the', 'moment', 'you', 'walk', 'through', 'the', 'door', ',', 'whether', 'you', \"'\", 're', 'in', 'the', 'market', 'for', 'your', 'next', 'vehicle', 'or', 'tuning', 'up', 'your', 'current', 'one', '.', 'Our', 'Riverside', 'showroom', 'is', 'the', 'place', 'to', 'be', 'if', 'you', \"'\", 're', 'in', 'the', 'market', 'for', 'a', 'new', 'Subaru', 'or', 'quality', 'pre', '-', 'owned', 'vehicle', 'from', 'today', \"'\", 's', 'top', 'automakers', '.', '\\n', 'No', 'matter', 'what', 'you', 'are', 'in', 'search', 'of', ',', 'we', 'deliver', 'customer', 'happiness', '!', 'Pricing', 'analysis', 'performed', 'on', '8', '/', '22', '/', '2021', '.', '\\n', 'Horsepower', 'calculations', 'based', 'on', 'trim', 'engine', 'configuration', '.', '\\n', 'Fuel', 'economy', 'calculations', 'based', 'on', 'original', 'manufacturer', 'data', 'for', 'trim', 'engine', 'configuration', '.', '\\n', 'Please', 'confirm', 'the', 'accuracy', 'of', 'the', 'included', 'equipment', 'by', 'calling', 'us', 'prior', 'to', 'purchase', '.', '\\n\\n', 'DCH', 'Subaru', 'of', 'Riverside', '\\n', '|', '862', 'Lifetime', 'Reviews', '\\n', '8043', 'Indiana', 'Avenue', '\\n\\n', 'Riverside', ',', 'California', '92504', '\\n\\n', '(', '951', ')', '428', '-', '2314', '\\n']\n"
          ]
        },
        {
          "output_type": "execute_result",
          "data": {
            "text/plain": [
              "464"
            ]
          },
          "metadata": {},
          "execution_count": 16
        }
      ]
    },
    {
      "cell_type": "markdown",
      "metadata": {
        "id": "zMV5rp_MLBz7"
      },
      "source": [
        "#### Spacy"
      ]
    },
    {
      "cell_type": "markdown",
      "metadata": {
        "id": "w2xW8S1nLBz7"
      },
      "source": [
        "https://spacy.io/models/ru"
      ]
    },
    {
      "cell_type": "code",
      "metadata": {
        "scrolled": true,
        "id": "7YLJxA9iLBz7",
        "colab": {
          "base_uri": "https://localhost:8080/"
        },
        "outputId": "a2896226-68d2-44c5-9fa8-e504e412b54e"
      },
      "source": [
        "!python3.7 -m spacy download en_core_web_sm"
      ],
      "execution_count": null,
      "outputs": [
        {
          "output_type": "stream",
          "name": "stdout",
          "text": [
            "Collecting en_core_web_sm==2.2.5\n",
            "  Downloading https://github.com/explosion/spacy-models/releases/download/en_core_web_sm-2.2.5/en_core_web_sm-2.2.5.tar.gz (12.0 MB)\n",
            "\u001b[K     |████████████████████████████████| 12.0 MB 27.8 MB/s \n",
            "\u001b[?25hRequirement already satisfied: spacy>=2.2.2 in /usr/local/lib/python3.7/dist-packages (from en_core_web_sm==2.2.5) (2.2.4)\n",
            "Requirement already satisfied: requests<3.0.0,>=2.13.0 in /usr/local/lib/python3.7/dist-packages (from spacy>=2.2.2->en_core_web_sm==2.2.5) (2.23.0)\n",
            "Requirement already satisfied: thinc==7.4.0 in /usr/local/lib/python3.7/dist-packages (from spacy>=2.2.2->en_core_web_sm==2.2.5) (7.4.0)\n",
            "Requirement already satisfied: tqdm<5.0.0,>=4.38.0 in /usr/local/lib/python3.7/dist-packages (from spacy>=2.2.2->en_core_web_sm==2.2.5) (4.62.3)\n",
            "Requirement already satisfied: setuptools in /usr/local/lib/python3.7/dist-packages (from spacy>=2.2.2->en_core_web_sm==2.2.5) (57.4.0)\n",
            "Requirement already satisfied: numpy>=1.15.0 in /usr/local/lib/python3.7/dist-packages (from spacy>=2.2.2->en_core_web_sm==2.2.5) (1.19.5)\n",
            "Requirement already satisfied: plac<1.2.0,>=0.9.6 in /usr/local/lib/python3.7/dist-packages (from spacy>=2.2.2->en_core_web_sm==2.2.5) (1.1.3)\n",
            "Requirement already satisfied: murmurhash<1.1.0,>=0.28.0 in /usr/local/lib/python3.7/dist-packages (from spacy>=2.2.2->en_core_web_sm==2.2.5) (1.0.6)\n",
            "Requirement already satisfied: wasabi<1.1.0,>=0.4.0 in /usr/local/lib/python3.7/dist-packages (from spacy>=2.2.2->en_core_web_sm==2.2.5) (0.8.2)\n",
            "Requirement already satisfied: catalogue<1.1.0,>=0.0.7 in /usr/local/lib/python3.7/dist-packages (from spacy>=2.2.2->en_core_web_sm==2.2.5) (1.0.0)\n",
            "Requirement already satisfied: srsly<1.1.0,>=1.0.2 in /usr/local/lib/python3.7/dist-packages (from spacy>=2.2.2->en_core_web_sm==2.2.5) (1.0.5)\n",
            "Requirement already satisfied: blis<0.5.0,>=0.4.0 in /usr/local/lib/python3.7/dist-packages (from spacy>=2.2.2->en_core_web_sm==2.2.5) (0.4.1)\n",
            "Requirement already satisfied: preshed<3.1.0,>=3.0.2 in /usr/local/lib/python3.7/dist-packages (from spacy>=2.2.2->en_core_web_sm==2.2.5) (3.0.6)\n",
            "Requirement already satisfied: cymem<2.1.0,>=2.0.2 in /usr/local/lib/python3.7/dist-packages (from spacy>=2.2.2->en_core_web_sm==2.2.5) (2.0.6)\n",
            "Requirement already satisfied: importlib-metadata>=0.20 in /usr/local/lib/python3.7/dist-packages (from catalogue<1.1.0,>=0.0.7->spacy>=2.2.2->en_core_web_sm==2.2.5) (4.8.2)\n",
            "Requirement already satisfied: typing-extensions>=3.6.4 in /usr/local/lib/python3.7/dist-packages (from importlib-metadata>=0.20->catalogue<1.1.0,>=0.0.7->spacy>=2.2.2->en_core_web_sm==2.2.5) (3.10.0.2)\n",
            "Requirement already satisfied: zipp>=0.5 in /usr/local/lib/python3.7/dist-packages (from importlib-metadata>=0.20->catalogue<1.1.0,>=0.0.7->spacy>=2.2.2->en_core_web_sm==2.2.5) (3.6.0)\n",
            "Requirement already satisfied: certifi>=2017.4.17 in /usr/local/lib/python3.7/dist-packages (from requests<3.0.0,>=2.13.0->spacy>=2.2.2->en_core_web_sm==2.2.5) (2021.10.8)\n",
            "Requirement already satisfied: idna<3,>=2.5 in /usr/local/lib/python3.7/dist-packages (from requests<3.0.0,>=2.13.0->spacy>=2.2.2->en_core_web_sm==2.2.5) (2.10)\n",
            "Requirement already satisfied: urllib3!=1.25.0,!=1.25.1,<1.26,>=1.21.1 in /usr/local/lib/python3.7/dist-packages (from requests<3.0.0,>=2.13.0->spacy>=2.2.2->en_core_web_sm==2.2.5) (1.24.3)\n",
            "Requirement already satisfied: chardet<4,>=3.0.2 in /usr/local/lib/python3.7/dist-packages (from requests<3.0.0,>=2.13.0->spacy>=2.2.2->en_core_web_sm==2.2.5) (3.0.4)\n",
            "\u001b[38;5;2m✔ Download and installation successful\u001b[0m\n",
            "You can now load the model via spacy.load('en_core_web_sm')\n"
          ]
        }
      ]
    },
    {
      "cell_type": "code",
      "metadata": {
        "id": "L9IdnyX3LBz7",
        "colab": {
          "base_uri": "https://localhost:8080/"
        },
        "outputId": "d0c1ebe2-01dc-410d-847c-f43f14a7f213"
      },
      "source": [
        "import spacy\n",
        "\n",
        "nlp = spacy.load(\"en_core_web_sm\")\n",
        "doc = nlp(text_en)\n",
        "tokens = [token.text for token in doc]\n",
        "print(tokens)\n",
        "len(tokens)"
      ],
      "execution_count": null,
      "outputs": [
        {
          "output_type": "stream",
          "name": "stdout",
          "text": [
            "['\\n', '328i', 'trim', '.', 'FUEL', 'EFFICIENT', '28', 'MPG', 'Hwy/18', 'MPG', 'City', '!', ',', '\\n', 'PRICED', 'TO', 'MOVE', '$', '600', 'below', 'Kelley', 'Blue', 'Book', '!', 'Moonroof', ',', 'Leather', ',', 'Dual', 'Zone', 'A', '/', 'C', ',', 'CD', 'Player', ',', 'Rear', 'Air', ',', '\\n', '6-SPEED', 'STEPTRONIC', 'AUTOMATIC', 'TRANSMIS', '...', 'PREMIUM', 'PKG', ',', 'VALUE', 'PKG', '.', '\\n', '=', '=', '=', '=', '=', '=', 'KEY', 'FEATURES', 'INCLUDE', ':', 'Rear', 'Air', ',', 'CD', 'Player', ',', 'Dual', 'Zone', 'A', '/', 'C.', 'BMW', '328i', 'with', 'Crimson', 'Red', 'exterior', 'and', 'Oyster', '/', 'Black', 'Dakota', 'Leather', 'interior', 'features', 'a', 'Straight', '6', 'Cylinder', 'Engine', 'with', '230', 'HP', 'at', '6500', 'RPM', '*', '.', '\\n', '=', '=', '=', '=', '=', '=', 'OPTION', 'PACKAGES', ':', 'PREMIUM', 'PKG', 'Dakota', 'leather', 'seat', 'trim', ',', 'universal', 'garage', 'door', 'opener', ',', 'auto', '-', 'dimming', 'pwr', 'folding', 'exterior', 'mirrors', 'w/2-position', 'memory', ',', 'auto', '-', 'dimming', 'rearview', 'mirror', 'w', '/', 'compass', ',', 'pwr', 'front', 'seats', 'w/4-way', 'pwr', 'lumbar', ',', '2-position', 'driver', 'seat', 'memory', ',', 'BMW', 'Assist', ',', 'Bluetooth', 'interface', ',', 'pwr', 'tilt', '/', 'slide', 'glass', 'moonroof', ',', 'VALUE', 'PKG', 'iPod', '&', 'USB', 'adapter', ',', 'Dakota', 'leather', 'seat', 'trim', ',', '17', \"'\", 'x', '8.0', 'V', '-', 'spoke', 'alloy', 'wheels', '(', 'style', '285', ')', ',', 'P225/45R17', 'run', '-', 'flat', 'performance', 'tires', ',', '6-SPEED', 'STEPTRONIC', 'AUTOMATIC', 'TRANSMISSION', 'normal', ',', 'sport', '&', 'manual', 'shift', 'modes', '.', 'Remote', 'Trunk', 'Release', ',', 'Keyless', 'Entry', ',', 'Steering', 'Wheel', 'Controls', ',', 'Child', 'Safety', 'Locks', ',', 'Electronic', 'Stability', 'Control', '.', '\\n', '=', '=', '=', '=', '=', '=', 'AFFORDABILITY', ':', 'This', '328i', 'is', 'priced', '$', '600', 'below', 'Kelley', 'Blue', 'Book', '.', '\\n', '=', '=', '=', '=', '=', '=', 'OUR', 'OFFERINGS', ':', 'Here', 'at', 'DCH', 'Subaru', 'of', 'Riverside', ',', 'everything', 'we', 'do', 'revolves', 'around', 'you', '.', '\\n', 'Our', 'various', 'teams', 'are', 'trained', 'to', 'address', 'your', 'needs', 'from', 'the', 'moment', 'you', 'walk', 'through', 'the', 'door', ',', 'whether', 'you', \"'re\", 'in', 'the', 'market', 'for', 'your', 'next', 'vehicle', 'or', 'tuning', 'up', 'your', 'current', 'one', '.', 'Our', 'Riverside', 'showroom', 'is', 'the', 'place', 'to', 'be', 'if', 'you', \"'re\", 'in', 'the', 'market', 'for', 'a', 'new', 'Subaru', 'or', 'quality', 'pre', '-', 'owned', 'vehicle', 'from', 'today', \"'s\", 'top', 'automakers', '.', '\\n', 'No', 'matter', 'what', 'you', 'are', 'in', 'search', 'of', ',', 'we', 'deliver', 'customer', 'happiness', '!', 'Pricing', 'analysis', 'performed', 'on', '8/22/2021', '.', '\\n', 'Horsepower', 'calculations', 'based', 'on', 'trim', 'engine', 'configuration', '.', '\\n', 'Fuel', 'economy', 'calculations', 'based', 'on', 'original', 'manufacturer', 'data', 'for', 'trim', 'engine', 'configuration', '.', '\\n', 'Please', 'confirm', 'the', 'accuracy', 'of', 'the', 'included', 'equipment', 'by', 'calling', 'us', 'prior', 'to', 'purchase', '.', '\\n\\n', 'DCH', 'Subaru', 'of', 'Riverside', '\\n', '|', '862', 'Lifetime', 'Reviews', '\\n', '8043', 'Indiana', 'Avenue', '\\n\\n', 'Riverside', ',', 'California', '92504', '\\n\\n', '(', '951', ')', '428', '-', '2314', '\\n']\n"
          ]
        },
        {
          "output_type": "execute_result",
          "data": {
            "text/plain": [
              "428"
            ]
          },
          "metadata": {},
          "execution_count": 18
        }
      ]
    },
    {
      "cell_type": "code",
      "metadata": {
        "id": "3ZR9cX63LBz8",
        "colab": {
          "base_uri": "https://localhost:8080/"
        },
        "outputId": "79e0d08f-64a3-49b8-d1bb-58554d3a7df8"
      },
      "source": [
        "!python3.7 -m spacy download ru_core_news_sm"
      ],
      "execution_count": null,
      "outputs": [
        {
          "output_type": "stream",
          "name": "stdout",
          "text": [
            "\n",
            "\u001b[38;5;1m✘ No compatible model found for 'ru_core_news_sm' (spaCy v2.2.4).\u001b[0m\n",
            "\n"
          ]
        }
      ]
    },
    {
      "cell_type": "code",
      "metadata": {
        "id": "RG5qin72LBz8",
        "colab": {
          "base_uri": "https://localhost:8080/",
          "height": 374
        },
        "outputId": "25f6af62-a2ed-4993-c79d-d479890c4f49"
      },
      "source": [
        "nlp = spacy.load(\"ru_core_news_sm\")\n",
        "doc = nlp(text_ru)\n",
        "tokens = [token.text for token in doc]\n",
        "print(tokens)\n",
        "len(tokens)"
      ],
      "execution_count": null,
      "outputs": [
        {
          "output_type": "error",
          "ename": "OSError",
          "evalue": "ignored",
          "traceback": [
            "\u001b[0;31m---------------------------------------------------------------------------\u001b[0m",
            "\u001b[0;31mOSError\u001b[0m                                   Traceback (most recent call last)",
            "\u001b[0;32m<ipython-input-20-e6cbbf975d6f>\u001b[0m in \u001b[0;36m<module>\u001b[0;34m()\u001b[0m\n\u001b[0;32m----> 1\u001b[0;31m \u001b[0mnlp\u001b[0m \u001b[0;34m=\u001b[0m \u001b[0mspacy\u001b[0m\u001b[0;34m.\u001b[0m\u001b[0mload\u001b[0m\u001b[0;34m(\u001b[0m\u001b[0;34m\"ru_core_news_sm\"\u001b[0m\u001b[0;34m)\u001b[0m\u001b[0;34m\u001b[0m\u001b[0;34m\u001b[0m\u001b[0m\n\u001b[0m\u001b[1;32m      2\u001b[0m \u001b[0mdoc\u001b[0m \u001b[0;34m=\u001b[0m \u001b[0mnlp\u001b[0m\u001b[0;34m(\u001b[0m\u001b[0mtext_ru\u001b[0m\u001b[0;34m)\u001b[0m\u001b[0;34m\u001b[0m\u001b[0;34m\u001b[0m\u001b[0m\n\u001b[1;32m      3\u001b[0m \u001b[0mtokens\u001b[0m \u001b[0;34m=\u001b[0m \u001b[0;34m[\u001b[0m\u001b[0mtoken\u001b[0m\u001b[0;34m.\u001b[0m\u001b[0mtext\u001b[0m \u001b[0;32mfor\u001b[0m \u001b[0mtoken\u001b[0m \u001b[0;32min\u001b[0m \u001b[0mdoc\u001b[0m\u001b[0;34m]\u001b[0m\u001b[0;34m\u001b[0m\u001b[0;34m\u001b[0m\u001b[0m\n\u001b[1;32m      4\u001b[0m \u001b[0mprint\u001b[0m\u001b[0;34m(\u001b[0m\u001b[0mtokens\u001b[0m\u001b[0;34m)\u001b[0m\u001b[0;34m\u001b[0m\u001b[0;34m\u001b[0m\u001b[0m\n\u001b[1;32m      5\u001b[0m \u001b[0mlen\u001b[0m\u001b[0;34m(\u001b[0m\u001b[0mtokens\u001b[0m\u001b[0;34m)\u001b[0m\u001b[0;34m\u001b[0m\u001b[0;34m\u001b[0m\u001b[0m\n",
            "\u001b[0;32m/usr/local/lib/python3.7/dist-packages/spacy/__init__.py\u001b[0m in \u001b[0;36mload\u001b[0;34m(name, **overrides)\u001b[0m\n\u001b[1;32m     28\u001b[0m     \u001b[0;32mif\u001b[0m \u001b[0mdepr_path\u001b[0m \u001b[0;32mnot\u001b[0m \u001b[0;32min\u001b[0m \u001b[0;34m(\u001b[0m\u001b[0;32mTrue\u001b[0m\u001b[0;34m,\u001b[0m \u001b[0;32mFalse\u001b[0m\u001b[0;34m,\u001b[0m \u001b[0;32mNone\u001b[0m\u001b[0;34m)\u001b[0m\u001b[0;34m:\u001b[0m\u001b[0;34m\u001b[0m\u001b[0;34m\u001b[0m\u001b[0m\n\u001b[1;32m     29\u001b[0m         \u001b[0mdeprecation_warning\u001b[0m\u001b[0;34m(\u001b[0m\u001b[0mWarnings\u001b[0m\u001b[0;34m.\u001b[0m\u001b[0mW001\u001b[0m\u001b[0;34m.\u001b[0m\u001b[0mformat\u001b[0m\u001b[0;34m(\u001b[0m\u001b[0mpath\u001b[0m\u001b[0;34m=\u001b[0m\u001b[0mdepr_path\u001b[0m\u001b[0;34m)\u001b[0m\u001b[0;34m)\u001b[0m\u001b[0;34m\u001b[0m\u001b[0;34m\u001b[0m\u001b[0m\n\u001b[0;32m---> 30\u001b[0;31m     \u001b[0;32mreturn\u001b[0m \u001b[0mutil\u001b[0m\u001b[0;34m.\u001b[0m\u001b[0mload_model\u001b[0m\u001b[0;34m(\u001b[0m\u001b[0mname\u001b[0m\u001b[0;34m,\u001b[0m \u001b[0;34m**\u001b[0m\u001b[0moverrides\u001b[0m\u001b[0;34m)\u001b[0m\u001b[0;34m\u001b[0m\u001b[0;34m\u001b[0m\u001b[0m\n\u001b[0m\u001b[1;32m     31\u001b[0m \u001b[0;34m\u001b[0m\u001b[0m\n\u001b[1;32m     32\u001b[0m \u001b[0;34m\u001b[0m\u001b[0m\n",
            "\u001b[0;32m/usr/local/lib/python3.7/dist-packages/spacy/util.py\u001b[0m in \u001b[0;36mload_model\u001b[0;34m(name, **overrides)\u001b[0m\n\u001b[1;32m    167\u001b[0m     \u001b[0;32melif\u001b[0m \u001b[0mhasattr\u001b[0m\u001b[0;34m(\u001b[0m\u001b[0mname\u001b[0m\u001b[0;34m,\u001b[0m \u001b[0;34m\"exists\"\u001b[0m\u001b[0;34m)\u001b[0m\u001b[0;34m:\u001b[0m  \u001b[0;31m# Path or Path-like to model data\u001b[0m\u001b[0;34m\u001b[0m\u001b[0;34m\u001b[0m\u001b[0m\n\u001b[1;32m    168\u001b[0m         \u001b[0;32mreturn\u001b[0m \u001b[0mload_model_from_path\u001b[0m\u001b[0;34m(\u001b[0m\u001b[0mname\u001b[0m\u001b[0;34m,\u001b[0m \u001b[0;34m**\u001b[0m\u001b[0moverrides\u001b[0m\u001b[0;34m)\u001b[0m\u001b[0;34m\u001b[0m\u001b[0;34m\u001b[0m\u001b[0m\n\u001b[0;32m--> 169\u001b[0;31m     \u001b[0;32mraise\u001b[0m \u001b[0mIOError\u001b[0m\u001b[0;34m(\u001b[0m\u001b[0mErrors\u001b[0m\u001b[0;34m.\u001b[0m\u001b[0mE050\u001b[0m\u001b[0;34m.\u001b[0m\u001b[0mformat\u001b[0m\u001b[0;34m(\u001b[0m\u001b[0mname\u001b[0m\u001b[0;34m=\u001b[0m\u001b[0mname\u001b[0m\u001b[0;34m)\u001b[0m\u001b[0;34m)\u001b[0m\u001b[0;34m\u001b[0m\u001b[0;34m\u001b[0m\u001b[0m\n\u001b[0m\u001b[1;32m    170\u001b[0m \u001b[0;34m\u001b[0m\u001b[0m\n\u001b[1;32m    171\u001b[0m \u001b[0;34m\u001b[0m\u001b[0m\n",
            "\u001b[0;31mOSError\u001b[0m: [E050] Can't find model 'ru_core_news_sm'. It doesn't seem to be a shortcut link, a Python package or a valid path to a data directory."
          ]
        }
      ]
    },
    {
      "cell_type": "markdown",
      "metadata": {
        "id": "DR1k3nciLBz8"
      },
      "source": [
        "### 4. Punctuation removal"
      ]
    },
    {
      "cell_type": "code",
      "metadata": {
        "id": "eN-iwq_7LBz8",
        "colab": {
          "base_uri": "https://localhost:8080/",
          "height": 35
        },
        "outputId": "4859dbc8-03ab-4a9d-f6a5-85bf331178cf"
      },
      "source": [
        "from string import punctuation\n",
        "\n",
        "punctuation"
      ],
      "execution_count": null,
      "outputs": [
        {
          "output_type": "execute_result",
          "data": {
            "application/vnd.google.colaboratory.intrinsic+json": {
              "type": "string"
            },
            "text/plain": [
              "'!\"#$%&\\'()*+,-./:;<=>?@[\\\\]^_`{|}~'"
            ]
          },
          "metadata": {},
          "execution_count": 7
        }
      ]
    },
    {
      "cell_type": "code",
      "metadata": {
        "id": "bIUwr_gFLBz9",
        "colab": {
          "base_uri": "https://localhost:8080/"
        },
        "outputId": "d50d004f-6eb8-4dd3-be4e-15cf4302cdf0"
      },
      "source": [
        "print(word_tokenize(text_ru))"
      ],
      "execution_count": null,
      "outputs": [
        {
          "output_type": "stream",
          "name": "stdout",
          "text": [
            "['Продаётся', 'LADA', '4x4', '.', 'ПТС', '01.12.2018', ',', 'куплена', '20', 'января', '19', 'года', ',', '10', '000', 'км', 'пробега', '.', 'Комплектация', 'полная', '.', 'Новая', 'в', 'салоне', '750', '000', ',', 'отдам', 'за', '650', '000', '.', 'Возможен', 'обмен', 'на', 'ВАЗ-2110', 'или', 'ВАЗ', '2109', 'с', 'вашей', 'доплатой', '.', 'Краснодар', ',', 'ул', '.', 'Миклухо-Маклая', ',', 'д', '.', '4/5', ',', 'подьезд', '1', 'Тел', '.', '8', '(', '999', ')', '1234567', ',', '8', '903', '987-65-43', ',', '+7', '(', '351', ')', '111', '22', '33', 'И.И', '.', 'Иванов', '(', 'Иван', 'Иванович', ')']\n"
          ]
        }
      ]
    },
    {
      "cell_type": "code",
      "metadata": {
        "id": "L-2GAnWLLBz9",
        "colab": {
          "base_uri": "https://localhost:8080/"
        },
        "outputId": "cac36a91-ed71-4bd8-d987-d73e74688a7d"
      },
      "source": [
        "clean_words_ru = [w.strip(punctuation) for w in word_tokenize(text_ru)]\n",
        "print(clean_words_ru)"
      ],
      "execution_count": null,
      "outputs": [
        {
          "output_type": "stream",
          "name": "stdout",
          "text": [
            "['Продаётся', 'LADA', '4x4', '', 'ПТС', '01.12.2018', '', 'куплена', '20', 'января', '19', 'года', '', '10', '000', 'км', 'пробега', '', 'Комплектация', 'полная', '', 'Новая', 'в', 'салоне', '750', '000', '', 'отдам', 'за', '650', '000', '', 'Возможен', 'обмен', 'на', 'ВАЗ-2110', 'или', 'ВАЗ', '2109', 'с', 'вашей', 'доплатой', '', 'Краснодар', '', 'ул', '', 'Миклухо-Маклая', '', 'д', '', '4/5', '', 'подьезд', '1', 'Тел', '', '8', '', '999', '', '1234567', '', '8', '903', '987-65-43', '', '7', '', '351', '', '111', '22', '33', 'И.И', '', 'Иванов', '', 'Иван', 'Иванович', '']\n"
          ]
        }
      ]
    },
    {
      "cell_type": "code",
      "metadata": {
        "id": "e_LkF5MOLBz9",
        "colab": {
          "base_uri": "https://localhost:8080/"
        },
        "outputId": "2af688e9-0ae8-483a-ea33-ab7202ef8713"
      },
      "source": [
        "clean_words_en = [w.strip(punctuation) for w in word_tokenize(text_en)]\n",
        "print(clean_words_en)"
      ],
      "execution_count": null,
      "outputs": [
        {
          "output_type": "stream",
          "name": "stdout",
          "text": [
            "['328i', 'trim', '', 'FUEL', 'EFFICIENT', '28', 'MPG', 'Hwy/18', 'MPG', 'City', '', '', 'PRICED', 'TO', 'MOVE', '', '600', 'below', 'Kelley', 'Blue', 'Book', '', 'Moonroof', '', 'Leather', '', 'Dual', 'Zone', 'A/C', '', 'CD', 'Player', '', 'Rear', 'Air', '', '6-SPEED', 'STEPTRONIC', 'AUTOMATIC', 'TRANSMIS', '', 'PREMIUM', 'PKG', '', 'VALUE', 'PKG', '', 'KEY', 'FEATURES', 'INCLUDE', '', 'Rear', 'Air', '', 'CD', 'Player', '', 'Dual', 'Zone', 'A/C', '', 'BMW', '328i', 'with', 'Crimson', 'Red', 'exterior', 'and', 'Oyster/Black', 'Dakota', 'Leather', 'interior', 'features', 'a', 'Straight', '6', 'Cylinder', 'Engine', 'with', '230', 'HP', 'at', '6500', 'RPM', '', 'OPTION', 'PACKAGES', '', 'PREMIUM', 'PKG', 'Dakota', 'leather', 'seat', 'trim', '', 'universal', 'garage', 'door', 'opener', '', 'auto-dimming', 'pwr', 'folding', 'exterior', 'mirrors', 'w/2-position', 'memory', '', 'auto-dimming', 'rearview', 'mirror', 'w/compass', '', 'pwr', 'front', 'seats', 'w/4-way', 'pwr', 'lumbar', '', '2-position', 'driver', 'seat', 'memory', '', 'BMW', 'Assist', '', 'Bluetooth', 'interface', '', 'pwr', 'tilt/slide', 'glass', 'moonroof', '', 'VALUE', 'PKG', 'iPod', '', 'USB', 'adapter', '', 'Dakota', 'leather', 'seat', 'trim', '', '17', '', 'x', '8.0', 'V-spoke', 'alloy', 'wheels', '', 'style', '285', '', '', 'P225/45R17', 'run-flat', 'performance', 'tires', '', '6-SPEED', 'STEPTRONIC', 'AUTOMATIC', 'TRANSMISSION', 'normal', '', 'sport', '', 'manual', 'shift', 'modes', '', 'Remote', 'Trunk', 'Release', '', 'Keyless', 'Entry', '', 'Steering', 'Wheel', 'Controls', '', 'Child', 'Safety', 'Locks', '', 'Electronic', 'Stability', 'Control', '', 'AFFORDABILITY', '', 'This', '328i', 'is', 'priced', '', '600', 'below', 'Kelley', 'Blue', 'Book', '', 'OUR', 'OFFERINGS', '', 'Here', 'at', 'DCH', 'Subaru', 'of', 'Riverside', '', 'everything', 'we', 'do', 'revolves', 'around', 'you', '', 'Our', 'various', 'teams', 'are', 'trained', 'to', 'address', 'your', 'needs', 'from', 'the', 'moment', 'you', 'walk', 'through', 'the', 'door', '', 'whether', 'you', 're', 'in', 'the', 'market', 'for', 'your', 'next', 'vehicle', 'or', 'tuning', 'up', 'your', 'current', 'one', '', 'Our', 'Riverside', 'showroom', 'is', 'the', 'place', 'to', 'be', 'if', 'you', 're', 'in', 'the', 'market', 'for', 'a', 'new', 'Subaru', 'or', 'quality', 'pre-owned', 'vehicle', 'from', 'today', 's', 'top', 'automakers', '', 'No', 'matter', 'what', 'you', 'are', 'in', 'search', 'of', '', 'we', 'deliver', 'customer', 'happiness', '', 'Pricing', 'analysis', 'performed', 'on', '8/22/2021', '', 'Horsepower', 'calculations', 'based', 'on', 'trim', 'engine', 'configuration', '', 'Fuel', 'economy', 'calculations', 'based', 'on', 'original', 'manufacturer', 'data', 'for', 'trim', 'engine', 'configuration', '', 'Please', 'confirm', 'the', 'accuracy', 'of', 'the', 'included', 'equipment', 'by', 'calling', 'us', 'prior', 'to', 'purchase', '', 'DCH', 'Subaru', 'of', 'Riverside', '', '862', 'Lifetime', 'Reviews', '8043', 'Indiana', 'Avenue', 'Riverside', '', 'California', '92504', '', '951', '', '428-2314']\n"
          ]
        }
      ]
    },
    {
      "cell_type": "markdown",
      "metadata": {
        "id": "QHz2CWLULBz-"
      },
      "source": [
        "### 5. Convert to lower/upper case"
      ]
    },
    {
      "cell_type": "code",
      "metadata": {
        "id": "fJcdAMnVLBz-",
        "colab": {
          "base_uri": "https://localhost:8080/"
        },
        "outputId": "707dbb3f-c19d-4d14-9676-ddf362a894a5"
      },
      "source": [
        "clean_words_ru = [w.lower() for w in clean_words_ru if w != '']\n",
        "print(clean_words_ru)"
      ],
      "execution_count": null,
      "outputs": [
        {
          "output_type": "stream",
          "name": "stdout",
          "text": [
            "['продаётся', 'lada', '4x4', 'птс', '01.12.2018', 'куплена', '20', 'января', '19', 'года', '10', '000', 'км', 'пробега', 'комплектация', 'полная', 'новая', 'в', 'салоне', '750', '000', 'отдам', 'за', '650', '000', 'возможен', 'обмен', 'на', 'ваз-2110', 'или', 'ваз', '2109', 'с', 'вашей', 'доплатой', 'краснодар', 'ул', 'миклухо-маклая', 'д', '4/5', 'подьезд', '1', 'тел', '8', '999', '1234567', '8', '903', '987-65-43', '7', '351', '111', '22', '33', 'и.и', 'иванов', 'иван', 'иванович']\n"
          ]
        }
      ]
    },
    {
      "cell_type": "code",
      "metadata": {
        "id": "UZnIbHWSLBz-",
        "colab": {
          "base_uri": "https://localhost:8080/"
        },
        "outputId": "6bafafd8-0d5d-4f9f-971a-9b58cfde6638"
      },
      "source": [
        "clean_words_en = [w.lower() for w in clean_words_en if w != '']\n",
        "print(clean_words_en)"
      ],
      "execution_count": null,
      "outputs": [
        {
          "output_type": "stream",
          "name": "stdout",
          "text": [
            "['328i', 'trim', 'fuel', 'efficient', '28', 'mpg', 'hwy/18', 'mpg', 'city', 'priced', 'to', 'move', '600', 'below', 'kelley', 'blue', 'book', 'moonroof', 'leather', 'dual', 'zone', 'a/c', 'cd', 'player', 'rear', 'air', '6-speed', 'steptronic', 'automatic', 'transmis', 'premium', 'pkg', 'value', 'pkg', 'key', 'features', 'include', 'rear', 'air', 'cd', 'player', 'dual', 'zone', 'a/c', 'bmw', '328i', 'with', 'crimson', 'red', 'exterior', 'and', 'oyster/black', 'dakota', 'leather', 'interior', 'features', 'a', 'straight', '6', 'cylinder', 'engine', 'with', '230', 'hp', 'at', '6500', 'rpm', 'option', 'packages', 'premium', 'pkg', 'dakota', 'leather', 'seat', 'trim', 'universal', 'garage', 'door', 'opener', 'auto-dimming', 'pwr', 'folding', 'exterior', 'mirrors', 'w/2-position', 'memory', 'auto-dimming', 'rearview', 'mirror', 'w/compass', 'pwr', 'front', 'seats', 'w/4-way', 'pwr', 'lumbar', '2-position', 'driver', 'seat', 'memory', 'bmw', 'assist', 'bluetooth', 'interface', 'pwr', 'tilt/slide', 'glass', 'moonroof', 'value', 'pkg', 'ipod', 'usb', 'adapter', 'dakota', 'leather', 'seat', 'trim', '17', 'x', '8.0', 'v-spoke', 'alloy', 'wheels', 'style', '285', 'p225/45r17', 'run-flat', 'performance', 'tires', '6-speed', 'steptronic', 'automatic', 'transmission', 'normal', 'sport', 'manual', 'shift', 'modes', 'remote', 'trunk', 'release', 'keyless', 'entry', 'steering', 'wheel', 'controls', 'child', 'safety', 'locks', 'electronic', 'stability', 'control', 'affordability', 'this', '328i', 'is', 'priced', '600', 'below', 'kelley', 'blue', 'book', 'our', 'offerings', 'here', 'at', 'dch', 'subaru', 'of', 'riverside', 'everything', 'we', 'do', 'revolves', 'around', 'you', 'our', 'various', 'teams', 'are', 'trained', 'to', 'address', 'your', 'needs', 'from', 'the', 'moment', 'you', 'walk', 'through', 'the', 'door', 'whether', 'you', 're', 'in', 'the', 'market', 'for', 'your', 'next', 'vehicle', 'or', 'tuning', 'up', 'your', 'current', 'one', 'our', 'riverside', 'showroom', 'is', 'the', 'place', 'to', 'be', 'if', 'you', 're', 'in', 'the', 'market', 'for', 'a', 'new', 'subaru', 'or', 'quality', 'pre-owned', 'vehicle', 'from', 'today', 's', 'top', 'automakers', 'no', 'matter', 'what', 'you', 'are', 'in', 'search', 'of', 'we', 'deliver', 'customer', 'happiness', 'pricing', 'analysis', 'performed', 'on', '8/22/2021', 'horsepower', 'calculations', 'based', 'on', 'trim', 'engine', 'configuration', 'fuel', 'economy', 'calculations', 'based', 'on', 'original', 'manufacturer', 'data', 'for', 'trim', 'engine', 'configuration', 'please', 'confirm', 'the', 'accuracy', 'of', 'the', 'included', 'equipment', 'by', 'calling', 'us', 'prior', 'to', 'purchase', 'dch', 'subaru', 'of', 'riverside', '862', 'lifetime', 'reviews', '8043', 'indiana', 'avenue', 'riverside', 'california', '92504', '951', '428-2314']\n"
          ]
        }
      ]
    },
    {
      "cell_type": "markdown",
      "metadata": {
        "id": "x3VHFksyLBz_"
      },
      "source": [
        "### 6. Remove stopwords\n"
      ]
    },
    {
      "cell_type": "markdown",
      "metadata": {
        "id": "KwoipMBwLBz_"
      },
      "source": [
        "Stop words — are the most common words in any natural language. For the purpose of analyzing text data and building NLP models, these stopwords might not add much value to the meaning of the document. They make up the top of the frequency list in any language. The set of stop words is not universal, it will depend on your task!"
      ]
    },
    {
      "cell_type": "markdown",
      "metadata": {
        "id": "y6ahTmePLBz_"
      },
      "source": [
        "import ssl\n",
        "\n",
        "ssl._create_default_https_context = ssl._create_unverified_context"
      ]
    },
    {
      "cell_type": "code",
      "metadata": {
        "id": "LhCeSRZeLBz_",
        "colab": {
          "base_uri": "https://localhost:8080/"
        },
        "outputId": "ee1131bf-22b3-4b8b-d967-fc2627bed58a"
      },
      "source": [
        "import nltk\n",
        "nltk.download('stopwords')"
      ],
      "execution_count": null,
      "outputs": [
        {
          "output_type": "stream",
          "name": "stdout",
          "text": [
            "[nltk_data] Downloading package stopwords to /root/nltk_data...\n",
            "[nltk_data]   Unzipping corpora/stopwords.zip.\n"
          ]
        },
        {
          "output_type": "execute_result",
          "data": {
            "text/plain": [
              "True"
            ]
          },
          "metadata": {},
          "execution_count": 11
        }
      ]
    },
    {
      "cell_type": "code",
      "metadata": {
        "id": "2jDXHnKSLBz_",
        "colab": {
          "base_uri": "https://localhost:8080/"
        },
        "outputId": "f810036d-52ab-45cb-f650-ea217e492cb5"
      },
      "source": [
        "from nltk.corpus import stopwords\n",
        "\n",
        "# language list\n",
        "stopwords.fileids()"
      ],
      "execution_count": null,
      "outputs": [
        {
          "output_type": "execute_result",
          "data": {
            "text/plain": [
              "['arabic',\n",
              " 'azerbaijani',\n",
              " 'bengali',\n",
              " 'danish',\n",
              " 'dutch',\n",
              " 'english',\n",
              " 'finnish',\n",
              " 'french',\n",
              " 'german',\n",
              " 'greek',\n",
              " 'hungarian',\n",
              " 'indonesian',\n",
              " 'italian',\n",
              " 'kazakh',\n",
              " 'nepali',\n",
              " 'norwegian',\n",
              " 'portuguese',\n",
              " 'romanian',\n",
              " 'russian',\n",
              " 'slovene',\n",
              " 'spanish',\n",
              " 'swedish',\n",
              " 'tajik',\n",
              " 'turkish']"
            ]
          },
          "metadata": {},
          "execution_count": 12
        }
      ]
    },
    {
      "cell_type": "code",
      "metadata": {
        "id": "xfy35krjLB0A",
        "colab": {
          "base_uri": "https://localhost:8080/"
        },
        "outputId": "41a2ee96-db15-407f-a390-5528ff01ef36"
      },
      "source": [
        "sw = stopwords.words('russian')\n",
        "print(sw)"
      ],
      "execution_count": null,
      "outputs": [
        {
          "output_type": "stream",
          "name": "stdout",
          "text": [
            "['и', 'в', 'во', 'не', 'что', 'он', 'на', 'я', 'с', 'со', 'как', 'а', 'то', 'все', 'она', 'так', 'его', 'но', 'да', 'ты', 'к', 'у', 'же', 'вы', 'за', 'бы', 'по', 'только', 'ее', 'мне', 'было', 'вот', 'от', 'меня', 'еще', 'нет', 'о', 'из', 'ему', 'теперь', 'когда', 'даже', 'ну', 'вдруг', 'ли', 'если', 'уже', 'или', 'ни', 'быть', 'был', 'него', 'до', 'вас', 'нибудь', 'опять', 'уж', 'вам', 'ведь', 'там', 'потом', 'себя', 'ничего', 'ей', 'может', 'они', 'тут', 'где', 'есть', 'надо', 'ней', 'для', 'мы', 'тебя', 'их', 'чем', 'была', 'сам', 'чтоб', 'без', 'будто', 'чего', 'раз', 'тоже', 'себе', 'под', 'будет', 'ж', 'тогда', 'кто', 'этот', 'того', 'потому', 'этого', 'какой', 'совсем', 'ним', 'здесь', 'этом', 'один', 'почти', 'мой', 'тем', 'чтобы', 'нее', 'сейчас', 'были', 'куда', 'зачем', 'всех', 'никогда', 'можно', 'при', 'наконец', 'два', 'об', 'другой', 'хоть', 'после', 'над', 'больше', 'тот', 'через', 'эти', 'нас', 'про', 'всего', 'них', 'какая', 'много', 'разве', 'три', 'эту', 'моя', 'впрочем', 'хорошо', 'свою', 'этой', 'перед', 'иногда', 'лучше', 'чуть', 'том', 'нельзя', 'такой', 'им', 'более', 'всегда', 'конечно', 'всю', 'между']\n"
          ]
        }
      ]
    },
    {
      "cell_type": "code",
      "metadata": {
        "id": "DF9ZFzLoLB0A",
        "colab": {
          "base_uri": "https://localhost:8080/"
        },
        "outputId": "ada93196-62a8-476c-bd94-412fabf708e0"
      },
      "source": [
        "clean_words_ru = [w for w in clean_words_ru if w not in sw else print(w)]\n",
        "print(clean_words_ru)"
      ],
      "execution_count": null,
      "outputs": [
        {
          "output_type": "stream",
          "name": "stdout",
          "text": [
            "['продаётся', 'lada', '4x4', 'птс', '01.12.2018', 'куплена', '20', 'января', '19', 'года', '10', '000', 'км', 'пробега', 'комплектация', 'полная', 'новая', None, 'салоне', '750', '000', 'отдам', None, '650', '000', 'возможен', 'обмен', None, 'ваз-2110', None, 'ваз', '2109', None, 'вашей', 'доплатой', 'краснодар', 'ул', 'миклухо-маклая', 'д', '4/5', 'подьезд', '1', 'тел', '8', '999', '1234567', '8', '903', '987-65-43', '7', '351', '111', '22', '33', 'и.и', 'иванов', 'иван', 'иванович']\n"
          ]
        }
      ]
    },
    {
      "cell_type": "code",
      "metadata": {
        "id": "CAc8tdQMLB0A",
        "colab": {
          "base_uri": "https://localhost:8080/"
        },
        "outputId": "f5dd780f-f8e4-4b6e-8b30-eb81cdeb6139"
      },
      "source": [
        "sw = stopwords.words('english')\n",
        "print(sw)"
      ],
      "execution_count": null,
      "outputs": [
        {
          "output_type": "stream",
          "name": "stdout",
          "text": [
            "['i', 'me', 'my', 'myself', 'we', 'our', 'ours', 'ourselves', 'you', \"you're\", \"you've\", \"you'll\", \"you'd\", 'your', 'yours', 'yourself', 'yourselves', 'he', 'him', 'his', 'himself', 'she', \"she's\", 'her', 'hers', 'herself', 'it', \"it's\", 'its', 'itself', 'they', 'them', 'their', 'theirs', 'themselves', 'what', 'which', 'who', 'whom', 'this', 'that', \"that'll\", 'these', 'those', 'am', 'is', 'are', 'was', 'were', 'be', 'been', 'being', 'have', 'has', 'had', 'having', 'do', 'does', 'did', 'doing', 'a', 'an', 'the', 'and', 'but', 'if', 'or', 'because', 'as', 'until', 'while', 'of', 'at', 'by', 'for', 'with', 'about', 'against', 'between', 'into', 'through', 'during', 'before', 'after', 'above', 'below', 'to', 'from', 'up', 'down', 'in', 'out', 'on', 'off', 'over', 'under', 'again', 'further', 'then', 'once', 'here', 'there', 'when', 'where', 'why', 'how', 'all', 'any', 'both', 'each', 'few', 'more', 'most', 'other', 'some', 'such', 'no', 'nor', 'not', 'only', 'own', 'same', 'so', 'than', 'too', 'very', 's', 't', 'can', 'will', 'just', 'don', \"don't\", 'should', \"should've\", 'now', 'd', 'll', 'm', 'o', 're', 've', 'y', 'ain', 'aren', \"aren't\", 'couldn', \"couldn't\", 'didn', \"didn't\", 'doesn', \"doesn't\", 'hadn', \"hadn't\", 'hasn', \"hasn't\", 'haven', \"haven't\", 'isn', \"isn't\", 'ma', 'mightn', \"mightn't\", 'mustn', \"mustn't\", 'needn', \"needn't\", 'shan', \"shan't\", 'shouldn', \"shouldn't\", 'wasn', \"wasn't\", 'weren', \"weren't\", 'won', \"won't\", 'wouldn', \"wouldn't\"]\n"
          ]
        }
      ]
    },
    {
      "cell_type": "code",
      "metadata": {
        "id": "IgOWaL9OLB0B",
        "colab": {
          "base_uri": "https://localhost:8080/"
        },
        "outputId": "62c3927d-db45-439f-b29e-74561f19da7b"
      },
      "source": [
        "clean_words_en = [w if w not in sw else print(w) for w in clean_words_en]\n",
        "print(clean_words_en)"
      ],
      "execution_count": null,
      "outputs": [
        {
          "output_type": "stream",
          "name": "stdout",
          "text": [
            "['328i', 'trim', 'fuel', 'efficient', '28', 'mpg', 'hwy/18', 'mpg', 'city', 'priced', None, 'move', '600', None, 'kelley', 'blue', 'book', 'moonroof', 'leather', 'dual', 'zone', 'a/c', 'cd', 'player', 'rear', 'air', '6-speed', 'steptronic', 'automatic', 'transmis', 'premium', 'pkg', 'value', 'pkg', 'key', 'features', 'include', 'rear', 'air', 'cd', 'player', 'dual', 'zone', 'a/c', 'bmw', '328i', None, 'crimson', 'red', 'exterior', None, 'oyster/black', 'dakota', 'leather', 'interior', 'features', None, 'straight', '6', 'cylinder', 'engine', None, '230', 'hp', None, '6500', 'rpm', 'option', 'packages', 'premium', 'pkg', 'dakota', 'leather', 'seat', 'trim', 'universal', 'garage', 'door', 'opener', 'auto-dimming', 'pwr', 'folding', 'exterior', 'mirrors', 'w/2-position', 'memory', 'auto-dimming', 'rearview', 'mirror', 'w/compass', 'pwr', 'front', 'seats', 'w/4-way', 'pwr', 'lumbar', '2-position', 'driver', 'seat', 'memory', 'bmw', 'assist', 'bluetooth', 'interface', 'pwr', 'tilt/slide', 'glass', 'moonroof', 'value', 'pkg', 'ipod', 'usb', 'adapter', 'dakota', 'leather', 'seat', 'trim', '17', 'x', '8.0', 'v-spoke', 'alloy', 'wheels', 'style', '285', 'p225/45r17', 'run-flat', 'performance', 'tires', '6-speed', 'steptronic', 'automatic', 'transmission', 'normal', 'sport', 'manual', 'shift', 'modes', 'remote', 'trunk', 'release', 'keyless', 'entry', 'steering', 'wheel', 'controls', 'child', 'safety', 'locks', 'electronic', 'stability', 'control', 'affordability', None, '328i', None, 'priced', '600', None, 'kelley', 'blue', 'book', None, 'offerings', None, None, 'dch', 'subaru', None, 'riverside', 'everything', None, None, 'revolves', 'around', None, None, 'various', 'teams', None, 'trained', None, 'address', None, 'needs', None, None, 'moment', None, 'walk', None, None, 'door', 'whether', None, None, None, None, 'market', None, None, 'next', 'vehicle', None, 'tuning', None, None, 'current', 'one', None, 'riverside', 'showroom', None, None, 'place', None, None, None, None, None, None, None, 'market', None, None, 'new', 'subaru', None, 'quality', 'pre-owned', 'vehicle', None, 'today', None, 'top', 'automakers', None, 'matter', None, None, None, None, 'search', None, None, 'deliver', 'customer', 'happiness', 'pricing', 'analysis', 'performed', None, '8/22/2021', 'horsepower', 'calculations', 'based', None, 'trim', 'engine', 'configuration', 'fuel', 'economy', 'calculations', 'based', None, 'original', 'manufacturer', 'data', None, 'trim', 'engine', 'configuration', 'please', 'confirm', None, 'accuracy', None, None, 'included', 'equipment', None, 'calling', 'us', 'prior', None, 'purchase', 'dch', 'subaru', None, 'riverside', '862', 'lifetime', 'reviews', '8043', 'indiana', 'avenue', 'riverside', 'california', '92504', '951', '428-2314']\n"
          ]
        }
      ]
    },
    {
      "cell_type": "markdown",
      "metadata": {
        "id": "w7gTtmyILB0B"
      },
      "source": [
        "### 7. Stemming"
      ]
    },
    {
      "cell_type": "markdown",
      "metadata": {
        "id": "8Ov9GQmJLB0B"
      },
      "source": [
        "**Stemming** reduces words to their stem (root) by removing endings and suffixes. The remaining part is called stem. However, it should not necessarily match with the morphological basis of the word. The problem of stemming is that the same stems may  be obtained from the words with different roots and vice versa.\n",
        "\n",
        "* 1st type of error: белый, белка, белье $\\implies$  бел\n",
        "\n",
        "* 2nd type of error: трудность, трудный $\\implies$  трудност, труд\n",
        "\n",
        "* 3rd type of error: быстрый, быстрее $\\implies$  быст, побыстрее $\\implies$  побыст\n",
        "\n",
        "The simplest algorithm is the Porter algorithm. It consists of 5 loops with commands, on each loop there is an operation to delete / replace the suffix. Probabilistic extensions of the algorithm are possible.\n",
        "\n",
        "### Snowball stemmer\n",
        "An improved version of Porter's stemmer; unlike Porter's stemmer, it can work with multiple languages."
      ]
    },
    {
      "cell_type": "code",
      "metadata": {
        "id": "lJmMivmMLB0C",
        "colab": {
          "base_uri": "https://localhost:8080/"
        },
        "outputId": "e2c3bc21-9fc2-4cdb-83f2-9e74aeee384a"
      },
      "source": [
        "from nltk.stem.snowball import SnowballStemmer\n",
        "\n",
        "SnowballStemmer.languages  "
      ],
      "execution_count": null,
      "outputs": [
        {
          "output_type": "execute_result",
          "data": {
            "text/plain": [
              "('arabic',\n",
              " 'danish',\n",
              " 'dutch',\n",
              " 'english',\n",
              " 'finnish',\n",
              " 'french',\n",
              " 'german',\n",
              " 'hungarian',\n",
              " 'italian',\n",
              " 'norwegian',\n",
              " 'porter',\n",
              " 'portuguese',\n",
              " 'romanian',\n",
              " 'russian',\n",
              " 'spanish',\n",
              " 'swedish')"
            ]
          },
          "metadata": {},
          "execution_count": 38
        }
      ]
    },
    {
      "cell_type": "code",
      "metadata": {
        "id": "AFJST7RILB0C",
        "colab": {
          "base_uri": "https://localhost:8080/"
        },
        "outputId": "d9392688-16f7-459d-c716-3adab7a849d0"
      },
      "source": [
        "snowball = SnowballStemmer(\"russian\")\n",
        "\n",
        "poem = '''\n",
        "По морям, играя, носится\n",
        "с миноносцем миноносица.\n",
        "Льнет, как будто к меду осочка,\n",
        "к миноносцу миноносочка.\n",
        "И конца б не довелось ему,\n",
        "благодушью миноносьему.\n",
        "Вдруг прожектор, вздев на нос очки,\n",
        "впился в спину миноносочки.\n",
        "Как взревет медноголосина:\n",
        "Р-р-р-астакая миноносина!\n",
        "'''\n",
        "\n",
        "words = [w.strip(punctuation).lower() for w in word_tokenize(poem)]\n",
        "words = [w for w in words if w not in sw and w != '']\n",
        "for w in words:\n",
        "    print(\"%s: %s\" % (w, snowball.stem(w)))"
      ],
      "execution_count": null,
      "outputs": [
        {
          "output_type": "stream",
          "name": "stdout",
          "text": [
            "по: по\n",
            "морям: мор\n",
            "играя: игр\n",
            "носится: нос\n",
            "с: с\n",
            "миноносцем: миноносц\n",
            "миноносица: миноносиц\n",
            "льнет: льнет\n",
            "как: как\n",
            "будто: будт\n",
            "к: к\n",
            "меду: мед\n",
            "осочка: осочк\n",
            "к: к\n",
            "миноносцу: миноносц\n",
            "миноносочка: миноносочк\n",
            "и: и\n",
            "конца: конц\n",
            "б: б\n",
            "не: не\n",
            "довелось: довел\n",
            "ему: ем\n",
            "благодушью: благодуш\n",
            "миноносьему: минонос\n",
            "вдруг: вдруг\n",
            "прожектор: прожектор\n",
            "вздев: вздев\n",
            "на: на\n",
            "нос: нос\n",
            "очки: очк\n",
            "впился: впил\n",
            "в: в\n",
            "спину: спин\n",
            "миноносочки: миноносочк\n",
            "как: как\n",
            "взревет: взревет\n",
            "медноголосина: медноголосин\n",
            "р-р-р-астакая: р-р-р-астак\n",
            "миноносина: миноносин\n"
          ]
        }
      ]
    },
    {
      "cell_type": "code",
      "metadata": {
        "id": "M8JFpay_LB0C",
        "colab": {
          "base_uri": "https://localhost:8080/"
        },
        "outputId": "8342401f-ef22-45f6-f8ac-cc7853e925d4"
      },
      "source": [
        "snowball = SnowballStemmer(\"english\")\n",
        "\n",
        "poem_en = '''\n",
        "Twinkle, twinkle, little star,\n",
        "How I wonder what you are.\n",
        "Up above the world so high,\n",
        "Like a diamond in the sky.\n",
        "Twinkle, twinkle, little star,\n",
        "How I wonder what you are!\n",
        "\n",
        "When the blazing sun is gone,\n",
        "When he nothing shines upon,\n",
        "Then you show your little light,\n",
        "Twinkle, twinkle, all the night.\n",
        "Twinkle, twinkle, little star,\n",
        "How I wonder what you are!\n",
        "'''\n",
        "\n",
        "words = [w.strip(punctuation).lower() for w in word_tokenize(poem_en)]\n",
        "words = [w for w in words if w not in sw and w != '']\n",
        "for w in words:\n",
        "    print(\"%s: %s\" % (w, snowball.stem(w)))"
      ],
      "execution_count": null,
      "outputs": [
        {
          "output_type": "stream",
          "name": "stdout",
          "text": [
            "twinkle: twinkl\n",
            "twinkle: twinkl\n",
            "little: littl\n",
            "star: star\n",
            "wonder: wonder\n",
            "world: world\n",
            "high: high\n",
            "like: like\n",
            "diamond: diamond\n",
            "sky: sky\n",
            "twinkle: twinkl\n",
            "twinkle: twinkl\n",
            "little: littl\n",
            "star: star\n",
            "wonder: wonder\n",
            "blazing: blaze\n",
            "sun: sun\n",
            "gone: gone\n",
            "nothing: noth\n",
            "shines: shine\n",
            "upon: upon\n",
            "show: show\n",
            "little: littl\n",
            "light: light\n",
            "twinkle: twinkl\n",
            "twinkle: twinkl\n",
            "night: night\n",
            "twinkle: twinkl\n",
            "twinkle: twinkl\n",
            "little: littl\n",
            "star: star\n",
            "wonder: wonder\n"
          ]
        }
      ]
    },
    {
      "cell_type": "markdown",
      "metadata": {
        "id": "kStyVUV1LB0D"
      },
      "source": [
        "### 8. Lemmatization + POS-Tagging"
      ]
    },
    {
      "cell_type": "markdown",
      "metadata": {
        "id": "0rhQgYoYLB0D"
      },
      "source": [
        "**Lemmatization** — the process of converting a word form to a lemma, (a normal, dictionary form). This is a more complex task than stemming, but it also gives much more meaningful results, especially for languages with rich morphology.\n",
        "\n",
        "* кошке, кошку, кошкам, кошкой $\\implies$ кошка\n",
        "* бежал, бежит, бегу $\\implies$  бежать\n",
        "* белому, белым, белыми $\\implies$ белый\n",
        "\n",
        "**Частеречная разметка**, или **POS-tagging** _(part of speech tagging)_ —  the process of marking up a word in a text (corpus) as corresponding to a particular part of speech (tags), based on both its definition and its context.\n",
        "\n",
        "Part-of-speech tagging is harder than just having a list of words and their parts of speech, because some word forms can represent more than one part of speech at different times. It means that in natural languages a large percentage of word forms are ambiguous. For example, even \"dogs\", which is usually thought of as just a plural noun, can also be a verb:\n",
        "\n",
        "    He reads books \\<plural noun\\>\n",
        "    He books \\<3rd person singular verb\\> tickets.\n",
        "\n",
        "Correct grammatical tagging which chooses one of possible options is called **morphological disambiguation**.\n",
        "\n",
        "### Tag sets\n",
        "\n",
        "There are many sets of grammatical tags, or tagsets:\n",
        "* НКРЯ\n",
        "* Mystem\n",
        "* UPenn\n",
        "* OpenCorpora (is used in pymorphy2)\n",
        "* Universal Dependencies\n",
        "* ...\n",
        "\n",
        "There is a [library](https://github.com/kmike/russian-tagsets) to convert tags from one system to another for the Russian language, `russian-tagsets`. However, you may loose important information when converting POS-tags from one system to another.\n",
        "\n",
        "At the moment, the standard is **Universal Dependencies**. You can read more about the project [here](http://universaldependencies.org/), and [here](http://universaldependencies.org/u/pos/) about tags. Here below you can see the list of the main UD tags:\n",
        "\n",
        "* ADJ: adjective\n",
        "* ADP: adposition\n",
        "* ADV: adverb\n",
        "* AUX: auxiliary\n",
        "* CCONJ: coordinating conjunction\n",
        "* DET: determiner\n",
        "* INTJ: interjection\n",
        "* NOUN: noun\n",
        "* NUM: numeral\n",
        "* PART: particle\n",
        "* PRON: pronoun\n",
        "* PROPN: proper noun\n",
        "* PUNCT: punctuation\n",
        "* SCONJ: subordinating conjunction\n",
        "* SYM: symbol\n",
        "* VERB: verb\n",
        "* X: other"
      ]
    },
    {
      "cell_type": "markdown",
      "metadata": {
        "id": "UhRd7oO1LB0D"
      },
      "source": [
        "#### Mystem"
      ]
    },
    {
      "cell_type": "markdown",
      "metadata": {
        "id": "64lGhE-ZLB0D"
      },
      "source": [
        "**pymystem3** — a wrapper for \"an excellent morphological analyzer\" for Russian language Yandex Mystem 3.1 released in June 2014. You can download it separately and use it from the console. An outstanding advantage of Mystem is that the system relies on the word context which is quite helpful when resolving ambiguity. \n"
      ]
    },
    {
      "cell_type": "code",
      "metadata": {
        "id": "IlSSNajhLB0E",
        "colab": {
          "base_uri": "https://localhost:8080/"
        },
        "outputId": "26eb77b0-53da-4619-cba2-ff803df99fa4"
      },
      "source": [
        "clean_words_ru = [word for word in clean_words_ru if word!= None]\n",
        "print(clean_words_ru)"
      ],
      "execution_count": null,
      "outputs": [
        {
          "output_type": "stream",
          "name": "stdout",
          "text": [
            "['продаётся', 'lada', '4x4', 'птс', '01.12.2018', 'куплена', '20', 'января', '19', 'года', '10', '000', 'км', 'пробега', 'комплектация', 'полная', 'новая', 'в', 'салоне', '750', '000', 'отдам', 'за', '650', '000', 'возможен', 'обмен', 'на', 'ваз-2110', 'или', 'ваз', '2109', 'с', 'вашей', 'доплатой', 'краснодар', 'ул', 'миклухо-маклая', 'д', '4/5', 'подьезд', '1', 'тел', '8', '999', '1234567', '8', '903', '987-65-43', '7', '351', '111', '22', '33', 'и.и', 'иванов', 'иван', 'иванович']\n"
          ]
        }
      ]
    },
    {
      "cell_type": "code",
      "metadata": {
        "colab": {
          "base_uri": "https://localhost:8080/"
        },
        "id": "bADm3Rxp4vQv",
        "outputId": "b1b73e3c-3fbf-45f7-a1e3-5b333bcd7f20"
      },
      "source": [
        "!pip install pymystem3==0.1.10"
      ],
      "execution_count": null,
      "outputs": [
        {
          "output_type": "stream",
          "name": "stdout",
          "text": [
            "Collecting pymystem3==0.1.10\n",
            "  Downloading pymystem3-0.1.10-py3-none-any.whl (10 kB)\n",
            "Requirement already satisfied: requests in /usr/local/lib/python3.7/dist-packages (from pymystem3==0.1.10) (2.23.0)\n",
            "Requirement already satisfied: chardet<4,>=3.0.2 in /usr/local/lib/python3.7/dist-packages (from requests->pymystem3==0.1.10) (3.0.4)\n",
            "Requirement already satisfied: idna<3,>=2.5 in /usr/local/lib/python3.7/dist-packages (from requests->pymystem3==0.1.10) (2.10)\n",
            "Requirement already satisfied: certifi>=2017.4.17 in /usr/local/lib/python3.7/dist-packages (from requests->pymystem3==0.1.10) (2021.10.8)\n",
            "Requirement already satisfied: urllib3!=1.25.0,!=1.25.1,<1.26,>=1.21.1 in /usr/local/lib/python3.7/dist-packages (from requests->pymystem3==0.1.10) (1.24.3)\n",
            "Installing collected packages: pymystem3\n",
            "  Attempting uninstall: pymystem3\n",
            "    Found existing installation: pymystem3 0.2.0\n",
            "    Uninstalling pymystem3-0.2.0:\n",
            "      Successfully uninstalled pymystem3-0.2.0\n",
            "Successfully installed pymystem3-0.1.10\n"
          ]
        }
      ]
    },
    {
      "cell_type": "code",
      "metadata": {
        "id": "it8MUsvVLB0E",
        "colab": {
          "base_uri": "https://localhost:8080/"
        },
        "outputId": "0a20f95e-3d8a-4efc-93ca-10a01ce301d9"
      },
      "source": [
        "from pymystem3 import Mystem\n",
        "\n",
        "m = Mystem()\n",
        "lemmas = m.lemmatize(' '.join(clean_words_ru))\n",
        "print(' '.join(lemmas))"
      ],
      "execution_count": null,
      "outputs": [
        {
          "output_type": "stream",
          "name": "stdout",
          "text": [
            "продаваться   lada   4x4   птс   01.12 . 2018   купить   20   январь   19   год   10   000   км   пробег   комплектация   полный   новый   в   салон   750   000   отдавать   за   650   000   возможный   обмен   на   ваз - 2110   или   ваз   2109   с   ваш   доплата   краснодар   ул   миклухо-маклай   д   4 / 5   подьезд   1   тело   8   999   1234567   8   903   987 - 65 - 43   7   351   111   22   33   и . и   иванов   иван   иванович \n",
            "\n"
          ]
        }
      ]
    },
    {
      "cell_type": "code",
      "metadata": {
        "id": "ZbtnYjMkLB0E",
        "colab": {
          "base_uri": "https://localhost:8080/",
          "height": 163
        },
        "outputId": "78e52859-efc8-4cb5-eb98-2cdce0a05e89"
      },
      "source": [
        "poem"
      ],
      "execution_count": null,
      "outputs": [
        {
          "output_type": "error",
          "ename": "NameError",
          "evalue": "ignored",
          "traceback": [
            "\u001b[0;31m---------------------------------------------------------------------------\u001b[0m",
            "\u001b[0;31mNameError\u001b[0m                                 Traceback (most recent call last)",
            "\u001b[0;32m<ipython-input-19-9614c19d2da0>\u001b[0m in \u001b[0;36m<module>\u001b[0;34m()\u001b[0m\n\u001b[0;32m----> 1\u001b[0;31m \u001b[0mpoem\u001b[0m\u001b[0;34m\u001b[0m\u001b[0;34m\u001b[0m\u001b[0m\n\u001b[0m",
            "\u001b[0;31mNameError\u001b[0m: name 'poem' is not defined"
          ]
        }
      ]
    },
    {
      "cell_type": "code",
      "metadata": {
        "id": "CAsqlf0kLB0F",
        "colab": {
          "base_uri": "https://localhost:8080/",
          "height": 323
        },
        "outputId": "d766b618-0143-4004-9593-aa076f631476"
      },
      "source": [
        "parsed = m.analyze(poem)\n",
        "parsed[:10]"
      ],
      "execution_count": null,
      "outputs": [
        {
          "output_type": "error",
          "ename": "BrokenPipeError",
          "evalue": "ignored",
          "traceback": [
            "\u001b[0;31m---------------------------------------------------------------------------\u001b[0m",
            "\u001b[0;31mBrokenPipeError\u001b[0m                           Traceback (most recent call last)",
            "\u001b[0;32m<ipython-input-46-1d04e6a490cd>\u001b[0m in \u001b[0;36m<module>\u001b[0;34m()\u001b[0m\n\u001b[0;32m----> 1\u001b[0;31m \u001b[0mparsed\u001b[0m \u001b[0;34m=\u001b[0m \u001b[0mm\u001b[0m\u001b[0;34m.\u001b[0m\u001b[0manalyze\u001b[0m\u001b[0;34m(\u001b[0m\u001b[0mpoem\u001b[0m\u001b[0;34m)\u001b[0m\u001b[0;34m\u001b[0m\u001b[0;34m\u001b[0m\u001b[0m\n\u001b[0m\u001b[1;32m      2\u001b[0m \u001b[0mparsed\u001b[0m\u001b[0;34m[\u001b[0m\u001b[0;34m:\u001b[0m\u001b[0;36m10\u001b[0m\u001b[0;34m]\u001b[0m\u001b[0;34m\u001b[0m\u001b[0;34m\u001b[0m\u001b[0m\n",
            "\u001b[0;32m/usr/local/lib/python3.7/dist-packages/pymystem3/mystem.py\u001b[0m in \u001b[0;36manalyze\u001b[0;34m(self, text)\u001b[0m\n\u001b[1;32m    248\u001b[0m         \u001b[0mresult\u001b[0m \u001b[0;34m=\u001b[0m \u001b[0;34m[\u001b[0m\u001b[0;34m]\u001b[0m\u001b[0;34m\u001b[0m\u001b[0;34m\u001b[0m\u001b[0m\n\u001b[1;32m    249\u001b[0m         \u001b[0;32mfor\u001b[0m \u001b[0mline\u001b[0m \u001b[0;32min\u001b[0m \u001b[0mtext\u001b[0m\u001b[0;34m.\u001b[0m\u001b[0msplitlines\u001b[0m\u001b[0;34m(\u001b[0m\u001b[0;34m)\u001b[0m\u001b[0;34m:\u001b[0m\u001b[0;34m\u001b[0m\u001b[0;34m\u001b[0m\u001b[0m\n\u001b[0;32m--> 250\u001b[0;31m             \u001b[0mresult\u001b[0m\u001b[0;34m.\u001b[0m\u001b[0mextend\u001b[0m\u001b[0;34m(\u001b[0m\u001b[0mself\u001b[0m\u001b[0;34m.\u001b[0m\u001b[0m_analyze_impl\u001b[0m\u001b[0;34m(\u001b[0m\u001b[0mline\u001b[0m\u001b[0;34m)\u001b[0m\u001b[0;34m)\u001b[0m\u001b[0;34m\u001b[0m\u001b[0;34m\u001b[0m\u001b[0m\n\u001b[0m\u001b[1;32m    251\u001b[0m         \u001b[0;32mreturn\u001b[0m \u001b[0mresult\u001b[0m\u001b[0;34m\u001b[0m\u001b[0;34m\u001b[0m\u001b[0m\n\u001b[1;32m    252\u001b[0m \u001b[0;34m\u001b[0m\u001b[0m\n",
            "\u001b[0;32m/usr/local/lib/python3.7/dist-packages/pymystem3/mystem.py\u001b[0m in \u001b[0;36m_analyze_impl\u001b[0;34m(self, text)\u001b[0m\n\u001b[1;32m    280\u001b[0m \u001b[0;34m\u001b[0m\u001b[0m\n\u001b[1;32m    281\u001b[0m             \u001b[0mself\u001b[0m\u001b[0;34m.\u001b[0m\u001b[0m_procin\u001b[0m\u001b[0;34m.\u001b[0m\u001b[0mwrite\u001b[0m\u001b[0;34m(\u001b[0m\u001b[0mtext\u001b[0m\u001b[0;34m)\u001b[0m\u001b[0;34m\u001b[0m\u001b[0;34m\u001b[0m\u001b[0m\n\u001b[0;32m--> 282\u001b[0;31m             \u001b[0mself\u001b[0m\u001b[0;34m.\u001b[0m\u001b[0m_procin\u001b[0m\u001b[0;34m.\u001b[0m\u001b[0mwrite\u001b[0m\u001b[0;34m(\u001b[0m\u001b[0m_NL\u001b[0m\u001b[0;34m)\u001b[0m\u001b[0;34m\u001b[0m\u001b[0;34m\u001b[0m\u001b[0m\n\u001b[0m\u001b[1;32m    283\u001b[0m             \u001b[0mself\u001b[0m\u001b[0;34m.\u001b[0m\u001b[0m_procin\u001b[0m\u001b[0;34m.\u001b[0m\u001b[0mflush\u001b[0m\u001b[0;34m(\u001b[0m\u001b[0;34m)\u001b[0m\u001b[0;34m\u001b[0m\u001b[0;34m\u001b[0m\u001b[0m\n\u001b[1;32m    284\u001b[0m \u001b[0;34m\u001b[0m\u001b[0m\n",
            "\u001b[0;31mBrokenPipeError\u001b[0m: [Errno 32] Broken pipe"
          ]
        }
      ]
    },
    {
      "cell_type": "code",
      "metadata": {
        "id": "jx4n8RxTLB0F"
      },
      "source": [
        "# how to get pos of the word\n",
        "\n",
        "for word in parsed[:20]:\n",
        "    if 'analysis' in word:\n",
        "        gr = word['analysis'][0]['gr']\n",
        "        pos = gr.split('=')[0].split(',')[0]\n",
        "        print(word['text'], pos)"
      ],
      "execution_count": null,
      "outputs": []
    },
    {
      "cell_type": "markdown",
      "metadata": {
        "id": "1QeLXmKlLB0F"
      },
      "source": [
        "#### Spacy"
      ]
    },
    {
      "cell_type": "code",
      "metadata": {
        "id": "tRWZG0t9LB0F",
        "colab": {
          "base_uri": "https://localhost:8080/"
        },
        "outputId": "587aa635-09f3-45f3-d256-8de2d0bb599f"
      },
      "source": [
        "spacy_poem_ru = nlp(poem)\n",
        "spacy_poem_ru"
      ],
      "execution_count": null,
      "outputs": [
        {
          "output_type": "execute_result",
          "data": {
            "text/plain": [
              "\n",
              "По морям, играя, носится\n",
              "с миноносцем миноносица.\n",
              "Льнет, как будто к меду осочка,\n",
              "к миноносцу миноносочка.\n",
              "И конца б не довелось ему,\n",
              "благодушью миноносьему.\n",
              "Вдруг прожектор, вздев на нос очки,\n",
              "впился в спину миноносочки.\n",
              "Как взревет медноголосина:\n",
              "Р-р-р-астакая миноносина!"
            ]
          },
          "metadata": {},
          "execution_count": 47
        }
      ]
    },
    {
      "cell_type": "code",
      "metadata": {
        "id": "2XElVWQ4LB0G",
        "colab": {
          "base_uri": "https://localhost:8080/"
        },
        "outputId": "4b484056-fa29-4e36-abc2-5a8e2571eb9e"
      },
      "source": [
        "for token in spacy_poem_ru:\n",
        "    if token.pos_ != \"SPACE\":\n",
        "        print(token.text, token.lemma_, token.pos_)"
      ],
      "execution_count": null,
      "outputs": [
        {
          "output_type": "stream",
          "name": "stdout",
          "text": [
            "По По PROPN\n",
            "морям морям PROPN\n",
            ", , PUNCT\n",
            "играя играя PROPN\n",
            ", , PUNCT\n",
            "носится носится PROPN\n",
            "с с PROPN\n",
            "миноносцем миноносцем PROPN\n",
            "миноносица миноносица PROPN\n",
            ". . PUNCT\n",
            "Льнет Льнет PROPN\n",
            ", , PUNCT\n",
            "как как PROPN\n",
            "будто будто PROPN\n",
            "к к PROPN\n",
            "меду меду PROPN\n",
            "осочка осочка NOUN\n",
            ", , PUNCT\n",
            "к к PROPN\n",
            "миноносцу миноносцу NOUN\n",
            "миноносочка миноносочка NOUN\n",
            ". . PUNCT\n",
            "И И PROPN\n",
            "конца конца VERB\n",
            "б б PROPN\n",
            "не не ADJ\n",
            "довелось довелось NOUN\n",
            "ему ему PROPN\n",
            ", , PUNCT\n",
            "благодушью благодушью PROPN\n",
            "миноносьему миноносьему PROPN\n",
            ". . PUNCT\n",
            "Вдруг Вдруг PROPN\n",
            "прожектор прожектор PROPN\n",
            ", , PUNCT\n",
            "вздев вздев PROPN\n",
            "на на PROPN\n",
            "нос нос PROPN\n",
            "очки очки PROPN\n",
            ", , PUNCT\n",
            "впился впился PROPN\n",
            "в в PROPN\n",
            "спину спину PROPN\n",
            "миноносочки миноносочки PROPN\n",
            ". . PUNCT\n",
            "Как Как PROPN\n",
            "взревет взревет VERB\n",
            "медноголосина медноголосина NOUN\n",
            ": : PUNCT\n",
            "Р Р PROPN\n",
            "- - PUNCT\n",
            "р р PROPN\n",
            "- - PUNCT\n",
            "р р PROPN\n",
            "- - PUNCT\n",
            "астакая астакая PROPN\n",
            "миноносина миноносина NOUN\n",
            "! ! PUNCT\n"
          ]
        }
      ]
    },
    {
      "cell_type": "markdown",
      "metadata": {
        "id": "KTA39_k0LB0G"
      },
      "source": [
        "#### pymorphy2"
      ]
    },
    {
      "cell_type": "markdown",
      "metadata": {
        "id": "BXsW4J7ELB0G"
      },
      "source": [
        "**pymorphy2** — is a full-fledged morphological analyzer, written entirely in Python. Unlike Mystem, it does not take into account the context, which means that the question of disambiguation should be resolved by our means. It also knows how to put words in the correct form (conjugate and incline).\n",
        "\n",
        "[pymorphy2 documentation](https://pymorphy2.readthedocs.io/en/latest/)"
      ]
    },
    {
      "cell_type": "code",
      "metadata": {
        "id": "GzYoXtR4LB0G",
        "colab": {
          "base_uri": "https://localhost:8080/"
        },
        "outputId": "c87baf14-ae01-410d-9a40-26a394d5bf9b"
      },
      "source": [
        "from pymorphy2 import MorphAnalyzer\n",
        "\n",
        "morph = MorphAnalyzer()\n",
        "p = morph.parse('стали')\n",
        "p"
      ],
      "execution_count": null,
      "outputs": [
        {
          "output_type": "execute_result",
          "data": {
            "text/plain": [
              "[Parse(word='стали', tag=OpencorporaTag('VERB,perf,intr plur,past,indc'), normal_form='стать', score=0.975342, methods_stack=((DictionaryAnalyzer(), 'стали', 945, 4),)),\n",
              " Parse(word='стали', tag=OpencorporaTag('NOUN,inan,femn sing,gent'), normal_form='сталь', score=0.010958, methods_stack=((DictionaryAnalyzer(), 'стали', 13, 1),)),\n",
              " Parse(word='стали', tag=OpencorporaTag('NOUN,inan,femn plur,nomn'), normal_form='сталь', score=0.005479, methods_stack=((DictionaryAnalyzer(), 'стали', 13, 6),)),\n",
              " Parse(word='стали', tag=OpencorporaTag('NOUN,inan,femn sing,datv'), normal_form='сталь', score=0.002739, methods_stack=((DictionaryAnalyzer(), 'стали', 13, 2),)),\n",
              " Parse(word='стали', tag=OpencorporaTag('NOUN,inan,femn sing,loct'), normal_form='сталь', score=0.002739, methods_stack=((DictionaryAnalyzer(), 'стали', 13, 5),)),\n",
              " Parse(word='стали', tag=OpencorporaTag('NOUN,inan,femn plur,accs'), normal_form='сталь', score=0.002739, methods_stack=((DictionaryAnalyzer(), 'стали', 13, 9),))]"
            ]
          },
          "metadata": {},
          "execution_count": 49
        }
      ]
    },
    {
      "cell_type": "code",
      "metadata": {
        "id": "On-5YsX2LB0G",
        "colab": {
          "base_uri": "https://localhost:8080/"
        },
        "outputId": "7fb3a4cf-94b0-43e5-b663-88feea6f5fa4"
      },
      "source": [
        "first = p[0]  # первый разбор\n",
        "print('Word:', first.word)\n",
        "print('Tag:', first.tag)\n",
        "print('Lemma:', first.normal_form)\n",
        "print('Proba:', first.score)"
      ],
      "execution_count": null,
      "outputs": [
        {
          "output_type": "stream",
          "name": "stdout",
          "text": [
            "Word: стали\n",
            "Tag: VERB,perf,intr plur,past,indc\n",
            "Lemma: стать\n",
            "Proba: 0.975342\n"
          ]
        }
      ]
    },
    {
      "cell_type": "code",
      "metadata": {
        "id": "1zpHN3gRLB0H",
        "colab": {
          "base_uri": "https://localhost:8080/"
        },
        "outputId": "43637c03-1bd6-406c-a2ae-dc1fe3857cf5"
      },
      "source": [
        "print(first.normalized)        # лемма\n",
        "print(first.tag.POS)           # Part of Speech, часть речи\n",
        "print(first.tag.animacy)       # одушевленность\n",
        "print(first.tag.aspect)        # вид: совершенный или несовершенный\n",
        "print(first.tag.case)          # падеж\n",
        "print(first.tag.gender)        # род (мужской, женский, средний)\n",
        "print(first.tag.involvement)   # включенность говорящего в действие\n",
        "print(first.tag.mood)          # наклонение (повелительное, изъявительное)\n",
        "print(first.tag.number)        # число (единственное, множественное)\n",
        "print(first.tag.person)        # лицо (1, 2, 3)\n",
        "print(first.tag.tense)         # время (настоящее, прошедшее, будущее)\n",
        "print(first.tag.transitivity)  # переходность (переходный, непереходный)\n",
        "print(first.tag.voice)         # залог (действительный, страдательный)"
      ],
      "execution_count": null,
      "outputs": [
        {
          "output_type": "stream",
          "name": "stdout",
          "text": [
            "Parse(word='стать', tag=OpencorporaTag('INFN,perf,intr'), normal_form='стать', score=1.0, methods_stack=((DictionaryAnalyzer(), 'стать', 945, 0),))\n",
            "VERB\n",
            "None\n",
            "perf\n",
            "None\n",
            "None\n",
            "None\n",
            "indc\n",
            "plur\n",
            "None\n",
            "past\n",
            "intr\n",
            "None\n"
          ]
        }
      ]
    },
    {
      "cell_type": "code",
      "metadata": {
        "id": "f0zU7pTQLB0H",
        "colab": {
          "base_uri": "https://localhost:8080/"
        },
        "outputId": "4991d57b-d0da-47f8-ebe0-a39c0b0a1f4f"
      },
      "source": [
        "butyavka = morph.parse('бутявка')[0]\n",
        "print(butyavka.inflect({'gent'}))  # нет кого? (родительный падеж)\n",
        "print(butyavka.inflect({'plur', 'gent'}))  # кого много?"
      ],
      "execution_count": null,
      "outputs": [
        {
          "output_type": "stream",
          "name": "stdout",
          "text": [
            "Parse(word='бутявки', tag=OpencorporaTag('NOUN,inan,femn sing,gent'), normal_form='бутявка', score=1.0, methods_stack=((DictionaryAnalyzer(), 'явки', 8, 1), (UnknownPrefixAnalyzer(score_multiplier=0.5), 'бут')))\n",
            "Parse(word='бутявок', tag=OpencorporaTag('NOUN,inan,femn plur,gent'), normal_form='бутявка', score=1.0, methods_stack=((DictionaryAnalyzer(), 'явок', 8, 8), (UnknownPrefixAnalyzer(score_multiplier=0.5), 'бут')))\n"
          ]
        }
      ]
    },
    {
      "cell_type": "markdown",
      "metadata": {
        "id": "aeAMqAd1LB0I"
      },
      "source": [
        "#### mystem vs. pymorphy\n",
        "\n",
        "1) Both of them can work with out-of-vocabulary words (OOV).\n",
        "\n",
        "2) *Speed*. Mystem runs incredibly slow under Windows on large texts, but still very fast if you run it from the console on linux / mac os.\n",
        "\n",
        "3) *Disambiguation*. Mystem is able to disambiguate words by context (although it does not always succeed), pymorphy2 takes one word as input and, accordingly, does not know how to disambiguate by context at all"
      ]
    },
    {
      "cell_type": "code",
      "metadata": {
        "id": "pBjeigJELB0I",
        "outputId": "ab2ed31c-9cd4-4a97-9c2b-9c46d8baa9b2"
      },
      "source": [
        "homonym1 = 'За время обучения я прослушал больше сорока курсов.'\n",
        "homonym2 = 'Сорока своровала блестящее украшение со стола.'\n",
        "mystem_analyzer = Mystem() # initialize object with default parameters\n",
        "\n",
        "print(mystem_analyzer.analyze(homonym1)[-5])\n",
        "print(mystem_analyzer.analyze(homonym2)[0])"
      ],
      "execution_count": null,
      "outputs": [
        {
          "name": "stdout",
          "output_type": "stream",
          "text": [
            "{'analysis': [{'lex': 'сорок', 'wt': 0.8710292578, 'gr': 'NUM=(пр|дат|род|твор)'}], 'text': 'сорока'}\n",
            "{'analysis': [{'lex': 'сорока', 'wt': 0.1210970059, 'gr': 'S,жен,од=им,ед'}], 'text': 'Сорока'}\n"
          ]
        }
      ]
    },
    {
      "cell_type": "code",
      "metadata": {
        "id": "ljXsqjbILB0I",
        "outputId": "7f0a641a-433a-48bd-b57a-eb95b069683e"
      },
      "source": [
        "p = morph.parse('сорока')\n",
        "p"
      ],
      "execution_count": null,
      "outputs": [
        {
          "data": {
            "text/plain": [
              "[Parse(word='сорока', tag=OpencorporaTag('NUMR gent'), normal_form='сорок', score=0.636363, methods_stack=((DictionaryAnalyzer(), 'сорока', 2856, 1),)),\n",
              " Parse(word='сорока', tag=OpencorporaTag('NOUN,anim,femn sing,nomn'), normal_form='сорока', score=0.090909, methods_stack=((DictionaryAnalyzer(), 'сорока', 407, 0),)),\n",
              " Parse(word='сорока', tag=OpencorporaTag('NUMR ablt'), normal_form='сорок', score=0.090909, methods_stack=((DictionaryAnalyzer(), 'сорока', 2856, 4),)),\n",
              " Parse(word='сорока', tag=OpencorporaTag('NUMR loct'), normal_form='сорок', score=0.090909, methods_stack=((DictionaryAnalyzer(), 'сорока', 2856, 5),)),\n",
              " Parse(word='сорока', tag=OpencorporaTag('NOUN,inan,femn sing,nomn'), normal_form='сорока', score=0.045454, methods_stack=((DictionaryAnalyzer(), 'сорока', 44, 0),)),\n",
              " Parse(word='сорока', tag=OpencorporaTag('NUMR datv'), normal_form='сорок', score=0.045454, methods_stack=((DictionaryAnalyzer(), 'сорока', 2856, 2),))]"
            ]
          },
          "execution_count": 68,
          "metadata": {},
          "output_type": "execute_result"
        }
      ]
    },
    {
      "cell_type": "markdown",
      "metadata": {
        "id": "6xilaghbLB0I"
      },
      "source": [
        "## Задание"
      ]
    },
    {
      "cell_type": "markdown",
      "metadata": {
        "id": "6An72nowLB0J"
      },
      "source": [
        "1. Установите неоходимые модули и запустите ноутбук.\n",
        "2. Соберите целиком pipeline для предобработки русского и английского языков (оформите через класс или функцию). При помощи него предобработайте тексты на русском и английском."
      ]
    },
    {
      "cell_type": "code",
      "metadata": {
        "id": "pqPzOPAvLB0J"
      },
      "source": [
        "from sklearn.datasets import fetch_20newsgroups\n",
        "import pandas as pd\n",
        "\n",
        "def twenty_newsgroup_to_csv():\n",
        "    newsgroups_train = fetch_20newsgroups(subset='train', remove=('headers', 'footers', 'quotes'))\n",
        "\n",
        "    df = pd.DataFrame([newsgroups_train.data, newsgroups_train.target.tolist()]).T\n",
        "    df.columns = ['text', 'target']\n",
        "\n",
        "    targets = pd.DataFrame( newsgroups_train.target_names)\n",
        "    targets.columns=['title']\n",
        "\n",
        "    out = pd.merge(df, targets, left_on='target', right_index=True)\n",
        "    out['date'] = pd.to_datetime('now')\n",
        "    return out"
      ],
      "execution_count": null,
      "outputs": []
    },
    {
      "cell_type": "code",
      "metadata": {
        "id": "5nwTPivBLB0J",
        "colab": {
          "base_uri": "https://localhost:8080/",
          "height": 204
        },
        "outputId": "2de89648-425c-472f-f4e5-070e24ca832d"
      },
      "source": [
        "df = twenty_newsgroup_to_csv()\n",
        "df.head(5)"
      ],
      "execution_count": null,
      "outputs": [
        {
          "output_type": "execute_result",
          "data": {
            "text/html": [
              "<div>\n",
              "<style scoped>\n",
              "    .dataframe tbody tr th:only-of-type {\n",
              "        vertical-align: middle;\n",
              "    }\n",
              "\n",
              "    .dataframe tbody tr th {\n",
              "        vertical-align: top;\n",
              "    }\n",
              "\n",
              "    .dataframe thead th {\n",
              "        text-align: right;\n",
              "    }\n",
              "</style>\n",
              "<table border=\"1\" class=\"dataframe\">\n",
              "  <thead>\n",
              "    <tr style=\"text-align: right;\">\n",
              "      <th></th>\n",
              "      <th>text</th>\n",
              "      <th>target</th>\n",
              "      <th>title</th>\n",
              "      <th>date</th>\n",
              "    </tr>\n",
              "  </thead>\n",
              "  <tbody>\n",
              "    <tr>\n",
              "      <th>0</th>\n",
              "      <td>I was wondering if anyone out there could enli...</td>\n",
              "      <td>7</td>\n",
              "      <td>rec.autos</td>\n",
              "      <td>2021-11-26 11:04:03.372522</td>\n",
              "    </tr>\n",
              "    <tr>\n",
              "      <th>17</th>\n",
              "      <td>I recently posted an article asking what kind ...</td>\n",
              "      <td>7</td>\n",
              "      <td>rec.autos</td>\n",
              "      <td>2021-11-26 11:04:03.372522</td>\n",
              "    </tr>\n",
              "    <tr>\n",
              "      <th>29</th>\n",
              "      <td>\\nIt depends on your priorities.  A lot of peo...</td>\n",
              "      <td>7</td>\n",
              "      <td>rec.autos</td>\n",
              "      <td>2021-11-26 11:04:03.372522</td>\n",
              "    </tr>\n",
              "    <tr>\n",
              "      <th>56</th>\n",
              "      <td>an excellent automatic can be found in the sub...</td>\n",
              "      <td>7</td>\n",
              "      <td>rec.autos</td>\n",
              "      <td>2021-11-26 11:04:03.372522</td>\n",
              "    </tr>\n",
              "    <tr>\n",
              "      <th>64</th>\n",
              "      <td>: Ford and his automobile.  I need information...</td>\n",
              "      <td>7</td>\n",
              "      <td>rec.autos</td>\n",
              "      <td>2021-11-26 11:04:03.372522</td>\n",
              "    </tr>\n",
              "  </tbody>\n",
              "</table>\n",
              "</div>"
            ],
            "text/plain": [
              "                                                 text  ...                       date\n",
              "0   I was wondering if anyone out there could enli...  ... 2021-11-26 11:04:03.372522\n",
              "17  I recently posted an article asking what kind ...  ... 2021-11-26 11:04:03.372522\n",
              "29  \\nIt depends on your priorities.  A lot of peo...  ... 2021-11-26 11:04:03.372522\n",
              "56  an excellent automatic can be found in the sub...  ... 2021-11-26 11:04:03.372522\n",
              "64  : Ford and his automobile.  I need information...  ... 2021-11-26 11:04:03.372522\n",
              "\n",
              "[5 rows x 4 columns]"
            ]
          },
          "metadata": {},
          "execution_count": 18
        }
      ]
    },
    {
      "cell_type": "code",
      "metadata": {
        "id": "N6cIBtGQLB0J",
        "colab": {
          "base_uri": "https://localhost:8080/",
          "height": 69
        },
        "outputId": "cf0fc750-247a-430a-8c15-f71e67b55e06"
      },
      "source": [
        "df['text'][0]"
      ],
      "execution_count": null,
      "outputs": [
        {
          "output_type": "execute_result",
          "data": {
            "application/vnd.google.colaboratory.intrinsic+json": {
              "type": "string"
            },
            "text/plain": [
              "'I was wondering if anyone out there could enlighten me on this car I saw\\nthe other day. It was a 2-door sports car, looked to be from the late 60s/\\nearly 70s. It was called a Bricklin. The doors were really small. In addition,\\nthe front bumper was separate from the rest of the body. This is \\nall I know. If anyone can tellme a model name, engine specs, years\\nof production, where this car is made, history, or whatever info you\\nhave on this funky looking car, please e-mail.'"
            ]
          },
          "metadata": {},
          "execution_count": 19
        }
      ]
    },
    {
      "cell_type": "code",
      "metadata": {
        "id": "vs6CynJw7abX"
      },
      "source": [
        "!pip install pymystem3==0.1.10"
      ],
      "execution_count": null,
      "outputs": []
    },
    {
      "cell_type": "code",
      "metadata": {
        "id": "3Q2g-QQL4Hn5"
      },
      "source": [
        "!pip install --upgrade spacy"
      ],
      "execution_count": null,
      "outputs": []
    },
    {
      "cell_type": "code",
      "metadata": {
        "id": "sUsoCLom4hgw"
      },
      "source": [
        "!python3.7 -m spacy download en_core_web_sm\n",
        "!python3.7 -m spacy download ru_core_news_sm"
      ],
      "execution_count": null,
      "outputs": []
    },
    {
      "cell_type": "code",
      "metadata": {
        "id": "YNyyhHByLB0K",
        "colab": {
          "base_uri": "https://localhost:8080/"
        },
        "outputId": "2d40bd47-dc1c-41a9-ba78-5ce2802cbfb5"
      },
      "source": [
        "from nltk.tokenize import sent_tokenize\n",
        "from nltk.tokenize import word_tokenize\n",
        "from string import punctuation\n",
        "from nltk.corpus import stopwords\n",
        "from pymystem3 import Mystem\n",
        "\n",
        "import nltk\n",
        "import spacy\n",
        "\n",
        "nltk.download('punkt')\n",
        "nltk.download('stopwords')\n",
        "\n",
        "class TextPreprocess:\n",
        "  def __init__(self, text: str):\n",
        "    self.text = text\n",
        "  \n",
        "  @staticmethod\n",
        "  def tokenize(text):\n",
        "    text = text.replace('\\n', ' ')\n",
        "    #tokens = text_ru.split()\n",
        "    return word_tokenize(text)\n",
        "  \n",
        "  @staticmethod\n",
        "  def remove_punctuation(text: list):\n",
        "    return [w.strip(punctuation) for w in text]\n",
        "  \n",
        "  @staticmethod\n",
        "  def to_lower_case(text: list):\n",
        "    return [w.lower() for w in text if w != '']\n",
        "\n",
        "  @staticmethod\n",
        "  def remove_stop_words(text: list, lang: str):\n",
        "    sw = stopwords.words(lang)\n",
        "    return [w for w in text if w not in sw]\n",
        "  \n",
        "  @staticmethod\n",
        "  def general_process(text: str):\n",
        "    tokens = TextPreprocess.tokenize(text)\n",
        "    no_punkt = TextPreprocess.remove_punctuation(tokens) \n",
        "    return TextPreprocess.to_lower_case(no_punkt)\n",
        "  \n",
        "  def preprocess_rus(self):\n",
        "    clean_words = TextPreprocess.general_process(self.text)\n",
        "    no_sw = TextPreprocess.remove_stop_words(clean_words, 'russian')\n",
        "\n",
        "    nlp_rus = spacy.load(\"ru_core_news_sm\")\n",
        "    spacy_text = nlp_rus(' '.join(no_sw))\n",
        "    lemmas = [token.lemma_ for token in spacy_text if token.pos_ != \"SPACE\"]\n",
        "\n",
        "    return lemmas\n",
        "  \n",
        "  def preprocess_eng(self):\n",
        "    clean_words = TextPreprocess.general_process(self.text)\n",
        "    no_sw = TextPreprocess.remove_stop_words(clean_words, 'english')   \n",
        "\n",
        "    nlp_eng = spacy.load(\"en_core_web_sm\")\n",
        "    spacy_text = nlp_eng(' '.join(no_sw))\n",
        "    lemmas = [token.lemma_ for token in spacy_text if token.pos_ != \"SPACE\"]\n",
        "\n",
        "    return lemmas "
      ],
      "execution_count": null,
      "outputs": [
        {
          "output_type": "stream",
          "name": "stdout",
          "text": [
            "[nltk_data] Downloading package punkt to /root/nltk_data...\n",
            "[nltk_data]   Package punkt is already up-to-date!\n",
            "[nltk_data] Downloading package stopwords to /root/nltk_data...\n",
            "[nltk_data]   Package stopwords is already up-to-date!\n"
          ]
        }
      ]
    },
    {
      "cell_type": "code",
      "metadata": {
        "colab": {
          "base_uri": "https://localhost:8080/",
          "height": 86
        },
        "id": "fjSiDAal7yNp",
        "outputId": "0afe0297-517e-45fc-afe4-976acfa5bcd6"
      },
      "source": [
        "rus_news = '''\n",
        "Замруководителя управления Роспотребнадзора по Нижегородской области Наталья Садыкова рассказала в ходе брифинга 24 ноября, какие ограничительные меры будут действовать в регионе в период новогодних праздников.\n",
        "\n",
        "По словам представителя надзорного ведомства, сейчас данный вопрос находится на рассмотрении координационного штаба.\n",
        "\n",
        "По предварительной информации, проведение утренников в детских садах и школах будет разрешено, но по группам и классам. Родители смогут присутствовать на мероприятиях - правда, только при наличии QR-кодов, подтверждающих прохождение вакцинации или иммунизацию после перенесенного заболевания.\n",
        "'''\n",
        "\n",
        "text_preproc = TextPreprocess(rus_news)\n",
        "res_ru = text_preproc.preprocess_rus()\n",
        "\n",
        "' '.join(res_ru)"
      ],
      "execution_count": null,
      "outputs": [
        {
          "output_type": "execute_result",
          "data": {
            "application/vnd.google.colaboratory.intrinsic+json": {
              "type": "string"
            },
            "text/plain": [
              "'замруководителя управление роспотребнадзор нижегородский область наталья садыкова рассказать ходе брифинг 24 ноябрь какой ограничительный мера будут действовать регионе период новогодний праздник слово представитель надзорный ведомство данный вопрос находиться рассмотрение координационный штаб предварительный информация проведение утренник детский сад школа разрешить группа класс родитель смочь присутствовать мероприятие правда наличие qr - код подтверждать прохождение вакцинация иммунизация перенесенного заболевание'"
            ]
          },
          "metadata": {},
          "execution_count": 15
        }
      ]
    },
    {
      "cell_type": "code",
      "metadata": {
        "colab": {
          "base_uri": "https://localhost:8080/",
          "height": 52
        },
        "id": "rb_9B-lGIOgM",
        "outputId": "4034fc30-364e-4668-817c-417a11177c21"
      },
      "source": [
        "text_preproc = TextPreprocess(df['text'][0])\n",
        "res_eng = text_preproc.preprocess_eng()\n",
        "\n",
        "' '.join(res_eng)"
      ],
      "execution_count": null,
      "outputs": [
        {
          "output_type": "execute_result",
          "data": {
            "application/vnd.google.colaboratory.intrinsic+json": {
              "type": "string"
            },
            "text/plain": [
              "'wonder anyone could enlighten car see day 2 - door sport car look late 60s early 70s call bricklin door really small addition front bumper separate rest body know anyone tellme model name engine spec year production car make history whatever info funky look car please e - mail'"
            ]
          },
          "metadata": {},
          "execution_count": 20
        }
      ]
    },
    {
      "cell_type": "code",
      "metadata": {
        "colab": {
          "base_uri": "https://localhost:8080/",
          "height": 69
        },
        "id": "JDwRQQ12IcLY",
        "outputId": "cfc361bc-9cd8-4332-d366-80b33a0d6a52"
      },
      "source": [
        "df['text'][0]"
      ],
      "execution_count": null,
      "outputs": [
        {
          "output_type": "execute_result",
          "data": {
            "application/vnd.google.colaboratory.intrinsic+json": {
              "type": "string"
            },
            "text/plain": [
              "'I was wondering if anyone out there could enlighten me on this car I saw\\nthe other day. It was a 2-door sports car, looked to be from the late 60s/\\nearly 70s. It was called a Bricklin. The doors were really small. In addition,\\nthe front bumper was separate from the rest of the body. This is \\nall I know. If anyone can tellme a model name, engine specs, years\\nof production, where this car is made, history, or whatever info you\\nhave on this funky looking car, please e-mail.'"
            ]
          },
          "metadata": {},
          "execution_count": 65
        }
      ]
    }
  ]
}