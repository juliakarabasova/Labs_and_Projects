{
  "nbformat": 4,
  "nbformat_minor": 0,
  "metadata": {
    "kernelspec": {
      "display_name": "Python 3",
      "language": "python",
      "name": "python3"
    },
    "language_info": {
      "codemirror_mode": {
        "name": "ipython",
        "version": 3
      },
      "file_extension": ".py",
      "mimetype": "text/x-python",
      "name": "python",
      "nbconvert_exporter": "python",
      "pygments_lexer": "ipython3",
      "version": "3.7.2"
    },
    "colab": {
      "name": "text_representations_2.ipynb",
      "provenance": [],
      "collapsed_sections": [],
      "include_colab_link": true
    }
  },
  "cells": [
    {
      "cell_type": "markdown",
      "metadata": {
        "id": "view-in-github",
        "colab_type": "text"
      },
      "source": [
        "<a href=\"https://colab.research.google.com/github/juliakarabasova/labs_and_projects/blob/main/nlp/text_representations_2.ipynb\" target=\"_parent\"><img src=\"https://colab.research.google.com/assets/colab-badge.svg\" alt=\"Open In Colab\"/></a>"
      ]
    },
    {
      "cell_type": "code",
      "metadata": {
        "colab": {
          "base_uri": "https://localhost:8080/"
        },
        "id": "vm3bu3Am-Dlv",
        "outputId": "da249095-5feb-48f8-f691-e623b63ab70f"
      },
      "source": [
        "!pip install pymystem3==0.1.10"
      ],
      "execution_count": null,
      "outputs": [
        {
          "output_type": "stream",
          "name": "stdout",
          "text": [
            "Collecting pymystem3==0.1.10\n",
            "  Downloading pymystem3-0.1.10-py3-none-any.whl (10 kB)\n",
            "Requirement already satisfied: requests in /usr/local/lib/python3.7/dist-packages (from pymystem3==0.1.10) (2.23.0)\n",
            "Requirement already satisfied: certifi>=2017.4.17 in /usr/local/lib/python3.7/dist-packages (from requests->pymystem3==0.1.10) (2021.10.8)\n",
            "Requirement already satisfied: idna<3,>=2.5 in /usr/local/lib/python3.7/dist-packages (from requests->pymystem3==0.1.10) (2.10)\n",
            "Requirement already satisfied: chardet<4,>=3.0.2 in /usr/local/lib/python3.7/dist-packages (from requests->pymystem3==0.1.10) (3.0.4)\n",
            "Requirement already satisfied: urllib3!=1.25.0,!=1.25.1,<1.26,>=1.21.1 in /usr/local/lib/python3.7/dist-packages (from requests->pymystem3==0.1.10) (1.24.3)\n",
            "Installing collected packages: pymystem3\n",
            "  Attempting uninstall: pymystem3\n",
            "    Found existing installation: pymystem3 0.2.0\n",
            "    Uninstalling pymystem3-0.2.0:\n",
            "      Successfully uninstalled pymystem3-0.2.0\n",
            "Successfully installed pymystem3-0.1.10\n"
          ]
        }
      ]
    },
    {
      "cell_type": "code",
      "metadata": {
        "id": "tNnDyJJPQE0Z"
      },
      "source": [
        "import os\n",
        "import re\n",
        "import math\n",
        "import pandas as pd\n",
        "import nltk\n",
        "from string import punctuation\n",
        "from pymystem3 import Mystem\n",
        "import numpy as np"
      ],
      "execution_count": 3,
      "outputs": []
    },
    {
      "cell_type": "markdown",
      "metadata": {
        "id": "CNHhRfq-QE0f"
      },
      "source": [
        "### 1. Get links to all files in dataset"
      ]
    },
    {
      "cell_type": "code",
      "metadata": {
        "colab": {
          "base_uri": "https://localhost:8080/"
        },
        "id": "lRwflEm96wuF",
        "outputId": "e72ba0d5-2522-4767-dcb9-24d04b914769"
      },
      "source": [
        "from google.colab import drive\n",
        "drive.mount('/content/drive/')"
      ],
      "execution_count": 1,
      "outputs": [
        {
          "output_type": "stream",
          "name": "stdout",
          "text": [
            "Mounted at /content/drive/\n"
          ]
        }
      ]
    },
    {
      "cell_type": "code",
      "metadata": {
        "colab": {
          "base_uri": "https://localhost:8080/"
        },
        "id": "YECwf-jo64w_",
        "outputId": "57fffb32-e0d8-49b4-801c-f704e9f76ef3"
      },
      "source": [
        "os.listdir('/content/drive/MyDrive/dataset')"
      ],
      "execution_count": 4,
      "outputs": [
        {
          "output_type": "execute_result",
          "data": {
            "text/plain": [
              "['.DS_Store', 'bad', 'good', 'neutral']"
            ]
          },
          "metadata": {},
          "execution_count": 4
        }
      ]
    },
    {
      "cell_type": "code",
      "metadata": {
        "id": "b-rTrpkTQE0j"
      },
      "source": [
        "list_of_files = []\n",
        "for dirname in ['bad', 'good', 'neutral']:\n",
        "    for filename in os.listdir(r\"/content/drive/MyDrive/dataset\" + r'/' + dirname):\n",
        "        list_of_files.append(dirname + \"/\" + filename)"
      ],
      "execution_count": null,
      "outputs": []
    },
    {
      "cell_type": "code",
      "metadata": {
        "id": "Bb6eBk6yQE0k",
        "colab": {
          "base_uri": "https://localhost:8080/"
        },
        "outputId": "150b55ef-bb03-4a6a-b585-ffe71b728486"
      },
      "source": [
        "list_of_files[:5]"
      ],
      "execution_count": null,
      "outputs": [
        {
          "output_type": "execute_result",
          "data": {
            "text/plain": [
              "['bad/785.txt', 'bad/253.txt', 'bad/330.txt', 'bad/592.txt', 'bad/83.txt']"
            ]
          },
          "metadata": {},
          "execution_count": 6
        }
      ]
    },
    {
      "cell_type": "code",
      "metadata": {
        "id": "1XfMl0IlQE0m",
        "colab": {
          "base_uri": "https://localhost:8080/"
        },
        "outputId": "81fdfdfb-5fed-4fd9-ce1c-19201ed6f871"
      },
      "source": [
        "len(list_of_files)"
      ],
      "execution_count": null,
      "outputs": [
        {
          "output_type": "execute_result",
          "data": {
            "text/plain": [
              "2900"
            ]
          },
          "metadata": {},
          "execution_count": 7
        }
      ]
    },
    {
      "cell_type": "markdown",
      "metadata": {
        "id": "7wTNi31oQE0n"
      },
      "source": [
        "### 2. Form a dataset"
      ]
    },
    {
      "cell_type": "code",
      "metadata": {
        "id": "hQ5AxDsPQE0o",
        "colab": {
          "base_uri": "https://localhost:8080/",
          "height": 414
        },
        "outputId": "6361860e-2645-49aa-90ed-a223f631ba66"
      },
      "source": [
        "df = pd.DataFrame(columns=[\"text\", \"target\"])\n",
        "\n",
        "for filename in list_of_files:\n",
        "    text = open(os.path.join(\"/content/drive/MyDrive/dataset\", filename), encoding='utf8', errors='ignore').read()\n",
        "    label = filename.split('/')[0]\n",
        "    df = df.append({\n",
        "                    \"text\": text,\n",
        "                    \"target\":  label\n",
        "                    }, ignore_index=True)\n",
        "    \n",
        "df"
      ],
      "execution_count": null,
      "outputs": [
        {
          "output_type": "execute_result",
          "data": {
            "text/html": [
              "<div>\n",
              "<style scoped>\n",
              "    .dataframe tbody tr th:only-of-type {\n",
              "        vertical-align: middle;\n",
              "    }\n",
              "\n",
              "    .dataframe tbody tr th {\n",
              "        vertical-align: top;\n",
              "    }\n",
              "\n",
              "    .dataframe thead th {\n",
              "        text-align: right;\n",
              "    }\n",
              "</style>\n",
              "<table border=\"1\" class=\"dataframe\">\n",
              "  <thead>\n",
              "    <tr style=\"text-align: right;\">\n",
              "      <th></th>\n",
              "      <th>text</th>\n",
              "      <th>target</th>\n",
              "    </tr>\n",
              "  </thead>\n",
              "  <tbody>\n",
              "    <tr>\n",
              "      <th>0</th>\n",
              "      <td>Пародия пародии рознь. Эту пародию мне бы, на ...</td>\n",
              "      <td>bad</td>\n",
              "    </tr>\n",
              "    <tr>\n",
              "      <th>1</th>\n",
              "      <td>В один прекрасный день я решил посмотреть паро...</td>\n",
              "      <td>bad</td>\n",
              "    </tr>\n",
              "    <tr>\n",
              "      <th>2</th>\n",
              "      <td>В поисках хорошего фильма на вечер на какие то...</td>\n",
              "      <td>bad</td>\n",
              "    </tr>\n",
              "    <tr>\n",
              "      <th>3</th>\n",
              "      <td>По сравнению с этим фильмом, даже 'Борат' вам ...</td>\n",
              "      <td>bad</td>\n",
              "    </tr>\n",
              "    <tr>\n",
              "      <th>4</th>\n",
              "      <td>Бррр... Ну нет, я такие фильмы терпеть не наме...</td>\n",
              "      <td>bad</td>\n",
              "    </tr>\n",
              "    <tr>\n",
              "      <th>...</th>\n",
              "      <td>...</td>\n",
              "      <td>...</td>\n",
              "    </tr>\n",
              "    <tr>\n",
              "      <th>2895</th>\n",
              "      <td>Помню в детстве у меня был диск с мультфильмам...</td>\n",
              "      <td>neutral</td>\n",
              "    </tr>\n",
              "    <tr>\n",
              "      <th>2896</th>\n",
              "      <td>Да-а...Посмотрел очередную поделку от мега гиг...</td>\n",
              "      <td>neutral</td>\n",
              "    </tr>\n",
              "    <tr>\n",
              "      <th>2897</th>\n",
              "      <td>Волшебно, ярко и зрелищно.\\n\\n\\nНостальгия сде...</td>\n",
              "      <td>neutral</td>\n",
              "    </tr>\n",
              "    <tr>\n",
              "      <th>2898</th>\n",
              "      <td>Сюжет, я думаю, рассказывать никому не надо. П...</td>\n",
              "      <td>neutral</td>\n",
              "    </tr>\n",
              "    <tr>\n",
              "      <th>2899</th>\n",
              "      <td>Если у вас, также как и у меня, любимый мультф...</td>\n",
              "      <td>neutral</td>\n",
              "    </tr>\n",
              "  </tbody>\n",
              "</table>\n",
              "<p>2900 rows × 2 columns</p>\n",
              "</div>"
            ],
            "text/plain": [
              "                                                   text   target\n",
              "0     Пародия пародии рознь. Эту пародию мне бы, на ...      bad\n",
              "1     В один прекрасный день я решил посмотреть паро...      bad\n",
              "2     В поисках хорошего фильма на вечер на какие то...      bad\n",
              "3     По сравнению с этим фильмом, даже 'Борат' вам ...      bad\n",
              "4     Бррр... Ну нет, я такие фильмы терпеть не наме...      bad\n",
              "...                                                 ...      ...\n",
              "2895  Помню в детстве у меня был диск с мультфильмам...  neutral\n",
              "2896  Да-а...Посмотрел очередную поделку от мега гиг...  neutral\n",
              "2897  Волшебно, ярко и зрелищно.\\n\\n\\nНостальгия сде...  neutral\n",
              "2898  Сюжет, я думаю, рассказывать никому не надо. П...  neutral\n",
              "2899  Если у вас, также как и у меня, любимый мультф...  neutral\n",
              "\n",
              "[2900 rows x 2 columns]"
            ]
          },
          "metadata": {},
          "execution_count": 8
        }
      ]
    },
    {
      "cell_type": "code",
      "source": [
        "df_copy = df.copy()"
      ],
      "metadata": {
        "id": "-8Yd6uvXN7gc"
      },
      "execution_count": null,
      "outputs": []
    },
    {
      "cell_type": "markdown",
      "metadata": {
        "id": "FHHSS9ATQE0p"
      },
      "source": [
        "### 3. Preprocess texts"
      ]
    },
    {
      "cell_type": "code",
      "metadata": {
        "id": "pH3yRaNqQE0q",
        "colab": {
          "base_uri": "https://localhost:8080/"
        },
        "outputId": "12b92f0b-a790-4bd8-c4fb-42a7559e2e43"
      },
      "source": [
        "m = Mystem()\n",
        "\n",
        "def preprocess(text):\n",
        "    lemmas = m.lemmatize(text)\n",
        "    return [l.strip() for l in lemmas if l.strip() != '']\n",
        "\n",
        "print(preprocess(df['text'][0]))"
      ],
      "execution_count": null,
      "outputs": [
        {
          "output_type": "stream",
          "name": "stderr",
          "text": [
            "Installing mystem to /root/.local/bin/mystem from http://download.cdn.yandex.net/mystem/mystem-3.0-linux3.1-64bit.tar.gz\n"
          ]
        },
        {
          "output_type": "stream",
          "name": "stdout",
          "text": [
            "['пародия', 'пародия', 'рознь', '.', 'этот', 'пародия', 'я', 'бы', ',', 'на', 'место', 'режиссер', ',', 'стыдно', 'быть', 'бы', 'выставлять', 'на', 'суд', 'публика', '.', 'нелепо', 'до', 'безумие', ',', 'актер', 'играть', 'так', ',', 'что', 'плакать', 'хотеться', ',', 'а', 'добротный', 'юмор', 'здесь', 'и', 'вовсе', 'не', 'пахнуть', '.', 'не', 'вполне', 'понятный', 'событие', 'быстро', 'сменять', 'друг', 'друг', ',', 'даже', 'не', 'оставлять', 'после', 'себя', 'абсолютно', 'никакой', 'осадок', 'в', 'память', 'у', 'зритель', '.', 'любитель', 'от', 'душа', 'посмеяться', 'в', 'этот', 'фильм', 'не', 'находить', 'искомый', '.', 'задумка', ',', 'может', ',', 'быть', 'и', 'неплохой', '-', 'кроссовер', ',', 'эдакий', 'пересечение', 'разный', 'сюжет', ',', 'абсолютно', 'несовместимый', 'между', 'себя', 'фильм', '.', 'но', 'то', ',', 'как', 'этот', 'задумка', 'реализовать', ',', 'действительно', 'шокировать', '.', '1', 'из', '10', 'просто', 'потратить', 'впустую', 'полтора', 'час', 'жизнь', '.', 'мой', 'вы', 'совет', ':', 'потратить', 'этот', 'время', 'на', 'что-нибудь', 'более', 'полезный', 'для', 'себя', 'и', 'для', 'окружать', 'вы', 'человек', '.']\n"
          ]
        }
      ]
    },
    {
      "cell_type": "code",
      "metadata": {
        "id": "DS2m4879QE0r",
        "colab": {
          "base_uri": "https://localhost:8080/",
          "height": 419
        },
        "outputId": "ac1b5037-5db6-4fb1-cc54-c0baeab4d97b"
      },
      "source": [
        "df[\"text\"] = df[\"text\"].apply(preprocess)\n",
        "df"
      ],
      "execution_count": null,
      "outputs": [
        {
          "output_type": "execute_result",
          "data": {
            "text/html": [
              "<div>\n",
              "<style scoped>\n",
              "    .dataframe tbody tr th:only-of-type {\n",
              "        vertical-align: middle;\n",
              "    }\n",
              "\n",
              "    .dataframe tbody tr th {\n",
              "        vertical-align: top;\n",
              "    }\n",
              "\n",
              "    .dataframe thead th {\n",
              "        text-align: right;\n",
              "    }\n",
              "</style>\n",
              "<table border=\"1\" class=\"dataframe\">\n",
              "  <thead>\n",
              "    <tr style=\"text-align: right;\">\n",
              "      <th></th>\n",
              "      <th>text</th>\n",
              "      <th>target</th>\n",
              "    </tr>\n",
              "  </thead>\n",
              "  <tbody>\n",
              "    <tr>\n",
              "      <th>0</th>\n",
              "      <td>[пародия, пародия, рознь, ., этот, пародия, я,...</td>\n",
              "      <td>bad</td>\n",
              "    </tr>\n",
              "    <tr>\n",
              "      <th>1</th>\n",
              "      <td>[в, один, прекрасный, день, я, решать, посмотр...</td>\n",
              "      <td>bad</td>\n",
              "    </tr>\n",
              "    <tr>\n",
              "      <th>2</th>\n",
              "      <td>[в, поиск, хороший, фильм, на, вечер, на, како...</td>\n",
              "      <td>bad</td>\n",
              "    </tr>\n",
              "    <tr>\n",
              "      <th>3</th>\n",
              "      <td>[по, сравнение, с, этот, фильм, ,, даже, ', бо...</td>\n",
              "      <td>bad</td>\n",
              "    </tr>\n",
              "    <tr>\n",
              "      <th>4</th>\n",
              "      <td>[Бррр, ..., ну, нет, ,, я, такой, фильм, терпе...</td>\n",
              "      <td>bad</td>\n",
              "    </tr>\n",
              "    <tr>\n",
              "      <th>...</th>\n",
              "      <td>...</td>\n",
              "      <td>...</td>\n",
              "    </tr>\n",
              "    <tr>\n",
              "      <th>2895</th>\n",
              "      <td>[помнить, в, детство, у, я, быть, диск, с, мул...</td>\n",
              "      <td>neutral</td>\n",
              "    </tr>\n",
              "    <tr>\n",
              "      <th>2896</th>\n",
              "      <td>[да, -, а, ..., посмотреть, очередной, поделка...</td>\n",
              "      <td>neutral</td>\n",
              "    </tr>\n",
              "    <tr>\n",
              "      <th>2897</th>\n",
              "      <td>[волшебно, ,, ярко, и, зрелищно, ., ностальгия...</td>\n",
              "      <td>neutral</td>\n",
              "    </tr>\n",
              "    <tr>\n",
              "      <th>2898</th>\n",
              "      <td>[сюжет, ,, я, думать, ,, рассказывать, никто, ...</td>\n",
              "      <td>neutral</td>\n",
              "    </tr>\n",
              "    <tr>\n",
              "      <th>2899</th>\n",
              "      <td>[если, у, вы, ,, также, как, и, у, я, ,, любим...</td>\n",
              "      <td>neutral</td>\n",
              "    </tr>\n",
              "  </tbody>\n",
              "</table>\n",
              "<p>2900 rows × 2 columns</p>\n",
              "</div>"
            ],
            "text/plain": [
              "                                                   text   target\n",
              "0     [пародия, пародия, рознь, ., этот, пародия, я,...      bad\n",
              "1     [в, один, прекрасный, день, я, решать, посмотр...      bad\n",
              "2     [в, поиск, хороший, фильм, на, вечер, на, како...      bad\n",
              "3     [по, сравнение, с, этот, фильм, ,, даже, ', бо...      bad\n",
              "4     [Бррр, ..., ну, нет, ,, я, такой, фильм, терпе...      bad\n",
              "...                                                 ...      ...\n",
              "2895  [помнить, в, детство, у, я, быть, диск, с, мул...  neutral\n",
              "2896  [да, -, а, ..., посмотреть, очередной, поделка...  neutral\n",
              "2897  [волшебно, ,, ярко, и, зрелищно, ., ностальгия...  neutral\n",
              "2898  [сюжет, ,, я, думать, ,, рассказывать, никто, ...  neutral\n",
              "2899  [если, у, вы, ,, также, как, и, у, я, ,, любим...  neutral\n",
              "\n",
              "[2900 rows x 2 columns]"
            ]
          },
          "metadata": {},
          "execution_count": 10
        }
      ]
    },
    {
      "cell_type": "markdown",
      "metadata": {
        "id": "pAG7j6p8QE0s"
      },
      "source": [
        "### 4. Bag of words"
      ]
    },
    {
      "cell_type": "code",
      "metadata": {
        "id": "OID-VwEKQE0s"
      },
      "source": [
        "from sklearn.feature_extraction.text import CountVectorizer"
      ],
      "execution_count": null,
      "outputs": []
    },
    {
      "cell_type": "code",
      "metadata": {
        "id": "C0z0jrZSQE0t",
        "outputId": "3e17e4b0-6899-41ac-d344-8441832a950f"
      },
      "source": [
        "count_vectorizer = CountVectorizer()\n",
        "\n",
        "corpus = [\n",
        "        'This is the first document.',\n",
        "        'This is the second second document.',\n",
        "        'And the third one.',\n",
        "        'Is this the first document?',\n",
        "    ]\n",
        "X = count_vectorizer.fit_transform(corpus)\n",
        "X"
      ],
      "execution_count": null,
      "outputs": [
        {
          "data": {
            "text/plain": [
              "<4x9 sparse matrix of type '<class 'numpy.int64'>'\n",
              "\twith 19 stored elements in Compressed Sparse Row format>"
            ]
          },
          "execution_count": 31,
          "metadata": {},
          "output_type": "execute_result"
        }
      ]
    },
    {
      "cell_type": "code",
      "metadata": {
        "id": "s-vXzwdTQE0u",
        "outputId": "a26a59b3-796a-4048-f731-c938e67cf2c4"
      },
      "source": [
        "count_vectorizer.get_feature_names_out()"
      ],
      "execution_count": null,
      "outputs": [
        {
          "data": {
            "text/plain": [
              "array(['and', 'document', 'first', 'is', 'one', 'second', 'the', 'third',\n",
              "       'this'], dtype=object)"
            ]
          },
          "execution_count": 32,
          "metadata": {},
          "output_type": "execute_result"
        }
      ]
    },
    {
      "cell_type": "code",
      "metadata": {
        "id": "V2iOzNAfQE0u",
        "outputId": "40432beb-caec-477e-8be0-97adab18aacf"
      },
      "source": [
        "X.toarray()"
      ],
      "execution_count": null,
      "outputs": [
        {
          "data": {
            "text/plain": [
              "array([[0, 1, 1, 1, 0, 0, 1, 0, 1],\n",
              "       [0, 1, 0, 1, 0, 2, 1, 0, 1],\n",
              "       [1, 0, 0, 0, 1, 0, 1, 1, 0],\n",
              "       [0, 1, 1, 1, 0, 0, 1, 0, 1]])"
            ]
          },
          "execution_count": 33,
          "metadata": {},
          "output_type": "execute_result"
        }
      ]
    },
    {
      "cell_type": "code",
      "metadata": {
        "id": "swGONJexQE0v",
        "colab": {
          "base_uri": "https://localhost:8080/",
          "height": 419
        },
        "outputId": "103c451c-ed18-4c43-e960-f8c450c1fa73"
      },
      "source": [
        "df_joined = df.copy()\n",
        "df_joined[\"text\"] = df_joined[\"text\"].apply(lambda x: ' '.join(x))\n",
        "df_joined"
      ],
      "execution_count": null,
      "outputs": [
        {
          "output_type": "execute_result",
          "data": {
            "text/html": [
              "<div>\n",
              "<style scoped>\n",
              "    .dataframe tbody tr th:only-of-type {\n",
              "        vertical-align: middle;\n",
              "    }\n",
              "\n",
              "    .dataframe tbody tr th {\n",
              "        vertical-align: top;\n",
              "    }\n",
              "\n",
              "    .dataframe thead th {\n",
              "        text-align: right;\n",
              "    }\n",
              "</style>\n",
              "<table border=\"1\" class=\"dataframe\">\n",
              "  <thead>\n",
              "    <tr style=\"text-align: right;\">\n",
              "      <th></th>\n",
              "      <th>text</th>\n",
              "      <th>target</th>\n",
              "    </tr>\n",
              "  </thead>\n",
              "  <tbody>\n",
              "    <tr>\n",
              "      <th>0</th>\n",
              "      <td>пародия пародия рознь . этот пародия я бы , на...</td>\n",
              "      <td>bad</td>\n",
              "    </tr>\n",
              "    <tr>\n",
              "      <th>1</th>\n",
              "      <td>в один прекрасный день я решать посмотреть пар...</td>\n",
              "      <td>bad</td>\n",
              "    </tr>\n",
              "    <tr>\n",
              "      <th>2</th>\n",
              "      <td>в поиск хороший фильм на вечер на какой только...</td>\n",
              "      <td>bad</td>\n",
              "    </tr>\n",
              "    <tr>\n",
              "      <th>3</th>\n",
              "      <td>по сравнение с этот фильм , даже ' борат ' вы ...</td>\n",
              "      <td>bad</td>\n",
              "    </tr>\n",
              "    <tr>\n",
              "      <th>4</th>\n",
              "      <td>Бррр ... ну нет , я такой фильм терпеть не нам...</td>\n",
              "      <td>bad</td>\n",
              "    </tr>\n",
              "    <tr>\n",
              "      <th>...</th>\n",
              "      <td>...</td>\n",
              "      <td>...</td>\n",
              "    </tr>\n",
              "    <tr>\n",
              "      <th>2895</th>\n",
              "      <td>помнить в детство у я быть диск с мультфильм д...</td>\n",
              "      <td>neutral</td>\n",
              "    </tr>\n",
              "    <tr>\n",
              "      <th>2896</th>\n",
              "      <td>да - а ... посмотреть очередной поделка от мег...</td>\n",
              "      <td>neutral</td>\n",
              "    </tr>\n",
              "    <tr>\n",
              "      <th>2897</th>\n",
              "      <td>волшебно , ярко и зрелищно . ностальгия сделат...</td>\n",
              "      <td>neutral</td>\n",
              "    </tr>\n",
              "    <tr>\n",
              "      <th>2898</th>\n",
              "      <td>сюжет , я думать , рассказывать никто не надо ...</td>\n",
              "      <td>neutral</td>\n",
              "    </tr>\n",
              "    <tr>\n",
              "      <th>2899</th>\n",
              "      <td>если у вы , также как и у я , любимый мультфил...</td>\n",
              "      <td>neutral</td>\n",
              "    </tr>\n",
              "  </tbody>\n",
              "</table>\n",
              "<p>2900 rows × 2 columns</p>\n",
              "</div>"
            ],
            "text/plain": [
              "                                                   text   target\n",
              "0     пародия пародия рознь . этот пародия я бы , на...      bad\n",
              "1     в один прекрасный день я решать посмотреть пар...      bad\n",
              "2     в поиск хороший фильм на вечер на какой только...      bad\n",
              "3     по сравнение с этот фильм , даже ' борат ' вы ...      bad\n",
              "4     Бррр ... ну нет , я такой фильм терпеть не нам...      bad\n",
              "...                                                 ...      ...\n",
              "2895  помнить в детство у я быть диск с мультфильм д...  neutral\n",
              "2896  да - а ... посмотреть очередной поделка от мег...  neutral\n",
              "2897  волшебно , ярко и зрелищно . ностальгия сделат...  neutral\n",
              "2898  сюжет , я думать , рассказывать никто не надо ...  neutral\n",
              "2899  если у вы , также как и у я , любимый мультфил...  neutral\n",
              "\n",
              "[2900 rows x 2 columns]"
            ]
          },
          "metadata": {},
          "execution_count": 19
        }
      ]
    },
    {
      "cell_type": "code",
      "metadata": {
        "id": "Jf8JxeWYQE0w",
        "outputId": "5bc82efc-6c3b-4876-83b5-9b1811794eb3"
      },
      "source": [
        "count_vectorizer = CountVectorizer()\n",
        "\n",
        "X_bow = count_vectorizer.fit_transform(df_joined[\"text\"])\n",
        "X_bow"
      ],
      "execution_count": null,
      "outputs": [
        {
          "data": {
            "text/plain": [
              "<2900x32557 sparse matrix of type '<class 'numpy.int64'>'\n",
              "\twith 646987 stored elements in Compressed Sparse Row format>"
            ]
          },
          "execution_count": 36,
          "metadata": {},
          "output_type": "execute_result"
        }
      ]
    },
    {
      "cell_type": "code",
      "metadata": {
        "id": "4hIMZBxyQE0x",
        "outputId": "7a819ce2-c419-40b7-b61a-ad1aa96f24c4"
      },
      "source": [
        "count_vectorizer.get_feature_names_out()"
      ],
      "execution_count": null,
      "outputs": [
        {
          "data": {
            "text/plain": [
              "array(['00', '000', '00000001', ..., 'ёх', 'ёёёё', 'єти'], dtype=object)"
            ]
          },
          "execution_count": 37,
          "metadata": {},
          "output_type": "execute_result"
        }
      ]
    },
    {
      "cell_type": "code",
      "metadata": {
        "id": "xitFwKoeQE0x",
        "outputId": "c52eaa40-f238-4935-d9ae-cbb3f8e82750"
      },
      "source": [
        "X_bow.toarray()"
      ],
      "execution_count": null,
      "outputs": [
        {
          "data": {
            "text/plain": [
              "array([[0, 0, 0, ..., 0, 0, 0],\n",
              "       [0, 0, 0, ..., 0, 0, 0],\n",
              "       [0, 0, 0, ..., 0, 0, 0],\n",
              "       ...,\n",
              "       [0, 0, 0, ..., 0, 0, 0],\n",
              "       [0, 0, 0, ..., 0, 0, 0],\n",
              "       [0, 0, 0, ..., 0, 0, 0]])"
            ]
          },
          "execution_count": 38,
          "metadata": {},
          "output_type": "execute_result"
        }
      ]
    },
    {
      "cell_type": "markdown",
      "metadata": {
        "id": "U2ev--EzQE0y"
      },
      "source": [
        "### 5. tf*idf"
      ]
    },
    {
      "cell_type": "code",
      "metadata": {
        "id": "P0DhhaKHQE0y"
      },
      "source": [
        "from sklearn.feature_extraction.text import TfidfVectorizer"
      ],
      "execution_count": null,
      "outputs": []
    },
    {
      "cell_type": "code",
      "metadata": {
        "colab": {
          "base_uri": "https://localhost:8080/",
          "height": 419
        },
        "id": "LtjhzVdA-8g3",
        "outputId": "279c6b34-6f4c-450e-94b4-cc4c58c9ccb7"
      },
      "source": [
        "corpus = df_joined.copy()\n",
        "corpus"
      ],
      "execution_count": null,
      "outputs": [
        {
          "output_type": "execute_result",
          "data": {
            "text/html": [
              "<div>\n",
              "<style scoped>\n",
              "    .dataframe tbody tr th:only-of-type {\n",
              "        vertical-align: middle;\n",
              "    }\n",
              "\n",
              "    .dataframe tbody tr th {\n",
              "        vertical-align: top;\n",
              "    }\n",
              "\n",
              "    .dataframe thead th {\n",
              "        text-align: right;\n",
              "    }\n",
              "</style>\n",
              "<table border=\"1\" class=\"dataframe\">\n",
              "  <thead>\n",
              "    <tr style=\"text-align: right;\">\n",
              "      <th></th>\n",
              "      <th>text</th>\n",
              "      <th>target</th>\n",
              "    </tr>\n",
              "  </thead>\n",
              "  <tbody>\n",
              "    <tr>\n",
              "      <th>0</th>\n",
              "      <td>пародия пародия рознь . этот пародия я бы , на...</td>\n",
              "      <td>bad</td>\n",
              "    </tr>\n",
              "    <tr>\n",
              "      <th>1</th>\n",
              "      <td>в один прекрасный день я решать посмотреть пар...</td>\n",
              "      <td>bad</td>\n",
              "    </tr>\n",
              "    <tr>\n",
              "      <th>2</th>\n",
              "      <td>в поиск хороший фильм на вечер на какой только...</td>\n",
              "      <td>bad</td>\n",
              "    </tr>\n",
              "    <tr>\n",
              "      <th>3</th>\n",
              "      <td>по сравнение с этот фильм , даже ' борат ' вы ...</td>\n",
              "      <td>bad</td>\n",
              "    </tr>\n",
              "    <tr>\n",
              "      <th>4</th>\n",
              "      <td>Бррр ... ну нет , я такой фильм терпеть не нам...</td>\n",
              "      <td>bad</td>\n",
              "    </tr>\n",
              "    <tr>\n",
              "      <th>...</th>\n",
              "      <td>...</td>\n",
              "      <td>...</td>\n",
              "    </tr>\n",
              "    <tr>\n",
              "      <th>2895</th>\n",
              "      <td>помнить в детство у я быть диск с мультфильм д...</td>\n",
              "      <td>neutral</td>\n",
              "    </tr>\n",
              "    <tr>\n",
              "      <th>2896</th>\n",
              "      <td>да - а ... посмотреть очередной поделка от мег...</td>\n",
              "      <td>neutral</td>\n",
              "    </tr>\n",
              "    <tr>\n",
              "      <th>2897</th>\n",
              "      <td>волшебно , ярко и зрелищно . ностальгия сделат...</td>\n",
              "      <td>neutral</td>\n",
              "    </tr>\n",
              "    <tr>\n",
              "      <th>2898</th>\n",
              "      <td>сюжет , я думать , рассказывать никто не надо ...</td>\n",
              "      <td>neutral</td>\n",
              "    </tr>\n",
              "    <tr>\n",
              "      <th>2899</th>\n",
              "      <td>если у вы , также как и у я , любимый мультфил...</td>\n",
              "      <td>neutral</td>\n",
              "    </tr>\n",
              "  </tbody>\n",
              "</table>\n",
              "<p>2900 rows × 2 columns</p>\n",
              "</div>"
            ],
            "text/plain": [
              "                                                   text   target\n",
              "0     пародия пародия рознь . этот пародия я бы , на...      bad\n",
              "1     в один прекрасный день я решать посмотреть пар...      bad\n",
              "2     в поиск хороший фильм на вечер на какой только...      bad\n",
              "3     по сравнение с этот фильм , даже ' борат ' вы ...      bad\n",
              "4     Бррр ... ну нет , я такой фильм терпеть не нам...      bad\n",
              "...                                                 ...      ...\n",
              "2895  помнить в детство у я быть диск с мультфильм д...  neutral\n",
              "2896  да - а ... посмотреть очередной поделка от мег...  neutral\n",
              "2897  волшебно , ярко и зрелищно . ностальгия сделат...  neutral\n",
              "2898  сюжет , я думать , рассказывать никто не надо ...  neutral\n",
              "2899  если у вы , также как и у я , любимый мультфил...  neutral\n",
              "\n",
              "[2900 rows x 2 columns]"
            ]
          },
          "metadata": {},
          "execution_count": 22
        }
      ]
    },
    {
      "cell_type": "code",
      "metadata": {
        "id": "nrkko01DQE0z",
        "colab": {
          "base_uri": "https://localhost:8080/"
        },
        "outputId": "3dc5de6d-33ac-4778-a7ef-e64861f9449d"
      },
      "source": [
        "tfidf_vectorizer = TfidfVectorizer()\n",
        "\n",
        "X = tfidf_vectorizer.fit_transform(corpus['text'])\n",
        "X"
      ],
      "execution_count": null,
      "outputs": [
        {
          "output_type": "execute_result",
          "data": {
            "text/plain": [
              "<2900x32534 sparse matrix of type '<class 'numpy.float64'>'\n",
              "\twith 646834 stored elements in Compressed Sparse Row format>"
            ]
          },
          "metadata": {},
          "execution_count": 25
        }
      ]
    },
    {
      "cell_type": "code",
      "metadata": {
        "id": "fgMl9vxrQE0z",
        "colab": {
          "base_uri": "https://localhost:8080/"
        },
        "outputId": "658ec95a-6763-4d81-f521-4a91e36caa7b"
      },
      "source": [
        "tfidf_vectorizer.get_feature_names_out()"
      ],
      "execution_count": null,
      "outputs": [
        {
          "output_type": "execute_result",
          "data": {
            "text/plain": [
              "array(['00', '000', '00000001', ..., 'ёх', 'ёёёё', 'єти'], dtype=object)"
            ]
          },
          "metadata": {},
          "execution_count": 26
        }
      ]
    },
    {
      "cell_type": "code",
      "metadata": {
        "id": "yGSHKCG9QE01",
        "colab": {
          "base_uri": "https://localhost:8080/"
        },
        "outputId": "d56c4430-300e-4572-96e5-753de63e7e92"
      },
      "source": [
        "X.toarray()[0]"
      ],
      "execution_count": null,
      "outputs": [
        {
          "output_type": "execute_result",
          "data": {
            "text/plain": [
              "array([0., 0., 0., ..., 0., 0., 0.])"
            ]
          },
          "metadata": {},
          "execution_count": 29
        }
      ]
    },
    {
      "cell_type": "code",
      "metadata": {
        "id": "BgOdCMXuQE01",
        "colab": {
          "base_uri": "https://localhost:8080/"
        },
        "outputId": "785e947c-c923-4798-a639-00260d518a96"
      },
      "source": [
        "tfidf_vectorizer = CountVectorizer()\n",
        "\n",
        "X_tfidf = tfidf_vectorizer.fit_transform(df_joined[\"text\"])\n",
        "X_tfidf.toarray()"
      ],
      "execution_count": null,
      "outputs": [
        {
          "output_type": "execute_result",
          "data": {
            "text/plain": [
              "array([[0, 0, 0, ..., 0, 0, 0],\n",
              "       [0, 0, 0, ..., 0, 0, 0],\n",
              "       [0, 0, 0, ..., 0, 0, 0],\n",
              "       ...,\n",
              "       [0, 0, 0, ..., 0, 0, 0],\n",
              "       [0, 0, 0, ..., 0, 0, 0],\n",
              "       [0, 0, 0, ..., 0, 0, 0]])"
            ]
          },
          "metadata": {},
          "execution_count": 24
        }
      ]
    },
    {
      "cell_type": "markdown",
      "metadata": {
        "id": "7RONVZ9oQE01"
      },
      "source": [
        "### 6. Word2Vec"
      ]
    },
    {
      "cell_type": "markdown",
      "metadata": {
        "id": "sJYCBTRAQE02"
      },
      "source": [
        "#### Обучение модели"
      ]
    },
    {
      "cell_type": "code",
      "metadata": {
        "id": "hDdIlHGVQE02"
      },
      "source": [
        "from gensim.models import Word2Vec, KeyedVectors"
      ],
      "execution_count": null,
      "outputs": []
    },
    {
      "cell_type": "code",
      "metadata": {
        "id": "491sKGMIQE03"
      },
      "source": [
        "#window -- количество слов в контексте, на которые обращается внимание\n",
        "#min_count -- модель игнорирует слова, встретившиеся в корпусе меньшее число раз \n",
        "#size -- размерность вектора\n",
        "my_model = Word2Vec(list(df['text']), window=5, min_count=5, size=100)"
      ],
      "execution_count": null,
      "outputs": []
    },
    {
      "cell_type": "code",
      "metadata": {
        "id": "KoqtDallQE03",
        "outputId": "c9a63263-0932-490e-9462-85113851bc51"
      },
      "source": [
        "my_model.wv['фильм']"
      ],
      "execution_count": null,
      "outputs": [
        {
          "data": {
            "text/plain": [
              "array([ 2.2802020e-03, -1.9405760e-01,  4.0112257e-01,  1.2461741e+00,\n",
              "       -2.2641298e-01,  6.1628366e-01, -1.8630598e+00,  6.6823936e-01,\n",
              "        8.5116845e-01, -1.1730500e+00, -7.3582149e-01, -1.0730895e+00,\n",
              "        1.9445051e-02, -1.0103836e+00,  9.7599882e-01, -1.1297419e+00,\n",
              "       -1.1491963e+00,  1.4155447e+00,  3.9041656e-01,  1.0592442e+00,\n",
              "        6.8080472e-03, -6.3620859e-01,  3.4122363e-02,  1.5659435e+00,\n",
              "       -7.5569344e-01, -4.7601095e-01, -7.1978742e-01,  1.3785312e+00,\n",
              "        3.7313059e-01, -8.5273877e-02,  1.6153996e+00, -1.1481996e+00,\n",
              "       -3.2374728e-01,  1.2820785e+00,  1.6255675e-01, -1.0363075e+00,\n",
              "        4.3077806e-01,  4.0373477e-01, -8.2241940e-01,  3.3562279e-01,\n",
              "        3.1102338e-01, -3.8331315e-01,  3.8312870e-01, -8.7173694e-01,\n",
              "       -3.5879335e-01,  2.6399791e-01, -1.0770000e-01, -3.7695372e-01,\n",
              "        2.1128374e-01,  1.6031953e+00, -3.7921891e-01,  8.5414517e-01,\n",
              "       -7.3573691e-01, -3.5402700e-01, -1.1038983e+00,  2.2552280e+00,\n",
              "       -1.4995607e+00,  9.6535429e-02,  1.9296780e+00,  3.3662822e-02,\n",
              "        2.1438573e-01, -3.8174531e-01,  7.6837605e-01, -2.0576851e-03,\n",
              "       -1.1336358e+00, -1.9009984e+00, -1.6121759e+00, -2.7545169e-01,\n",
              "        4.6025395e-01,  3.5292608e-01, -1.5100207e+00, -8.4925538e-01,\n",
              "       -1.2875824e-01, -4.0540352e-01, -5.2557349e-01,  2.0854963e-01,\n",
              "       -1.3270457e+00,  8.0798990e-01,  3.6378196e-01, -9.4173694e-01,\n",
              "        4.2459792e-01,  7.1279871e-01, -9.3367958e-01,  7.9147108e-02,\n",
              "        1.1672474e+00,  9.3097204e-01,  1.8859124e-01,  6.3895243e-01,\n",
              "        1.0367361e+00, -2.9612139e-01, -1.2203918e-01,  1.2701072e+00,\n",
              "       -6.2689728e-01, -7.6033705e-01, -9.5003366e-02, -1.2823404e+00,\n",
              "        1.3690609e+00, -3.3945459e-01,  2.4154374e-01, -3.9028749e-01],\n",
              "      dtype=float32)"
            ]
          },
          "execution_count": 70,
          "metadata": {},
          "output_type": "execute_result"
        }
      ]
    },
    {
      "cell_type": "code",
      "metadata": {
        "id": "P8RwT9kGQE04",
        "outputId": "2c8642ca-337d-4be0-cae8-346276eadb3e"
      },
      "source": [
        "my_model.wv.most_similar(positive=['фильм'])"
      ],
      "execution_count": null,
      "outputs": [
        {
          "data": {
            "text/plain": [
              "[('картина', 0.8715606331825256),\n",
              " ('сериал', 0.851007342338562),\n",
              " ('лента', 0.8140319585800171),\n",
              " ('кино', 0.7327029705047607),\n",
              " ('продолжение', 0.7003697156906128),\n",
              " ('блокбастер', 0.6667990684509277),\n",
              " ('проект', 0.6552362442016602),\n",
              " ('трейлер', 0.6537940502166748),\n",
              " ('шедевр', 0.6501321792602539),\n",
              " ('творение', 0.6392271518707275)]"
            ]
          },
          "execution_count": 61,
          "metadata": {},
          "output_type": "execute_result"
        }
      ]
    },
    {
      "cell_type": "code",
      "metadata": {
        "id": "PAVzMce9QE04",
        "outputId": "fb97e1d8-39de-4663-c069-a29fa0dbe760"
      },
      "source": [
        "my_model.wv.most_similar(positive=['хороший'])"
      ],
      "execution_count": null,
      "outputs": [
        {
          "data": {
            "text/plain": [
              "[('плохой', 0.7911492586135864),\n",
              " ('достойный', 0.7214312553405762),\n",
              " ('безусловно', 0.6682688593864441),\n",
              " ('пожалуй', 0.6643847823143005),\n",
              " ('талантливый', 0.6626682281494141),\n",
              " ('удачный', 0.6546406149864197),\n",
              " ('замечательный', 0.6475631594657898),\n",
              " ('отличный', 0.6416290998458862),\n",
              " ('послужной', 0.6049915552139282),\n",
              " ('идеальный', 0.6046740412712097)]"
            ]
          },
          "execution_count": 62,
          "metadata": {},
          "output_type": "execute_result"
        }
      ]
    },
    {
      "cell_type": "code",
      "metadata": {
        "id": "5-IGdveAQE05"
      },
      "source": [
        "my_model.wv.most_similar(positive=['интересный', 'захватывающий'], negative=['скучный'])"
      ],
      "execution_count": null,
      "outputs": []
    },
    {
      "cell_type": "code",
      "metadata": {
        "id": "DluMbJv5QE05",
        "outputId": "e1f3e0f3-8026-4a07-b597-6b960f90ff5e"
      },
      "source": [
        "my_model.wv.similarity('сюжет', 'интересный')"
      ],
      "execution_count": null,
      "outputs": [
        {
          "data": {
            "text/plain": [
              "0.698859"
            ]
          },
          "execution_count": 60,
          "metadata": {},
          "output_type": "execute_result"
        }
      ]
    },
    {
      "cell_type": "code",
      "metadata": {
        "id": "4kmxDAZpQE05",
        "outputId": "37941acc-95e4-4366-a18b-91531915619a"
      },
      "source": [
        "my_model.wv.similarity('сюжет', 'красивый')"
      ],
      "execution_count": null,
      "outputs": [
        {
          "data": {
            "text/plain": [
              "0.3383449"
            ]
          },
          "execution_count": 59,
          "metadata": {},
          "output_type": "execute_result"
        }
      ]
    },
    {
      "cell_type": "code",
      "metadata": {
        "id": "n5Q2ewQBQE06",
        "outputId": "6a9e96a1-aec1-4fa2-df1e-6544ba0f7fa8"
      },
      "source": [
        "my_model.wv.doesnt_match(['фильм', 'кино', 'сериал', 'актер'])"
      ],
      "execution_count": null,
      "outputs": [
        {
          "data": {
            "text/plain": [
              "'актер'"
            ]
          },
          "execution_count": 63,
          "metadata": {},
          "output_type": "execute_result"
        }
      ]
    },
    {
      "cell_type": "code",
      "metadata": {
        "id": "pMfdP4d7QE06",
        "outputId": "c7df8655-f955-4d54-b9ba-83a7a59e8fe1"
      },
      "source": [
        "my_model.wv.doesnt_match(['боевик', 'триллер', 'комедия', 'детектив'])"
      ],
      "execution_count": null,
      "outputs": [
        {
          "data": {
            "text/plain": [
              "'детектив'"
            ]
          },
          "execution_count": 68,
          "metadata": {},
          "output_type": "execute_result"
        }
      ]
    },
    {
      "cell_type": "markdown",
      "metadata": {
        "id": "SrZmI96PQE06"
      },
      "source": [
        "Можно сохранить модель целиком (чтобы дообучить ее позже)"
      ]
    },
    {
      "cell_type": "code",
      "metadata": {
        "id": "_iUyDdMsQE07"
      },
      "source": [
        "my_model.save(\"my_model.model\")\n",
        "# Word2Vec.load(\"word2vec.model\")"
      ],
      "execution_count": null,
      "outputs": []
    },
    {
      "cell_type": "markdown",
      "metadata": {
        "id": "Zq3RlA97QE07"
      },
      "source": [
        "Можно сохранить только вектора"
      ]
    },
    {
      "cell_type": "code",
      "metadata": {
        "id": "rbJ4YQUFQE07"
      },
      "source": [
        "word_vectors = my_model.wv\n",
        "word_vectors.save(\"my_model.wordvectors\")\n",
        "\n",
        "# wv = KeyedVectors.load(\"my_model.wordvectors\")"
      ],
      "execution_count": null,
      "outputs": []
    },
    {
      "cell_type": "markdown",
      "metadata": {
        "id": "4QaaqbdIQE07"
      },
      "source": [
        "#### Загрузка предобученной модели"
      ]
    },
    {
      "cell_type": "markdown",
      "metadata": {
        "id": "NUp1mRviQE08"
      },
      "source": [
        "https://rusvectores.org/ru/models/"
      ]
    },
    {
      "cell_type": "code",
      "metadata": {
        "id": "nATN5nXWQE08"
      },
      "source": [
        "model_rus = KeyedVectors.load_word2vec_format('ruscorpora_upos_skipgram_300_5_2018.vec', binary=False)"
      ],
      "execution_count": null,
      "outputs": []
    },
    {
      "cell_type": "code",
      "metadata": {
        "scrolled": true,
        "id": "LXEAox1HQE08",
        "outputId": "24bfdb90-b2ed-4c3d-8dd0-bcfd40dbdf83"
      },
      "source": [
        "model_rus['кошка_NOUN']"
      ],
      "execution_count": null,
      "outputs": [
        {
          "data": {
            "text/plain": [
              "array([ 5.38850e-02,  7.68320e-02, -2.08360e-02,  5.04660e-02,\n",
              "       -1.83440e-02,  2.49620e-02,  2.22730e-02, -6.97660e-02,\n",
              "       -6.77290e-02,  2.67250e-02, -1.93420e-02, -7.69620e-02,\n",
              "       -1.65210e-02,  3.68000e-02,  7.34000e-02,  1.81910e-02,\n",
              "       -2.90160e-02,  7.20770e-02,  5.62100e-03,  1.33670e-02,\n",
              "        3.72470e-02,  2.65340e-02, -2.65480e-02,  1.36221e-01,\n",
              "        2.91200e-03, -2.46040e-02, -2.38830e-02, -3.06300e-02,\n",
              "       -8.69400e-03, -1.08803e-01,  1.01105e-01, -3.06730e-02,\n",
              "       -1.68290e-02,  8.18290e-02, -1.94850e-02,  5.38960e-02,\n",
              "       -8.13300e-03,  4.86310e-02, -2.69210e-02,  7.38900e-03,\n",
              "        1.50000e-05, -4.95700e-02,  1.27940e-02,  5.31210e-02,\n",
              "       -2.08490e-02, -1.06714e-01,  1.04160e-02,  7.26030e-02,\n",
              "       -4.03220e-02,  4.04200e-02, -3.42690e-02, -5.27990e-02,\n",
              "        5.67580e-02,  1.74870e-02, -3.68720e-02, -3.24450e-02,\n",
              "       -4.96150e-02, -6.17700e-03,  8.90000e-04, -4.65600e-03,\n",
              "        5.63450e-02,  6.86770e-02,  6.10540e-02, -1.06357e-01,\n",
              "       -1.45554e-01, -7.72550e-02,  4.63800e-03,  2.87810e-02,\n",
              "       -3.00220e-02, -7.61070e-02, -1.00339e-01, -1.08530e-02,\n",
              "       -7.62360e-02,  8.45400e-02, -1.30260e-02, -9.55500e-03,\n",
              "        7.66400e-03,  6.78630e-02,  1.04883e-01, -1.69290e-02,\n",
              "       -1.27080e-02,  3.28260e-02, -6.61200e-02, -2.70370e-02,\n",
              "       -5.16540e-02, -1.45296e-01, -8.66370e-02,  2.89710e-02,\n",
              "       -7.06560e-02, -2.58510e-02,  7.42800e-02, -4.42550e-02,\n",
              "        8.06500e-03, -1.41400e-02, -5.91900e-02,  1.40112e-01,\n",
              "       -4.81580e-02,  9.55500e-02, -1.95040e-02,  2.52600e-02,\n",
              "       -1.08700e-02, -3.78920e-02, -5.09710e-02,  3.68490e-02,\n",
              "        1.92014e-01,  4.73380e-02,  9.38600e-03,  1.93890e-02,\n",
              "       -5.54760e-02,  3.21600e-03, -3.03680e-02,  3.51680e-02,\n",
              "        6.37190e-02, -1.67450e-02,  1.76559e-01, -1.98220e-02,\n",
              "        2.49610e-02, -6.00870e-02,  4.64760e-02, -5.96710e-02,\n",
              "        6.32760e-02, -1.04260e-02,  2.86410e-02, -4.33320e-02,\n",
              "       -1.44390e-01,  5.00970e-02, -3.01500e-02, -9.67100e-03,\n",
              "       -6.37840e-02, -7.34840e-02, -2.37540e-02,  2.44290e-02,\n",
              "       -5.16750e-02, -5.99810e-02,  2.11700e-03, -2.43200e-03,\n",
              "        4.37060e-02, -1.35040e-02, -2.98920e-02, -4.71250e-02,\n",
              "        3.91860e-02, -4.33870e-02,  7.29400e-02, -7.28670e-02,\n",
              "        1.42787e-01,  8.70430e-02,  4.15900e-03, -6.96800e-02,\n",
              "        4.20860e-02, -4.25830e-02, -3.83320e-02, -8.34870e-02,\n",
              "        5.91270e-02,  6.53500e-02, -1.82450e-02, -7.54400e-03,\n",
              "        9.86400e-02,  4.79000e-03, -3.71560e-02, -5.83440e-02,\n",
              "        8.10300e-02,  4.30320e-02,  2.36010e-02, -3.90530e-02,\n",
              "        2.19420e-02, -1.63150e-02,  3.97370e-02,  8.06130e-02,\n",
              "       -4.15190e-02, -3.73750e-02, -3.51440e-02,  5.05950e-02,\n",
              "        6.41030e-02,  5.32340e-02, -4.14700e-02,  3.36210e-02,\n",
              "        5.88310e-02,  5.29780e-02,  6.45580e-02, -8.55560e-02,\n",
              "       -2.25100e-02, -1.15660e-02, -3.32010e-02,  7.01460e-02,\n",
              "       -4.94990e-02,  1.44450e-02,  3.63060e-02,  1.27470e-02,\n",
              "        5.84130e-02,  5.11800e-03,  3.09410e-02, -7.09200e-03,\n",
              "       -1.14169e-01, -9.00000e-05, -7.61550e-02, -1.38590e-02,\n",
              "        1.13280e-02, -6.53320e-02, -6.68320e-02, -1.07370e-02,\n",
              "        1.77990e-02,  6.18010e-02, -3.62100e-03, -1.19097e-01,\n",
              "       -3.20980e-02,  5.22020e-02, -2.07900e-02, -7.06260e-02,\n",
              "        6.96400e-03,  2.60140e-02,  2.23690e-02, -1.10305e-01,\n",
              "       -4.72220e-02,  4.27030e-02, -4.56220e-02,  8.49100e-03,\n",
              "        4.22980e-02, -3.47420e-02,  4.97300e-03,  3.44010e-02,\n",
              "       -8.38840e-02, -2.74000e-03, -8.53400e-02, -4.72680e-02,\n",
              "       -3.74310e-02, -3.34750e-02,  2.67280e-02,  1.33811e-01,\n",
              "       -1.99870e-02,  6.11030e-02, -7.95930e-02,  5.52330e-02,\n",
              "        6.25780e-02, -3.94220e-02,  5.19700e-02,  6.45040e-02,\n",
              "        7.29820e-02, -8.39390e-02,  7.40050e-02, -8.47000e-04,\n",
              "       -6.11400e-03,  5.01120e-02,  2.49380e-02, -4.98440e-02,\n",
              "        4.17680e-02, -8.62400e-03,  8.11460e-02,  2.04910e-02,\n",
              "        5.36410e-02,  1.54400e-02,  4.56760e-02,  2.13560e-02,\n",
              "        1.32670e-01,  6.48900e-03,  5.11520e-02, -9.63800e-03,\n",
              "       -4.11710e-02, -1.38770e-02, -8.16900e-03,  8.08060e-02,\n",
              "       -3.95430e-02, -2.42860e-02,  3.56880e-02, -9.80890e-02,\n",
              "       -4.16630e-02, -1.55981e-01, -2.40270e-02, -1.77800e-02,\n",
              "       -3.44610e-02,  3.86040e-02, -6.56790e-02, -4.88800e-02,\n",
              "       -7.85390e-02,  7.91000e-03,  4.44820e-02, -2.50200e-02,\n",
              "        8.92620e-02,  7.87910e-02, -1.04682e-01,  1.68010e-02,\n",
              "        6.04780e-02,  5.78700e-02, -3.10760e-02, -7.16280e-02,\n",
              "       -3.97850e-02,  8.21010e-02,  4.14810e-02,  3.73180e-02,\n",
              "        3.04590e-02, -1.03258e-01,  2.47150e-02, -1.02499e-01,\n",
              "       -2.16880e-02, -1.31449e-01, -6.27420e-02, -4.21480e-02,\n",
              "       -5.06910e-02, -5.08640e-02,  6.71670e-02, -7.74400e-03],\n",
              "      dtype=float32)"
            ]
          },
          "execution_count": 14,
          "metadata": {},
          "output_type": "execute_result"
        }
      ]
    },
    {
      "cell_type": "code",
      "metadata": {
        "id": "RpW96ifSQE09",
        "outputId": "0712a520-b5e6-4ee3-99c3-3c86bf61e496"
      },
      "source": [
        "model_rus.most_similar(positive=['кошка_NOUN'])"
      ],
      "execution_count": null,
      "outputs": [
        {
          "data": {
            "text/plain": [
              "[('кот_NOUN', 0.780572235584259),\n",
              " ('собака_NOUN', 0.7084057331085205),\n",
              " ('котенок_NOUN', 0.6833623647689819),\n",
              " ('мяукать_VERB', 0.6613745093345642),\n",
              " ('мяукать_NOUN', 0.6479178071022034),\n",
              " ('клеточка_PROPN', 0.642410397529602),\n",
              " ('тобик_PROPN', 0.6401646137237549),\n",
              " ('крыса_NOUN', 0.635063648223877),\n",
              " ('котенка_NOUN', 0.629923939704895),\n",
              " ('окотиться_VERB', 0.6232213377952576)]"
            ]
          },
          "execution_count": 77,
          "metadata": {},
          "output_type": "execute_result"
        }
      ]
    },
    {
      "cell_type": "markdown",
      "metadata": {
        "id": "FaKERCQvQE09"
      },
      "source": [
        "Добавление частеречного тега"
      ]
    },
    {
      "cell_type": "code",
      "metadata": {
        "id": "PtYUfHqjQE09"
      },
      "source": [
        "import ufal.udpipe as ud"
      ],
      "execution_count": null,
      "outputs": []
    },
    {
      "cell_type": "markdown",
      "metadata": {
        "id": "kbtYyjWXQE09"
      },
      "source": [
        "https://lindat.mff.cuni.cz/repository/xmlui/handle/11234/1-2859"
      ]
    },
    {
      "cell_type": "code",
      "metadata": {
        "id": "q16b-EM6QE09"
      },
      "source": [
        "model_rus_tag = ud.Model.load('ud-2.2-conll18-baseline-models/models/russian-syntagrus-ud-2.2-conll18-180430.udpipe')\n",
        "pipeline = ud.Pipeline(model_rus_tag, \"horizontal\", ud.Pipeline.DEFAULT, ud.Pipeline.DEFAULT, \"conllu\")"
      ],
      "execution_count": null,
      "outputs": []
    },
    {
      "cell_type": "code",
      "metadata": {
        "id": "Ge7nKSUlQE0-",
        "outputId": "696aea22-e2d4-4c9e-ca24-f06b112e000a"
      },
      "source": [
        "print(pipeline.process('мама с папой мыли раму и ковер, а я ходил гулять'))"
      ],
      "execution_count": null,
      "outputs": [
        {
          "name": "stdout",
          "output_type": "stream",
          "text": [
            "# newdoc\n",
            "# newpar\n",
            "# sent_id = 1\n",
            "1\tмама\tмама\tNOUN\t_\tAnimacy=Anim|Case=Nom|Gender=Fem|Number=Sing\t4\tnsubj\t_\t_\n",
            "2\tс\tс\tADP\t_\t_\t3\tcase\t_\t_\n",
            "3\tпапой\tпапа\tNOUN\t_\tAnimacy=Anim|Case=Ins|Gender=Masc|Number=Sing\t1\tnmod\t_\t_\n",
            "4\tмыли\tмыть\tVERB\t_\tAspect=Imp|Mood=Ind|Number=Plur|Tense=Past|VerbForm=Fin|Voice=Act\t0\troot\t_\t_\n",
            "5\tраму\tрама\tNOUN\t_\tAnimacy=Inan|Case=Acc|Gender=Fem|Number=Sing\t4\tobj\t_\t_\n",
            "6\tи\tи\tCCONJ\t_\t_\t10\tcc\t_\t_\n",
            "7\tковер,\tковер,\tADV\t_\tDegree=Pos\t4\tadvmod\t_\t_\n",
            "8\tа\tа\tCCONJ\t_\t_\t10\tcc\t_\t_\n",
            "9\tя\tя\tPRON\t_\tCase=Nom|Number=Sing|Person=1\t10\tnsubj\t_\t_\n",
            "10\tходил\tходить\tVERB\t_\tAspect=Imp|Gender=Masc|Mood=Ind|Number=Sing|Tense=Past|VerbForm=Fin|Voice=Act\t7\tconj\t_\t_\n",
            "11\tгулять\tгулять\tVERB\t_\tAspect=Imp|VerbForm=Inf|Voice=Act\t10\txcomp\t_\t_\n",
            "\n",
            "\n"
          ]
        }
      ]
    },
    {
      "cell_type": "code",
      "metadata": {
        "id": "MuJtZH8KQE0-"
      },
      "source": [
        "def add_utag(word, pipeline):\n",
        "    #Add POS tag to word using UDPipe\n",
        "    return '_'.join(re.findall('\\n1\\\\t(\\w+)\\\\t\\w+\\\\t([A-Z]+)', pipeline.process(word))[0])"
      ],
      "execution_count": null,
      "outputs": []
    },
    {
      "cell_type": "code",
      "metadata": {
        "id": "P--BkLLYQE0-",
        "outputId": "21aa8655-c435-4f77-b99c-d0767ab8a0de"
      },
      "source": [
        "model_rus.most_similar(positive=[add_utag('кошка', pipeline)])"
      ],
      "execution_count": null,
      "outputs": [
        {
          "data": {
            "text/plain": [
              "[('кот_NOUN', 0.7805721759796143),\n",
              " ('собака_NOUN', 0.7084056735038757),\n",
              " ('котенок_NOUN', 0.6833623647689819),\n",
              " ('мяукать_VERB', 0.661374568939209),\n",
              " ('мяукать_NOUN', 0.6479178071022034),\n",
              " ('клеточка_PROPN', 0.642410397529602),\n",
              " ('тобик_PROPN', 0.6401645541191101),\n",
              " ('крыса_NOUN', 0.635063648223877),\n",
              " ('котенка_NOUN', 0.629923939704895),\n",
              " ('окотиться_VERB', 0.6232213973999023)]"
            ]
          },
          "execution_count": 12,
          "metadata": {},
          "output_type": "execute_result"
        }
      ]
    },
    {
      "cell_type": "markdown",
      "metadata": {
        "id": "Bg7rDNUMQE0-"
      },
      "source": [
        "https://nlp.stanford.edu/projects/glove/"
      ]
    },
    {
      "cell_type": "code",
      "metadata": {
        "id": "2sNLqMtDQE0_"
      },
      "source": [
        "w2v_english = KeyedVectors.load_word2vec_format(\"glove.twitter.27B.25d_mod.txt\", binary=False)"
      ],
      "execution_count": null,
      "outputs": []
    },
    {
      "cell_type": "code",
      "metadata": {
        "id": "k_ssZuFoQE0_",
        "outputId": "d700ddfb-4c6e-49c3-80da-9acb07da610d"
      },
      "source": [
        "w2v_english['computer']"
      ],
      "execution_count": null,
      "outputs": [
        {
          "data": {
            "text/plain": [
              "array([ 0.64005 , -0.019514,  0.70148 , -0.66123 ,  1.1723  , -0.58859 ,\n",
              "        0.25917 , -0.81541 ,  1.1708  ,  1.1413  , -0.15405 , -0.11369 ,\n",
              "       -3.8414  , -0.87233 ,  0.47489 ,  1.1541  ,  0.97678 ,  1.1107  ,\n",
              "       -0.14572 , -0.52013 , -0.52234 , -0.92349 ,  0.34651 ,  0.061939,\n",
              "       -0.57375 ], dtype=float32)"
            ]
          },
          "execution_count": 38,
          "metadata": {},
          "output_type": "execute_result"
        }
      ]
    },
    {
      "cell_type": "code",
      "metadata": {
        "id": "aaoo6bxOQE0_",
        "outputId": "742d3f27-38c3-44a4-a1f0-e0501cdfa5f3"
      },
      "source": [
        "w2v_english.most_similar(positive=['apple'])"
      ],
      "execution_count": null,
      "outputs": [
        {
          "data": {
            "text/plain": [
              "[('windows', 0.8948712944984436),\n",
              " ('microsoft', 0.8858076333999634),\n",
              " ('google', 0.8823867440223694),\n",
              " ('galaxy', 0.8806391358375549),\n",
              " ('flash', 0.8793812394142151),\n",
              " ('android', 0.8782057762145996),\n",
              " ('nokia', 0.8770236372947693),\n",
              " ('samsung', 0.8697316646575928),\n",
              " ('chrome', 0.8691699504852295),\n",
              " ('ipad', 0.8670315742492676)]"
            ]
          },
          "execution_count": 39,
          "metadata": {},
          "output_type": "execute_result"
        }
      ]
    },
    {
      "cell_type": "code",
      "metadata": {
        "id": "mKz4Gz5HQE0_",
        "outputId": "a6de07af-4b75-40ba-e277-ec6f702769e0"
      },
      "source": [
        "w2v_english.similarity('iphone', 'apple')"
      ],
      "execution_count": null,
      "outputs": [
        {
          "data": {
            "text/plain": [
              "0.846078"
            ]
          },
          "execution_count": 43,
          "metadata": {},
          "output_type": "execute_result"
        }
      ]
    },
    {
      "cell_type": "code",
      "metadata": {
        "id": "kk82jvzkQE1A",
        "outputId": "98b4d53f-50a7-41de-bbfb-fbe2d7c1d669"
      },
      "source": [
        "w2v_english.similarity('iphone', 'microsoft')"
      ],
      "execution_count": null,
      "outputs": [
        {
          "data": {
            "text/plain": [
              "0.71931857"
            ]
          },
          "execution_count": 44,
          "metadata": {},
          "output_type": "execute_result"
        }
      ]
    },
    {
      "cell_type": "code",
      "metadata": {
        "id": "r5Ll9nM7QE1A",
        "outputId": "ee25f62d-c49b-4635-bd1c-cd7f0bd4fa14"
      },
      "source": [
        "w2v_english.similarity('iphone', 'nivea')"
      ],
      "execution_count": null,
      "outputs": [
        {
          "data": {
            "text/plain": [
              "0.17504907"
            ]
          },
          "execution_count": 48,
          "metadata": {},
          "output_type": "execute_result"
        }
      ]
    },
    {
      "cell_type": "markdown",
      "metadata": {
        "id": "2vZ7z78XQE1A"
      },
      "source": [
        "### 8. Fasttext"
      ]
    },
    {
      "cell_type": "code",
      "metadata": {
        "id": "YVBQJmRMQE1B"
      },
      "source": [
        "from gensim.models import FastText\n",
        "\n",
        "fasttext_model = FastText(vector_size=100, window=3, min_count=1, sentences=list(df[\"text\"]), epochs=10)"
      ],
      "execution_count": null,
      "outputs": []
    },
    {
      "cell_type": "code",
      "metadata": {
        "id": "FOUYA7whQE1B",
        "outputId": "81dba691-067f-428d-b80f-d60ea2c4086a"
      },
      "source": [
        "fasttext_model.wv[\"фильм\"]"
      ],
      "execution_count": null,
      "outputs": [
        {
          "data": {
            "text/plain": [
              "array([ 0.5362766 ,  0.45565292,  1.9937762 , -0.32736206,  1.6903409 ,\n",
              "        0.44180977, -0.41248763, -0.03373772,  0.37971368, -0.20872155,\n",
              "        0.247941  ,  2.7339318 ,  1.9529096 ,  0.16145045,  0.9461472 ,\n",
              "        1.2783732 , -0.21335469, -0.96383613, -1.1248935 ,  0.07255437,\n",
              "        0.2806648 ,  0.37223923,  0.5949794 , -0.76535714, -0.36244804,\n",
              "       -0.31470576,  1.7604123 ,  1.6395363 , -0.6039507 ,  0.08312204,\n",
              "       -2.3963752 , -2.1767733 ,  0.07692423, -0.28875962,  1.865387  ,\n",
              "       -0.14657733, -0.66610354,  0.2300724 , -1.6550189 ,  0.86700886,\n",
              "       -0.82161254,  2.4829023 , -1.1599786 ,  3.0888877 , -0.21374995,\n",
              "        1.0124897 , -1.8474824 , -0.5371141 , -0.72643864, -0.5265844 ,\n",
              "       -0.24170473, -2.344123  ,  1.1717926 ,  1.8583089 , -1.4834018 ,\n",
              "       -1.1791576 , -4.115584  , -0.6078417 , -1.2843875 ,  0.69987565,\n",
              "       -1.9712173 , -0.51217616, -0.6512755 , -1.6742693 ,  1.792393  ,\n",
              "       -0.4241422 , -0.7285652 ,  0.41388288, -1.5708936 , -0.6631558 ,\n",
              "       -1.2209464 , -1.6259981 , -0.39263943, -0.2707908 , -1.9655528 ,\n",
              "        2.4278307 , -0.5982497 , -0.3403286 ,  2.4773407 , -0.6457849 ,\n",
              "       -0.6931677 ,  0.4078841 ,  1.8641198 ,  0.13445163, -1.885668  ,\n",
              "        0.81007046,  0.24535325,  2.1970053 , -2.582813  , -0.30582616,\n",
              "        0.4106326 , -0.7630251 , -0.10380661,  2.3647285 , -1.639555  ,\n",
              "       -1.7122351 ,  2.541331  , -0.8042535 , -0.22923082,  0.94181556],\n",
              "      dtype=float32)"
            ]
          },
          "execution_count": 64,
          "metadata": {},
          "output_type": "execute_result"
        }
      ]
    },
    {
      "cell_type": "markdown",
      "metadata": {
        "id": "0uWULfswQE1B"
      },
      "source": [
        "Word vectors --> document vectors?"
      ]
    },
    {
      "cell_type": "markdown",
      "metadata": {
        "id": "iSqamC80QE1B"
      },
      "source": [
        "1. Elementwise sum/mean (https://stackoverflow.com/questions/44786174/how-combine-word-embedded-vectors-to-one-vector)<br>\n",
        "2. Take the biggest number from each dimension <br>\n",
        "3. ..."
      ]
    },
    {
      "cell_type": "markdown",
      "metadata": {
        "id": "kFTcpWa9QE1C"
      },
      "source": [
        "### 7. Doc2Vec"
      ]
    },
    {
      "cell_type": "code",
      "metadata": {
        "id": "i08aQlepQE1C"
      },
      "source": [
        "from gensim.models.doc2vec import Doc2Vec, TaggedDocument\n",
        "\n",
        "documents = [TaggedDocument(doc, [i]) for i, doc in enumerate(list(df['text']))]\n",
        "d2v_model = Doc2Vec(documents, vector_size=100, window=2, min_count=1)"
      ],
      "execution_count": null,
      "outputs": []
    },
    {
      "cell_type": "code",
      "metadata": {
        "id": "ygbazr6hQE1D",
        "outputId": "f3bc80cd-8812-44ee-ad41-08dc79f38c26"
      },
      "source": [
        "d2v_model.infer_vector(df['text'][0])"
      ],
      "execution_count": null,
      "outputs": [
        {
          "data": {
            "text/plain": [
              "array([ 0.16184753, -0.00140766, -0.34360182, -0.09366103,  0.05927211,\n",
              "       -0.15132274,  0.12774721,  0.65085983, -0.47597265,  0.3290359 ,\n",
              "       -0.10253838, -0.6176733 ,  0.18384029, -0.28245527, -0.37965995,\n",
              "       -0.87344456, -0.3325106 , -0.27250615, -0.40843076, -0.07354342,\n",
              "        0.3956681 ,  0.3804773 ,  0.23613517, -0.337306  ,  0.6176508 ,\n",
              "        0.41763288, -0.8125513 ,  0.3767591 , -0.11818262, -0.72782   ,\n",
              "        0.48191288,  0.80036175,  0.40251124,  0.01838744, -0.27582493,\n",
              "        0.23302993, -0.27372605, -0.3889638 ,  0.08391088,  0.416919  ,\n",
              "        0.47155398,  0.28860438,  0.05331756, -0.7967367 , -0.13589714,\n",
              "       -0.06687639,  0.13683958,  0.19945462,  0.33725664,  0.39183092,\n",
              "       -0.46517223, -0.4739014 ,  0.21961428,  0.22662234, -0.24649704,\n",
              "        0.7926873 ,  0.31522694,  0.34957817,  0.03927494, -0.00405006,\n",
              "        0.15417615,  0.60394704, -0.10514691,  0.44360417, -0.4884961 ,\n",
              "        0.42794305,  0.21498704,  0.46358553, -0.7910037 ,  0.29281375,\n",
              "       -0.1296836 ,  0.29125318,  0.29380512, -0.7605688 ,  0.80989474,\n",
              "        0.8548312 ,  0.20628904,  0.2965957 , -0.1823439 ,  0.00697764,\n",
              "       -0.2145547 ,  0.17253458, -0.42801875,  0.38682002, -0.20573048,\n",
              "        0.47191238, -0.25666103,  0.08184572, -0.1741259 ,  0.19637965,\n",
              "       -0.39017704, -0.329201  , -0.37855837,  0.667426  ,  0.49768507,\n",
              "        0.04796914, -0.06860904, -0.09494612,  1.0280683 ,  0.04933767],\n",
              "      dtype=float32)"
            ]
          },
          "execution_count": 62,
          "metadata": {},
          "output_type": "execute_result"
        }
      ]
    },
    {
      "cell_type": "markdown",
      "metadata": {
        "id": "tLOOF7pPQE1D"
      },
      "source": [
        "# Задание: <br>\n",
        "1. Представить тексты в виде векторов и обучить на них классификатор LogisticRegression. <br>\n",
        "2. Попробовать несколько представлений и понять, какое лучше работает. <br>\n",
        "3. Предсказать классы для тестовой части датасета. <br>"
      ]
    },
    {
      "cell_type": "markdown",
      "source": [
        "## Preprocessing"
      ],
      "metadata": {
        "id": "OWymesBaKOR2"
      }
    },
    {
      "cell_type": "code",
      "metadata": {
        "id": "vs6CynJw7abX"
      },
      "source": [
        "!pip install pymystem3==0.1.10"
      ],
      "execution_count": null,
      "outputs": []
    },
    {
      "cell_type": "code",
      "metadata": {
        "id": "3Q2g-QQL4Hn5"
      },
      "source": [
        "!pip install --upgrade spacy"
      ],
      "execution_count": null,
      "outputs": []
    },
    {
      "cell_type": "code",
      "metadata": {
        "id": "sUsoCLom4hgw"
      },
      "source": [
        "!python3.7 -m spacy download en_core_web_sm\n",
        "!python3.7 -m spacy download ru_core_news_sm"
      ],
      "execution_count": null,
      "outputs": []
    },
    {
      "cell_type": "code",
      "source": [
        "from nltk.tokenize import sent_tokenize\n",
        "from nltk.tokenize import word_tokenize\n",
        "from string import punctuation\n",
        "from nltk.corpus import stopwords\n",
        "from pymystem3 import Mystem\n",
        "\n",
        "import nltk\n",
        "import spacy\n",
        "\n",
        "nltk.download('punkt')\n",
        "nltk.download('stopwords')\n",
        "\n",
        "class TextPreprocess:\n",
        "  def __init__(self, text: str):\n",
        "    self.text = text\n",
        "  \n",
        "  @staticmethod\n",
        "  def tokenize(text):\n",
        "    text = text.replace('\\n', ' ')\n",
        "    #tokens = text_ru.split()\n",
        "    return word_tokenize(text)\n",
        "  \n",
        "  @staticmethod\n",
        "  def remove_punctuation(text: list):\n",
        "    return [w.strip(punctuation) for w in text]\n",
        "  \n",
        "  @staticmethod\n",
        "  def to_lower_case(text: list):\n",
        "    return [w.lower() for w in text if w != '']\n",
        "\n",
        "  @staticmethod\n",
        "  def remove_stop_words(text: list, lang: str):\n",
        "    sw = stopwords.words(lang)\n",
        "    return [w for w in text if w not in sw]\n",
        "  \n",
        "  @staticmethod\n",
        "  def general_process(text: str):\n",
        "    tokens = TextPreprocess.tokenize(text)\n",
        "    no_punkt = TextPreprocess.remove_punctuation(tokens) \n",
        "    return TextPreprocess.to_lower_case(no_punkt)\n",
        "  \n",
        "  def preprocess_rus(self):\n",
        "    clean_words = TextPreprocess.general_process(self.text)\n",
        "    no_sw = TextPreprocess.remove_stop_words(clean_words, 'russian')\n",
        "\n",
        "    nlp_rus = spacy.load(\"ru_core_news_sm\")\n",
        "    spacy_text = nlp_rus(' '.join(no_sw))\n",
        "    lemmas = [token.lemma_ for token in spacy_text if token.pos_ != \"SPACE\"]\n",
        "\n",
        "    return lemmas\n",
        "  \n",
        "  def preprocess_eng(self):\n",
        "    clean_words = TextPreprocess.general_process(self.text)\n",
        "    no_sw = TextPreprocess.remove_stop_words(clean_words, 'english')   \n",
        "\n",
        "    nlp_eng = spacy.load(\"en_core_web_sm\")\n",
        "    spacy_text = nlp_eng(' '.join(no_sw))\n",
        "    lemmas = [token.lemma_ for token in spacy_text if token.pos_ != \"SPACE\"]\n",
        "\n",
        "    return lemmas "
      ],
      "metadata": {
        "colab": {
          "base_uri": "https://localhost:8080/"
        },
        "id": "noCnGs6gKQmJ",
        "outputId": "09e7b582-9307-4b72-91f9-642db8f6eafe"
      },
      "execution_count": null,
      "outputs": [
        {
          "output_type": "stream",
          "name": "stdout",
          "text": [
            "[nltk_data] Downloading package punkt to /root/nltk_data...\n",
            "[nltk_data]   Unzipping tokenizers/punkt.zip.\n",
            "[nltk_data] Downloading package stopwords to /root/nltk_data...\n",
            "[nltk_data]   Unzipping corpora/stopwords.zip.\n"
          ]
        }
      ]
    },
    {
      "cell_type": "code",
      "source": [
        "def use_class(text):\n",
        "  text_preproc = TextPreprocess(text)\n",
        "  return text_preproc.preprocess_rus()"
      ],
      "metadata": {
        "id": "2Xhhhde4Skv7"
      },
      "execution_count": null,
      "outputs": []
    },
    {
      "cell_type": "code",
      "source": [
        "df_copy[\"text\"] = df_copy[\"text\"].apply(use_class)  #check MyStem\n",
        "df_copy"
      ],
      "metadata": {
        "colab": {
          "base_uri": "https://localhost:8080/",
          "height": 370
        },
        "id": "FR8fdiwFL7Cq",
        "outputId": "c9b3e499-4b4a-41a7-891e-1b90508ae770"
      },
      "execution_count": null,
      "outputs": [
        {
          "output_type": "error",
          "ename": "KeyboardInterrupt",
          "evalue": "ignored",
          "traceback": [
            "\u001b[0;31m---------------------------------------------------------------------------\u001b[0m",
            "\u001b[0;31mKeyboardInterrupt\u001b[0m                         Traceback (most recent call last)",
            "\u001b[0;32m<ipython-input-14-41fd657a3584>\u001b[0m in \u001b[0;36m<module>\u001b[0;34m()\u001b[0m\n\u001b[0;32m----> 1\u001b[0;31m \u001b[0mdf_copy\u001b[0m\u001b[0;34m[\u001b[0m\u001b[0;34m\"text\"\u001b[0m\u001b[0;34m]\u001b[0m \u001b[0;34m=\u001b[0m \u001b[0mdf_copy\u001b[0m\u001b[0;34m[\u001b[0m\u001b[0;34m\"text\"\u001b[0m\u001b[0;34m]\u001b[0m\u001b[0;34m.\u001b[0m\u001b[0mapply\u001b[0m\u001b[0;34m(\u001b[0m\u001b[0muse_class\u001b[0m\u001b[0;34m)\u001b[0m\u001b[0;34m\u001b[0m\u001b[0;34m\u001b[0m\u001b[0m\n\u001b[0m\u001b[1;32m      2\u001b[0m \u001b[0mdf_copy\u001b[0m\u001b[0;34m\u001b[0m\u001b[0;34m\u001b[0m\u001b[0m\n",
            "\u001b[0;32m/usr/local/lib/python3.7/dist-packages/pandas/core/series.py\u001b[0m in \u001b[0;36mapply\u001b[0;34m(self, func, convert_dtype, args, **kwds)\u001b[0m\n\u001b[1;32m   4211\u001b[0m             \u001b[0;32melse\u001b[0m\u001b[0;34m:\u001b[0m\u001b[0;34m\u001b[0m\u001b[0;34m\u001b[0m\u001b[0m\n\u001b[1;32m   4212\u001b[0m                 \u001b[0mvalues\u001b[0m \u001b[0;34m=\u001b[0m \u001b[0mself\u001b[0m\u001b[0;34m.\u001b[0m\u001b[0mastype\u001b[0m\u001b[0;34m(\u001b[0m\u001b[0mobject\u001b[0m\u001b[0;34m)\u001b[0m\u001b[0;34m.\u001b[0m\u001b[0m_values\u001b[0m\u001b[0;34m\u001b[0m\u001b[0;34m\u001b[0m\u001b[0m\n\u001b[0;32m-> 4213\u001b[0;31m                 \u001b[0mmapped\u001b[0m \u001b[0;34m=\u001b[0m \u001b[0mlib\u001b[0m\u001b[0;34m.\u001b[0m\u001b[0mmap_infer\u001b[0m\u001b[0;34m(\u001b[0m\u001b[0mvalues\u001b[0m\u001b[0;34m,\u001b[0m \u001b[0mf\u001b[0m\u001b[0;34m,\u001b[0m \u001b[0mconvert\u001b[0m\u001b[0;34m=\u001b[0m\u001b[0mconvert_dtype\u001b[0m\u001b[0;34m)\u001b[0m\u001b[0;34m\u001b[0m\u001b[0;34m\u001b[0m\u001b[0m\n\u001b[0m\u001b[1;32m   4214\u001b[0m \u001b[0;34m\u001b[0m\u001b[0m\n\u001b[1;32m   4215\u001b[0m         \u001b[0;32mif\u001b[0m \u001b[0mlen\u001b[0m\u001b[0;34m(\u001b[0m\u001b[0mmapped\u001b[0m\u001b[0;34m)\u001b[0m \u001b[0;32mand\u001b[0m \u001b[0misinstance\u001b[0m\u001b[0;34m(\u001b[0m\u001b[0mmapped\u001b[0m\u001b[0;34m[\u001b[0m\u001b[0;36m0\u001b[0m\u001b[0;34m]\u001b[0m\u001b[0;34m,\u001b[0m \u001b[0mSeries\u001b[0m\u001b[0;34m)\u001b[0m\u001b[0;34m:\u001b[0m\u001b[0;34m\u001b[0m\u001b[0;34m\u001b[0m\u001b[0m\n",
            "\u001b[0;32mpandas/_libs/lib.pyx\u001b[0m in \u001b[0;36mpandas._libs.lib.map_infer\u001b[0;34m()\u001b[0m\n",
            "\u001b[0;32m<ipython-input-13-09b5d78e0e4c>\u001b[0m in \u001b[0;36muse_class\u001b[0;34m(text)\u001b[0m\n\u001b[1;32m      1\u001b[0m \u001b[0;32mdef\u001b[0m \u001b[0muse_class\u001b[0m\u001b[0;34m(\u001b[0m\u001b[0mtext\u001b[0m\u001b[0;34m)\u001b[0m\u001b[0;34m:\u001b[0m\u001b[0;34m\u001b[0m\u001b[0;34m\u001b[0m\u001b[0m\n\u001b[1;32m      2\u001b[0m   \u001b[0mtext_preproc\u001b[0m \u001b[0;34m=\u001b[0m \u001b[0mTextPreprocess\u001b[0m\u001b[0;34m(\u001b[0m\u001b[0mtext\u001b[0m\u001b[0;34m)\u001b[0m\u001b[0;34m\u001b[0m\u001b[0;34m\u001b[0m\u001b[0m\n\u001b[0;32m----> 3\u001b[0;31m   \u001b[0;32mreturn\u001b[0m \u001b[0mtext_preproc\u001b[0m\u001b[0;34m.\u001b[0m\u001b[0mpreprocess_rus\u001b[0m\u001b[0;34m(\u001b[0m\u001b[0;34m)\u001b[0m\u001b[0;34m\u001b[0m\u001b[0;34m\u001b[0m\u001b[0m\n\u001b[0m",
            "\u001b[0;32m<ipython-input-12-e34a06691ef7>\u001b[0m in \u001b[0;36mpreprocess_rus\u001b[0;34m(self)\u001b[0m\n\u001b[1;32m     44\u001b[0m     \u001b[0mno_sw\u001b[0m \u001b[0;34m=\u001b[0m \u001b[0mTextPreprocess\u001b[0m\u001b[0;34m.\u001b[0m\u001b[0mremove_stop_words\u001b[0m\u001b[0;34m(\u001b[0m\u001b[0mclean_words\u001b[0m\u001b[0;34m,\u001b[0m \u001b[0;34m'russian'\u001b[0m\u001b[0;34m)\u001b[0m\u001b[0;34m\u001b[0m\u001b[0;34m\u001b[0m\u001b[0m\n\u001b[1;32m     45\u001b[0m \u001b[0;34m\u001b[0m\u001b[0m\n\u001b[0;32m---> 46\u001b[0;31m     \u001b[0mnlp_rus\u001b[0m \u001b[0;34m=\u001b[0m \u001b[0mspacy\u001b[0m\u001b[0;34m.\u001b[0m\u001b[0mload\u001b[0m\u001b[0;34m(\u001b[0m\u001b[0;34m\"ru_core_news_sm\"\u001b[0m\u001b[0;34m)\u001b[0m\u001b[0;34m\u001b[0m\u001b[0;34m\u001b[0m\u001b[0m\n\u001b[0m\u001b[1;32m     47\u001b[0m     \u001b[0mspacy_text\u001b[0m \u001b[0;34m=\u001b[0m \u001b[0mnlp_rus\u001b[0m\u001b[0;34m(\u001b[0m\u001b[0;34m' '\u001b[0m\u001b[0;34m.\u001b[0m\u001b[0mjoin\u001b[0m\u001b[0;34m(\u001b[0m\u001b[0mno_sw\u001b[0m\u001b[0;34m)\u001b[0m\u001b[0;34m)\u001b[0m\u001b[0;34m\u001b[0m\u001b[0;34m\u001b[0m\u001b[0m\n\u001b[1;32m     48\u001b[0m     \u001b[0mlemmas\u001b[0m \u001b[0;34m=\u001b[0m \u001b[0;34m[\u001b[0m\u001b[0mtoken\u001b[0m\u001b[0;34m.\u001b[0m\u001b[0mlemma_\u001b[0m \u001b[0;32mfor\u001b[0m \u001b[0mtoken\u001b[0m \u001b[0;32min\u001b[0m \u001b[0mspacy_text\u001b[0m \u001b[0;32mif\u001b[0m \u001b[0mtoken\u001b[0m\u001b[0;34m.\u001b[0m\u001b[0mpos_\u001b[0m \u001b[0;34m!=\u001b[0m \u001b[0;34m\"SPACE\"\u001b[0m\u001b[0;34m]\u001b[0m\u001b[0;34m\u001b[0m\u001b[0;34m\u001b[0m\u001b[0m\n",
            "\u001b[0;32m/usr/local/lib/python3.7/dist-packages/spacy/__init__.py\u001b[0m in \u001b[0;36mload\u001b[0;34m(name, vocab, disable, exclude, config)\u001b[0m\n\u001b[1;32m     50\u001b[0m     \"\"\"\n\u001b[1;32m     51\u001b[0m     return util.load_model(\n\u001b[0;32m---> 52\u001b[0;31m         \u001b[0mname\u001b[0m\u001b[0;34m,\u001b[0m \u001b[0mvocab\u001b[0m\u001b[0;34m=\u001b[0m\u001b[0mvocab\u001b[0m\u001b[0;34m,\u001b[0m \u001b[0mdisable\u001b[0m\u001b[0;34m=\u001b[0m\u001b[0mdisable\u001b[0m\u001b[0;34m,\u001b[0m \u001b[0mexclude\u001b[0m\u001b[0;34m=\u001b[0m\u001b[0mexclude\u001b[0m\u001b[0;34m,\u001b[0m \u001b[0mconfig\u001b[0m\u001b[0;34m=\u001b[0m\u001b[0mconfig\u001b[0m\u001b[0;34m\u001b[0m\u001b[0;34m\u001b[0m\u001b[0m\n\u001b[0m\u001b[1;32m     53\u001b[0m     )\n\u001b[1;32m     54\u001b[0m \u001b[0;34m\u001b[0m\u001b[0m\n",
            "\u001b[0;32m/usr/local/lib/python3.7/dist-packages/spacy/util.py\u001b[0m in \u001b[0;36mload_model\u001b[0;34m(name, vocab, disable, exclude, config)\u001b[0m\n\u001b[1;32m    418\u001b[0m             \u001b[0;32mreturn\u001b[0m \u001b[0mget_lang_class\u001b[0m\u001b[0;34m(\u001b[0m\u001b[0mname\u001b[0m\u001b[0;34m.\u001b[0m\u001b[0mreplace\u001b[0m\u001b[0;34m(\u001b[0m\u001b[0;34m\"blank:\"\u001b[0m\u001b[0;34m,\u001b[0m \u001b[0;34m\"\"\u001b[0m\u001b[0;34m)\u001b[0m\u001b[0;34m)\u001b[0m\u001b[0;34m(\u001b[0m\u001b[0;34m)\u001b[0m\u001b[0;34m\u001b[0m\u001b[0;34m\u001b[0m\u001b[0m\n\u001b[1;32m    419\u001b[0m         \u001b[0;32mif\u001b[0m \u001b[0mis_package\u001b[0m\u001b[0;34m(\u001b[0m\u001b[0mname\u001b[0m\u001b[0;34m)\u001b[0m\u001b[0;34m:\u001b[0m  \u001b[0;31m# installed as package\u001b[0m\u001b[0;34m\u001b[0m\u001b[0;34m\u001b[0m\u001b[0m\n\u001b[0;32m--> 420\u001b[0;31m             \u001b[0;32mreturn\u001b[0m \u001b[0mload_model_from_package\u001b[0m\u001b[0;34m(\u001b[0m\u001b[0mname\u001b[0m\u001b[0;34m,\u001b[0m \u001b[0;34m**\u001b[0m\u001b[0mkwargs\u001b[0m\u001b[0;34m)\u001b[0m  \u001b[0;31m# type: ignore[arg-type]\u001b[0m\u001b[0;34m\u001b[0m\u001b[0;34m\u001b[0m\u001b[0m\n\u001b[0m\u001b[1;32m    421\u001b[0m         \u001b[0;32mif\u001b[0m \u001b[0mPath\u001b[0m\u001b[0;34m(\u001b[0m\u001b[0mname\u001b[0m\u001b[0;34m)\u001b[0m\u001b[0;34m.\u001b[0m\u001b[0mexists\u001b[0m\u001b[0;34m(\u001b[0m\u001b[0;34m)\u001b[0m\u001b[0;34m:\u001b[0m  \u001b[0;31m# path to model data directory\u001b[0m\u001b[0;34m\u001b[0m\u001b[0;34m\u001b[0m\u001b[0m\n\u001b[1;32m    422\u001b[0m             \u001b[0;32mreturn\u001b[0m \u001b[0mload_model_from_path\u001b[0m\u001b[0;34m(\u001b[0m\u001b[0mPath\u001b[0m\u001b[0;34m(\u001b[0m\u001b[0mname\u001b[0m\u001b[0;34m)\u001b[0m\u001b[0;34m,\u001b[0m \u001b[0;34m**\u001b[0m\u001b[0mkwargs\u001b[0m\u001b[0;34m)\u001b[0m  \u001b[0;31m# type: ignore[arg-type]\u001b[0m\u001b[0;34m\u001b[0m\u001b[0;34m\u001b[0m\u001b[0m\n",
            "\u001b[0;32m/usr/local/lib/python3.7/dist-packages/spacy/util.py\u001b[0m in \u001b[0;36mload_model_from_package\u001b[0;34m(name, vocab, disable, exclude, config)\u001b[0m\n\u001b[1;32m    451\u001b[0m     \"\"\"\n\u001b[1;32m    452\u001b[0m     \u001b[0mcls\u001b[0m \u001b[0;34m=\u001b[0m \u001b[0mimportlib\u001b[0m\u001b[0;34m.\u001b[0m\u001b[0mimport_module\u001b[0m\u001b[0;34m(\u001b[0m\u001b[0mname\u001b[0m\u001b[0;34m)\u001b[0m\u001b[0;34m\u001b[0m\u001b[0;34m\u001b[0m\u001b[0m\n\u001b[0;32m--> 453\u001b[0;31m     \u001b[0;32mreturn\u001b[0m \u001b[0mcls\u001b[0m\u001b[0;34m.\u001b[0m\u001b[0mload\u001b[0m\u001b[0;34m(\u001b[0m\u001b[0mvocab\u001b[0m\u001b[0;34m=\u001b[0m\u001b[0mvocab\u001b[0m\u001b[0;34m,\u001b[0m \u001b[0mdisable\u001b[0m\u001b[0;34m=\u001b[0m\u001b[0mdisable\u001b[0m\u001b[0;34m,\u001b[0m \u001b[0mexclude\u001b[0m\u001b[0;34m=\u001b[0m\u001b[0mexclude\u001b[0m\u001b[0;34m,\u001b[0m \u001b[0mconfig\u001b[0m\u001b[0;34m=\u001b[0m\u001b[0mconfig\u001b[0m\u001b[0;34m)\u001b[0m  \u001b[0;31m# type: ignore[attr-defined]\u001b[0m\u001b[0;34m\u001b[0m\u001b[0;34m\u001b[0m\u001b[0m\n\u001b[0m\u001b[1;32m    454\u001b[0m \u001b[0;34m\u001b[0m\u001b[0m\n\u001b[1;32m    455\u001b[0m \u001b[0;34m\u001b[0m\u001b[0m\n",
            "\u001b[0;32m/usr/local/lib/python3.7/dist-packages/ru_core_news_sm/__init__.py\u001b[0m in \u001b[0;36mload\u001b[0;34m(**overrides)\u001b[0m\n\u001b[1;32m      8\u001b[0m \u001b[0;34m\u001b[0m\u001b[0m\n\u001b[1;32m      9\u001b[0m \u001b[0;32mdef\u001b[0m \u001b[0mload\u001b[0m\u001b[0;34m(\u001b[0m\u001b[0;34m**\u001b[0m\u001b[0moverrides\u001b[0m\u001b[0;34m)\u001b[0m\u001b[0;34m:\u001b[0m\u001b[0;34m\u001b[0m\u001b[0;34m\u001b[0m\u001b[0m\n\u001b[0;32m---> 10\u001b[0;31m     \u001b[0;32mreturn\u001b[0m \u001b[0mload_model_from_init_py\u001b[0m\u001b[0;34m(\u001b[0m\u001b[0m__file__\u001b[0m\u001b[0;34m,\u001b[0m \u001b[0;34m**\u001b[0m\u001b[0moverrides\u001b[0m\u001b[0;34m)\u001b[0m\u001b[0;34m\u001b[0m\u001b[0;34m\u001b[0m\u001b[0m\n\u001b[0m",
            "\u001b[0;32m/usr/local/lib/python3.7/dist-packages/spacy/util.py\u001b[0m in \u001b[0;36mload_model_from_init_py\u001b[0;34m(init_file, vocab, disable, exclude, config)\u001b[0m\n\u001b[1;32m    619\u001b[0m         \u001b[0mdisable\u001b[0m\u001b[0;34m=\u001b[0m\u001b[0mdisable\u001b[0m\u001b[0;34m,\u001b[0m\u001b[0;34m\u001b[0m\u001b[0;34m\u001b[0m\u001b[0m\n\u001b[1;32m    620\u001b[0m         \u001b[0mexclude\u001b[0m\u001b[0;34m=\u001b[0m\u001b[0mexclude\u001b[0m\u001b[0;34m,\u001b[0m\u001b[0;34m\u001b[0m\u001b[0;34m\u001b[0m\u001b[0m\n\u001b[0;32m--> 621\u001b[0;31m         \u001b[0mconfig\u001b[0m\u001b[0;34m=\u001b[0m\u001b[0mconfig\u001b[0m\u001b[0;34m,\u001b[0m\u001b[0;34m\u001b[0m\u001b[0;34m\u001b[0m\u001b[0m\n\u001b[0m\u001b[1;32m    622\u001b[0m     )\n\u001b[1;32m    623\u001b[0m \u001b[0;34m\u001b[0m\u001b[0m\n",
            "\u001b[0;32m/usr/local/lib/python3.7/dist-packages/spacy/util.py\u001b[0m in \u001b[0;36mload_model_from_path\u001b[0;34m(model_path, meta, vocab, disable, exclude, config)\u001b[0m\n\u001b[1;32m    485\u001b[0m     \u001b[0mconfig_path\u001b[0m \u001b[0;34m=\u001b[0m \u001b[0mmodel_path\u001b[0m \u001b[0;34m/\u001b[0m \u001b[0;34m\"config.cfg\"\u001b[0m\u001b[0;34m\u001b[0m\u001b[0;34m\u001b[0m\u001b[0m\n\u001b[1;32m    486\u001b[0m     \u001b[0moverrides\u001b[0m \u001b[0;34m=\u001b[0m \u001b[0mdict_to_dot\u001b[0m\u001b[0;34m(\u001b[0m\u001b[0mconfig\u001b[0m\u001b[0;34m)\u001b[0m\u001b[0;34m\u001b[0m\u001b[0;34m\u001b[0m\u001b[0m\n\u001b[0;32m--> 487\u001b[0;31m     \u001b[0mconfig\u001b[0m \u001b[0;34m=\u001b[0m \u001b[0mload_config\u001b[0m\u001b[0;34m(\u001b[0m\u001b[0mconfig_path\u001b[0m\u001b[0;34m,\u001b[0m \u001b[0moverrides\u001b[0m\u001b[0;34m=\u001b[0m\u001b[0moverrides\u001b[0m\u001b[0;34m)\u001b[0m\u001b[0;34m\u001b[0m\u001b[0;34m\u001b[0m\u001b[0m\n\u001b[0m\u001b[1;32m    488\u001b[0m     \u001b[0mnlp\u001b[0m \u001b[0;34m=\u001b[0m \u001b[0mload_model_from_config\u001b[0m\u001b[0;34m(\u001b[0m\u001b[0mconfig\u001b[0m\u001b[0;34m,\u001b[0m \u001b[0mvocab\u001b[0m\u001b[0;34m=\u001b[0m\u001b[0mvocab\u001b[0m\u001b[0;34m,\u001b[0m \u001b[0mdisable\u001b[0m\u001b[0;34m=\u001b[0m\u001b[0mdisable\u001b[0m\u001b[0;34m,\u001b[0m \u001b[0mexclude\u001b[0m\u001b[0;34m=\u001b[0m\u001b[0mexclude\u001b[0m\u001b[0;34m)\u001b[0m\u001b[0;34m\u001b[0m\u001b[0;34m\u001b[0m\u001b[0m\n\u001b[1;32m    489\u001b[0m     \u001b[0;32mreturn\u001b[0m \u001b[0mnlp\u001b[0m\u001b[0;34m.\u001b[0m\u001b[0mfrom_disk\u001b[0m\u001b[0;34m(\u001b[0m\u001b[0mmodel_path\u001b[0m\u001b[0;34m,\u001b[0m \u001b[0mexclude\u001b[0m\u001b[0;34m=\u001b[0m\u001b[0mexclude\u001b[0m\u001b[0;34m,\u001b[0m \u001b[0moverrides\u001b[0m\u001b[0;34m=\u001b[0m\u001b[0moverrides\u001b[0m\u001b[0;34m)\u001b[0m\u001b[0;34m\u001b[0m\u001b[0;34m\u001b[0m\u001b[0m\n",
            "\u001b[0;32m/usr/local/lib/python3.7/dist-packages/spacy/util.py\u001b[0m in \u001b[0;36mload_config\u001b[0;34m(path, overrides, interpolate)\u001b[0m\n\u001b[1;32m    646\u001b[0m             \u001b[0;32mraise\u001b[0m \u001b[0mIOError\u001b[0m\u001b[0;34m(\u001b[0m\u001b[0mErrors\u001b[0m\u001b[0;34m.\u001b[0m\u001b[0mE053\u001b[0m\u001b[0;34m.\u001b[0m\u001b[0mformat\u001b[0m\u001b[0;34m(\u001b[0m\u001b[0mpath\u001b[0m\u001b[0;34m=\u001b[0m\u001b[0mconfig_path\u001b[0m\u001b[0;34m,\u001b[0m \u001b[0mname\u001b[0m\u001b[0;34m=\u001b[0m\u001b[0;34m\"config.cfg\"\u001b[0m\u001b[0;34m)\u001b[0m\u001b[0;34m)\u001b[0m\u001b[0;34m\u001b[0m\u001b[0;34m\u001b[0m\u001b[0m\n\u001b[1;32m    647\u001b[0m         return config.from_disk(\n\u001b[0;32m--> 648\u001b[0;31m             \u001b[0mconfig_path\u001b[0m\u001b[0;34m,\u001b[0m \u001b[0moverrides\u001b[0m\u001b[0;34m=\u001b[0m\u001b[0moverrides\u001b[0m\u001b[0;34m,\u001b[0m \u001b[0minterpolate\u001b[0m\u001b[0;34m=\u001b[0m\u001b[0minterpolate\u001b[0m\u001b[0;34m\u001b[0m\u001b[0;34m\u001b[0m\u001b[0m\n\u001b[0m\u001b[1;32m    649\u001b[0m         )\n\u001b[1;32m    650\u001b[0m \u001b[0;34m\u001b[0m\u001b[0m\n",
            "\u001b[0;32m/usr/local/lib/python3.7/dist-packages/thinc/config.py\u001b[0m in \u001b[0;36mfrom_disk\u001b[0;34m(self, path, interpolate, overrides)\u001b[0m\n\u001b[1;32m    454\u001b[0m         \u001b[0;32mwith\u001b[0m \u001b[0mpath\u001b[0m\u001b[0;34m.\u001b[0m\u001b[0mopen\u001b[0m\u001b[0;34m(\u001b[0m\u001b[0;34m\"r\"\u001b[0m\u001b[0;34m,\u001b[0m \u001b[0mencoding\u001b[0m\u001b[0;34m=\u001b[0m\u001b[0;34m\"utf8\"\u001b[0m\u001b[0;34m)\u001b[0m \u001b[0;32mas\u001b[0m \u001b[0mfile_\u001b[0m\u001b[0;34m:\u001b[0m\u001b[0;34m\u001b[0m\u001b[0;34m\u001b[0m\u001b[0m\n\u001b[1;32m    455\u001b[0m             \u001b[0mtext\u001b[0m \u001b[0;34m=\u001b[0m \u001b[0mfile_\u001b[0m\u001b[0;34m.\u001b[0m\u001b[0mread\u001b[0m\u001b[0;34m(\u001b[0m\u001b[0;34m)\u001b[0m\u001b[0;34m\u001b[0m\u001b[0;34m\u001b[0m\u001b[0m\n\u001b[0;32m--> 456\u001b[0;31m         \u001b[0;32mreturn\u001b[0m \u001b[0mself\u001b[0m\u001b[0;34m.\u001b[0m\u001b[0mfrom_str\u001b[0m\u001b[0;34m(\u001b[0m\u001b[0mtext\u001b[0m\u001b[0;34m,\u001b[0m \u001b[0minterpolate\u001b[0m\u001b[0;34m=\u001b[0m\u001b[0minterpolate\u001b[0m\u001b[0;34m,\u001b[0m \u001b[0moverrides\u001b[0m\u001b[0;34m=\u001b[0m\u001b[0moverrides\u001b[0m\u001b[0;34m)\u001b[0m\u001b[0;34m\u001b[0m\u001b[0;34m\u001b[0m\u001b[0m\n\u001b[0m\u001b[1;32m    457\u001b[0m \u001b[0;34m\u001b[0m\u001b[0m\n\u001b[1;32m    458\u001b[0m \u001b[0;34m\u001b[0m\u001b[0m\n",
            "\u001b[0;32m/usr/local/lib/python3.7/dist-packages/thinc/config.py\u001b[0m in \u001b[0;36mfrom_str\u001b[0;34m(self, text, interpolate, overrides)\u001b[0m\n\u001b[1;32m    378\u001b[0m             \u001b[0mconfig\u001b[0m \u001b[0;34m=\u001b[0m \u001b[0mget_configparser\u001b[0m\u001b[0;34m(\u001b[0m\u001b[0minterpolate\u001b[0m\u001b[0;34m=\u001b[0m\u001b[0;32mFalse\u001b[0m\u001b[0;34m)\u001b[0m\u001b[0;34m\u001b[0m\u001b[0;34m\u001b[0m\u001b[0m\n\u001b[1;32m    379\u001b[0m         \u001b[0;32mtry\u001b[0m\u001b[0;34m:\u001b[0m\u001b[0;34m\u001b[0m\u001b[0;34m\u001b[0m\u001b[0m\n\u001b[0;32m--> 380\u001b[0;31m             \u001b[0mconfig\u001b[0m\u001b[0;34m.\u001b[0m\u001b[0mread_string\u001b[0m\u001b[0;34m(\u001b[0m\u001b[0mtext\u001b[0m\u001b[0;34m)\u001b[0m\u001b[0;34m\u001b[0m\u001b[0;34m\u001b[0m\u001b[0m\n\u001b[0m\u001b[1;32m    381\u001b[0m         \u001b[0;32mexcept\u001b[0m \u001b[0mParsingError\u001b[0m \u001b[0;32mas\u001b[0m \u001b[0me\u001b[0m\u001b[0;34m:\u001b[0m\u001b[0;34m\u001b[0m\u001b[0;34m\u001b[0m\u001b[0m\n\u001b[1;32m    382\u001b[0m             \u001b[0mdesc\u001b[0m \u001b[0;34m=\u001b[0m \u001b[0;34mf\"Make sure the sections and values are formatted correctly.\\n\\n{e}\"\u001b[0m\u001b[0;34m\u001b[0m\u001b[0;34m\u001b[0m\u001b[0m\n",
            "\u001b[0;32m/usr/lib/python3.7/configparser.py\u001b[0m in \u001b[0;36mread_string\u001b[0;34m(self, string, source)\u001b[0m\n\u001b[1;32m    720\u001b[0m         \u001b[0;34m\"\"\"Read configuration from a given string.\"\"\"\u001b[0m\u001b[0;34m\u001b[0m\u001b[0;34m\u001b[0m\u001b[0m\n\u001b[1;32m    721\u001b[0m         \u001b[0msfile\u001b[0m \u001b[0;34m=\u001b[0m \u001b[0mio\u001b[0m\u001b[0;34m.\u001b[0m\u001b[0mStringIO\u001b[0m\u001b[0;34m(\u001b[0m\u001b[0mstring\u001b[0m\u001b[0;34m)\u001b[0m\u001b[0;34m\u001b[0m\u001b[0;34m\u001b[0m\u001b[0m\n\u001b[0;32m--> 722\u001b[0;31m         \u001b[0mself\u001b[0m\u001b[0;34m.\u001b[0m\u001b[0mread_file\u001b[0m\u001b[0;34m(\u001b[0m\u001b[0msfile\u001b[0m\u001b[0;34m,\u001b[0m \u001b[0msource\u001b[0m\u001b[0;34m)\u001b[0m\u001b[0;34m\u001b[0m\u001b[0;34m\u001b[0m\u001b[0m\n\u001b[0m\u001b[1;32m    723\u001b[0m \u001b[0;34m\u001b[0m\u001b[0m\n\u001b[1;32m    724\u001b[0m     \u001b[0;32mdef\u001b[0m \u001b[0mread_dict\u001b[0m\u001b[0;34m(\u001b[0m\u001b[0mself\u001b[0m\u001b[0;34m,\u001b[0m \u001b[0mdictionary\u001b[0m\u001b[0;34m,\u001b[0m \u001b[0msource\u001b[0m\u001b[0;34m=\u001b[0m\u001b[0;34m'<dict>'\u001b[0m\u001b[0;34m)\u001b[0m\u001b[0;34m:\u001b[0m\u001b[0;34m\u001b[0m\u001b[0;34m\u001b[0m\u001b[0m\n",
            "\u001b[0;32m/usr/lib/python3.7/configparser.py\u001b[0m in \u001b[0;36mread_file\u001b[0;34m(self, f, source)\u001b[0m\n\u001b[1;32m    715\u001b[0m             \u001b[0;32mexcept\u001b[0m \u001b[0mAttributeError\u001b[0m\u001b[0;34m:\u001b[0m\u001b[0;34m\u001b[0m\u001b[0;34m\u001b[0m\u001b[0m\n\u001b[1;32m    716\u001b[0m                 \u001b[0msource\u001b[0m \u001b[0;34m=\u001b[0m \u001b[0;34m'<???>'\u001b[0m\u001b[0;34m\u001b[0m\u001b[0;34m\u001b[0m\u001b[0m\n\u001b[0;32m--> 717\u001b[0;31m         \u001b[0mself\u001b[0m\u001b[0;34m.\u001b[0m\u001b[0m_read\u001b[0m\u001b[0;34m(\u001b[0m\u001b[0mf\u001b[0m\u001b[0;34m,\u001b[0m \u001b[0msource\u001b[0m\u001b[0;34m)\u001b[0m\u001b[0;34m\u001b[0m\u001b[0;34m\u001b[0m\u001b[0m\n\u001b[0m\u001b[1;32m    718\u001b[0m \u001b[0;34m\u001b[0m\u001b[0m\n\u001b[1;32m    719\u001b[0m     \u001b[0;32mdef\u001b[0m \u001b[0mread_string\u001b[0m\u001b[0;34m(\u001b[0m\u001b[0mself\u001b[0m\u001b[0;34m,\u001b[0m \u001b[0mstring\u001b[0m\u001b[0;34m,\u001b[0m \u001b[0msource\u001b[0m\u001b[0;34m=\u001b[0m\u001b[0;34m'<string>'\u001b[0m\u001b[0;34m)\u001b[0m\u001b[0;34m:\u001b[0m\u001b[0;34m\u001b[0m\u001b[0;34m\u001b[0m\u001b[0m\n",
            "\u001b[0;32m/usr/lib/python3.7/configparser.py\u001b[0m in \u001b[0;36m_read\u001b[0;34m(self, fp, fpname)\u001b[0m\n\u001b[1;32m   1105\u001b[0m                         \u001b[0;31m# list of all bogus lines\u001b[0m\u001b[0;34m\u001b[0m\u001b[0;34m\u001b[0m\u001b[0;34m\u001b[0m\u001b[0m\n\u001b[1;32m   1106\u001b[0m                         \u001b[0me\u001b[0m \u001b[0;34m=\u001b[0m \u001b[0mself\u001b[0m\u001b[0;34m.\u001b[0m\u001b[0m_handle_error\u001b[0m\u001b[0;34m(\u001b[0m\u001b[0me\u001b[0m\u001b[0;34m,\u001b[0m \u001b[0mfpname\u001b[0m\u001b[0;34m,\u001b[0m \u001b[0mlineno\u001b[0m\u001b[0;34m,\u001b[0m \u001b[0mline\u001b[0m\u001b[0;34m)\u001b[0m\u001b[0;34m\u001b[0m\u001b[0;34m\u001b[0m\u001b[0m\n\u001b[0;32m-> 1107\u001b[0;31m         \u001b[0mself\u001b[0m\u001b[0;34m.\u001b[0m\u001b[0m_join_multiline_values\u001b[0m\u001b[0;34m(\u001b[0m\u001b[0;34m)\u001b[0m\u001b[0;34m\u001b[0m\u001b[0;34m\u001b[0m\u001b[0m\n\u001b[0m\u001b[1;32m   1108\u001b[0m         \u001b[0;31m# if any parsing errors occurred, raise an exception\u001b[0m\u001b[0;34m\u001b[0m\u001b[0;34m\u001b[0m\u001b[0;34m\u001b[0m\u001b[0m\n\u001b[1;32m   1109\u001b[0m         \u001b[0;32mif\u001b[0m \u001b[0me\u001b[0m\u001b[0;34m:\u001b[0m\u001b[0;34m\u001b[0m\u001b[0;34m\u001b[0m\u001b[0m\n",
            "\u001b[0;32m/usr/lib/python3.7/configparser.py\u001b[0m in \u001b[0;36m_join_multiline_values\u001b[0;34m(self)\u001b[0m\n\u001b[1;32m   1114\u001b[0m         all_sections = itertools.chain((defaults,),\n\u001b[1;32m   1115\u001b[0m                                        self._sections.items())\n\u001b[0;32m-> 1116\u001b[0;31m         \u001b[0;32mfor\u001b[0m \u001b[0msection\u001b[0m\u001b[0;34m,\u001b[0m \u001b[0moptions\u001b[0m \u001b[0;32min\u001b[0m \u001b[0mall_sections\u001b[0m\u001b[0;34m:\u001b[0m\u001b[0;34m\u001b[0m\u001b[0;34m\u001b[0m\u001b[0m\n\u001b[0m\u001b[1;32m   1117\u001b[0m             \u001b[0;32mfor\u001b[0m \u001b[0mname\u001b[0m\u001b[0;34m,\u001b[0m \u001b[0mval\u001b[0m \u001b[0;32min\u001b[0m \u001b[0moptions\u001b[0m\u001b[0;34m.\u001b[0m\u001b[0mitems\u001b[0m\u001b[0;34m(\u001b[0m\u001b[0;34m)\u001b[0m\u001b[0;34m:\u001b[0m\u001b[0;34m\u001b[0m\u001b[0;34m\u001b[0m\u001b[0m\n\u001b[1;32m   1118\u001b[0m                 \u001b[0;32mif\u001b[0m \u001b[0misinstance\u001b[0m\u001b[0;34m(\u001b[0m\u001b[0mval\u001b[0m\u001b[0;34m,\u001b[0m \u001b[0mlist\u001b[0m\u001b[0;34m)\u001b[0m\u001b[0;34m:\u001b[0m\u001b[0;34m\u001b[0m\u001b[0;34m\u001b[0m\u001b[0m\n",
            "\u001b[0;31mKeyboardInterrupt\u001b[0m: "
          ]
        }
      ]
    },
    {
      "cell_type": "markdown",
      "source": [
        "## Start experiments"
      ],
      "metadata": {
        "id": "2VrKDnrEKdPT"
      }
    },
    {
      "cell_type": "code",
      "metadata": {
        "id": "fjd1q_bLvDbx"
      },
      "source": [
        "from sklearn.linear_model import LogisticRegression\n",
        "from sklearn.metrics import accuracy_score"
      ],
      "execution_count": null,
      "outputs": []
    },
    {
      "cell_type": "code",
      "metadata": {
        "colab": {
          "base_uri": "https://localhost:8080/",
          "height": 419
        },
        "id": "KLAbgsec0d2P",
        "outputId": "d8eac6d1-6b8e-46d4-be0a-7ccadf9692f9"
      },
      "source": [
        "df_joined = df.copy()\n",
        "df_joined[\"text\"] = df_joined[\"text\"].apply(lambda x: ' '.join(x))\n",
        "df_joined"
      ],
      "execution_count": null,
      "outputs": [
        {
          "output_type": "execute_result",
          "data": {
            "text/html": [
              "<div>\n",
              "<style scoped>\n",
              "    .dataframe tbody tr th:only-of-type {\n",
              "        vertical-align: middle;\n",
              "    }\n",
              "\n",
              "    .dataframe tbody tr th {\n",
              "        vertical-align: top;\n",
              "    }\n",
              "\n",
              "    .dataframe thead th {\n",
              "        text-align: right;\n",
              "    }\n",
              "</style>\n",
              "<table border=\"1\" class=\"dataframe\">\n",
              "  <thead>\n",
              "    <tr style=\"text-align: right;\">\n",
              "      <th></th>\n",
              "      <th>text</th>\n",
              "      <th>target</th>\n",
              "    </tr>\n",
              "  </thead>\n",
              "  <tbody>\n",
              "    <tr>\n",
              "      <th>0</th>\n",
              "      <td>пародия пародия рознь . этот пародия я бы , на...</td>\n",
              "      <td>bad</td>\n",
              "    </tr>\n",
              "    <tr>\n",
              "      <th>1</th>\n",
              "      <td>в один прекрасный день я решать посмотреть пар...</td>\n",
              "      <td>bad</td>\n",
              "    </tr>\n",
              "    <tr>\n",
              "      <th>2</th>\n",
              "      <td>в поиск хороший фильм на вечер на какой только...</td>\n",
              "      <td>bad</td>\n",
              "    </tr>\n",
              "    <tr>\n",
              "      <th>3</th>\n",
              "      <td>по сравнение с этот фильм , даже ' борат ' вы ...</td>\n",
              "      <td>bad</td>\n",
              "    </tr>\n",
              "    <tr>\n",
              "      <th>4</th>\n",
              "      <td>Бррр ... ну нет , я такой фильм терпеть не нам...</td>\n",
              "      <td>bad</td>\n",
              "    </tr>\n",
              "    <tr>\n",
              "      <th>...</th>\n",
              "      <td>...</td>\n",
              "      <td>...</td>\n",
              "    </tr>\n",
              "    <tr>\n",
              "      <th>2895</th>\n",
              "      <td>помнить в детство у я быть диск с мультфильм д...</td>\n",
              "      <td>neutral</td>\n",
              "    </tr>\n",
              "    <tr>\n",
              "      <th>2896</th>\n",
              "      <td>да - а ... посмотреть очередной поделка от мег...</td>\n",
              "      <td>neutral</td>\n",
              "    </tr>\n",
              "    <tr>\n",
              "      <th>2897</th>\n",
              "      <td>волшебно , ярко и зрелищно . ностальгия сделат...</td>\n",
              "      <td>neutral</td>\n",
              "    </tr>\n",
              "    <tr>\n",
              "      <th>2898</th>\n",
              "      <td>сюжет , я думать , рассказывать никто не надо ...</td>\n",
              "      <td>neutral</td>\n",
              "    </tr>\n",
              "    <tr>\n",
              "      <th>2899</th>\n",
              "      <td>если у вы , также как и у я , любимый мультфил...</td>\n",
              "      <td>neutral</td>\n",
              "    </tr>\n",
              "  </tbody>\n",
              "</table>\n",
              "<p>2900 rows × 2 columns</p>\n",
              "</div>"
            ],
            "text/plain": [
              "                                                   text   target\n",
              "0     пародия пародия рознь . этот пародия я бы , на...      bad\n",
              "1     в один прекрасный день я решать посмотреть пар...      bad\n",
              "2     в поиск хороший фильм на вечер на какой только...      bad\n",
              "3     по сравнение с этот фильм , даже ' борат ' вы ...      bad\n",
              "4     Бррр ... ну нет , я такой фильм терпеть не нам...      bad\n",
              "...                                                 ...      ...\n",
              "2895  помнить в детство у я быть диск с мультфильм д...  neutral\n",
              "2896  да - а ... посмотреть очередной поделка от мег...  neutral\n",
              "2897  волшебно , ярко и зрелищно . ностальгия сделат...  neutral\n",
              "2898  сюжет , я думать , рассказывать никто не надо ...  neutral\n",
              "2899  если у вы , также как и у я , любимый мультфил...  neutral\n",
              "\n",
              "[2900 rows x 2 columns]"
            ]
          },
          "metadata": {},
          "execution_count": 13
        }
      ]
    },
    {
      "cell_type": "code",
      "metadata": {
        "id": "MoKW8hHHvDby"
      },
      "source": [
        "#X = np.array(list(df_bow[\"text\"]))\n",
        "\n",
        "d = {'bad': 0, 'good': 1, 'neutral': 2}\n",
        "y = np.array([d[i] for i in df_joined[\"target\"]])\n",
        "\n",
        "test_indexes = np.random.randint(low=0, high=2899, size=(200))\n",
        "train_indexes = np.array(list(set([i for i in range(2900)]) - set(test_indexes)))"
      ],
      "execution_count": null,
      "outputs": []
    },
    {
      "cell_type": "markdown",
      "metadata": {
        "id": "lwWHBICnBSg1"
      },
      "source": [
        "### Initialize Vectorizer 1. Bag Of Words"
      ]
    },
    {
      "cell_type": "code",
      "metadata": {
        "id": "3HlJ2Nn10d2L"
      },
      "source": [
        "from sklearn.feature_extraction.text import CountVectorizer"
      ],
      "execution_count": null,
      "outputs": []
    },
    {
      "cell_type": "code",
      "metadata": {
        "colab": {
          "base_uri": "https://localhost:8080/"
        },
        "id": "DmK3h8dp0d2N",
        "outputId": "4656f84c-d9b7-4484-f3c0-856458ea7a80"
      },
      "source": [
        "count_vectorizer = CountVectorizer()\n",
        "\n",
        "X_cv = count_vectorizer.fit_transform(df_joined['text'])\n",
        "X_cv"
      ],
      "execution_count": null,
      "outputs": [
        {
          "output_type": "execute_result",
          "data": {
            "text/plain": [
              "<2900x32534 sparse matrix of type '<class 'numpy.int64'>'\n",
              "\twith 646834 stored elements in Compressed Sparse Row format>"
            ]
          },
          "metadata": {},
          "execution_count": 18
        }
      ]
    },
    {
      "cell_type": "code",
      "metadata": {
        "colab": {
          "base_uri": "https://localhost:8080/"
        },
        "id": "ZwRXT4930d2O",
        "outputId": "2cd978b4-8985-4236-f99f-4c5e05a0867c"
      },
      "source": [
        "X_cv.toarray()"
      ],
      "execution_count": null,
      "outputs": [
        {
          "output_type": "execute_result",
          "data": {
            "text/plain": [
              "array([[0, 0, 0, ..., 0, 0, 0],\n",
              "       [0, 0, 0, ..., 0, 0, 0],\n",
              "       [0, 0, 0, ..., 0, 0, 0],\n",
              "       ...,\n",
              "       [0, 0, 0, ..., 0, 0, 0],\n",
              "       [0, 0, 0, ..., 0, 0, 0],\n",
              "       [0, 0, 0, ..., 0, 0, 0]])"
            ]
          },
          "metadata": {},
          "execution_count": 19
        }
      ]
    },
    {
      "cell_type": "markdown",
      "metadata": {
        "id": "nmoI7tx3A46A"
      },
      "source": [
        "### Train and test Vecotrizer 1."
      ]
    },
    {
      "cell_type": "code",
      "metadata": {
        "id": "z_EM649gA8Hj"
      },
      "source": [
        "X_train = X_cv[train_indexes]\n",
        "y_train = y[train_indexes]\n",
        "X_test = X_cv[test_indexes]\n",
        "y_test = y[test_indexes]"
      ],
      "execution_count": null,
      "outputs": []
    },
    {
      "cell_type": "code",
      "metadata": {
        "colab": {
          "base_uri": "https://localhost:8080/"
        },
        "id": "rO-4ggryA8Hk",
        "outputId": "92a9d165-0eed-4b4a-cd2d-7467b916a729"
      },
      "source": [
        "clf = LogisticRegression(random_state=0, max_iter=150).fit(X_train, y_train)\n",
        "predictions = clf.predict(X_test)"
      ],
      "execution_count": null,
      "outputs": [
        {
          "output_type": "stream",
          "name": "stderr",
          "text": [
            "/usr/local/lib/python3.7/dist-packages/sklearn/linear_model/_logistic.py:818: ConvergenceWarning: lbfgs failed to converge (status=1):\n",
            "STOP: TOTAL NO. of ITERATIONS REACHED LIMIT.\n",
            "\n",
            "Increase the number of iterations (max_iter) or scale the data as shown in:\n",
            "    https://scikit-learn.org/stable/modules/preprocessing.html\n",
            "Please also refer to the documentation for alternative solver options:\n",
            "    https://scikit-learn.org/stable/modules/linear_model.html#logistic-regression\n",
            "  extra_warning_msg=_LOGISTIC_SOLVER_CONVERGENCE_MSG,\n"
          ]
        }
      ]
    },
    {
      "cell_type": "code",
      "metadata": {
        "id": "_L30xNoqvDb1",
        "colab": {
          "base_uri": "https://localhost:8080/"
        },
        "outputId": "01a167e1-7c7a-4d27-bdaa-612c73535de6"
      },
      "source": [
        "accuracy_score(y_test, predictions)"
      ],
      "execution_count": null,
      "outputs": [
        {
          "output_type": "execute_result",
          "data": {
            "text/plain": [
              "0.6"
            ]
          },
          "metadata": {},
          "execution_count": 31
        }
      ]
    },
    {
      "cell_type": "markdown",
      "metadata": {
        "id": "Ef0vNWREBZBJ"
      },
      "source": [
        "### Initialize Vectorizer 2. TdIdf"
      ]
    },
    {
      "cell_type": "code",
      "metadata": {
        "id": "F4ojMsqI0d2R"
      },
      "source": [
        "from sklearn.feature_extraction.text import TfidfVectorizer"
      ],
      "execution_count": null,
      "outputs": []
    },
    {
      "cell_type": "code",
      "metadata": {
        "colab": {
          "base_uri": "https://localhost:8080/"
        },
        "id": "oGrEIbV90d2S",
        "outputId": "021da530-ba35-4b25-fd02-aaf98d8c5b6a"
      },
      "source": [
        "tfidf_vectorizer = TfidfVectorizer()\n",
        "\n",
        "X_tf = tfidf_vectorizer.fit_transform(df_joined['text'])\n",
        "X_tf"
      ],
      "execution_count": null,
      "outputs": [
        {
          "output_type": "execute_result",
          "data": {
            "text/plain": [
              "<2900x32534 sparse matrix of type '<class 'numpy.float64'>'\n",
              "\twith 646834 stored elements in Compressed Sparse Row format>"
            ]
          },
          "metadata": {},
          "execution_count": 21
        }
      ]
    },
    {
      "cell_type": "code",
      "metadata": {
        "colab": {
          "base_uri": "https://localhost:8080/"
        },
        "id": "jaXLuMIU0d2T",
        "outputId": "882b908c-164b-4469-a895-69dbfabdddaf"
      },
      "source": [
        "X_tf.toarray()"
      ],
      "execution_count": null,
      "outputs": [
        {
          "output_type": "execute_result",
          "data": {
            "text/plain": [
              "array([[0., 0., 0., ..., 0., 0., 0.],\n",
              "       [0., 0., 0., ..., 0., 0., 0.],\n",
              "       [0., 0., 0., ..., 0., 0., 0.],\n",
              "       ...,\n",
              "       [0., 0., 0., ..., 0., 0., 0.],\n",
              "       [0., 0., 0., ..., 0., 0., 0.],\n",
              "       [0., 0., 0., ..., 0., 0., 0.]])"
            ]
          },
          "metadata": {},
          "execution_count": 22
        }
      ]
    },
    {
      "cell_type": "markdown",
      "metadata": {
        "id": "eLO2IDVNDjfh"
      },
      "source": [
        "### Train and test Vectorizer 2."
      ]
    },
    {
      "cell_type": "code",
      "metadata": {
        "id": "Ytb_sZ3-BquG"
      },
      "source": [
        "X_train = X_tf[train_indexes]\n",
        "y_train = y[train_indexes]\n",
        "X_test = X_tf[test_indexes]\n",
        "y_test = y[test_indexes]"
      ],
      "execution_count": null,
      "outputs": []
    },
    {
      "cell_type": "code",
      "metadata": {
        "id": "bPe59Cc3BquQ"
      },
      "source": [
        "clf = LogisticRegression(random_state=0, max_iter=150).fit(X_train, y_train)\n",
        "predictions = clf.predict(X_test)"
      ],
      "execution_count": null,
      "outputs": []
    },
    {
      "cell_type": "code",
      "metadata": {
        "colab": {
          "base_uri": "https://localhost:8080/"
        },
        "id": "lTPJMGahBquR",
        "outputId": "d91b94b1-dcdb-4383-9b84-5fb4d7a66ca3"
      },
      "source": [
        "accuracy_score(y_test, predictions)"
      ],
      "execution_count": null,
      "outputs": [
        {
          "output_type": "execute_result",
          "data": {
            "text/plain": [
              "0.64"
            ]
          },
          "metadata": {},
          "execution_count": 37
        }
      ]
    },
    {
      "cell_type": "markdown",
      "source": [
        "### Initialize Vecotrizer 3. Doc2vec"
      ],
      "metadata": {
        "id": "MI5mq8ItQ6Cp"
      }
    },
    {
      "cell_type": "code",
      "source": [
        "from gensim.models.doc2vec import Doc2Vec, TaggedDocument\n",
        "\n",
        "documents = [TaggedDocument(doc, [i]) for i, doc in enumerate(list(df['text']))]"
      ],
      "metadata": {
        "id": "SI0bdmbJQ892"
      },
      "execution_count": null,
      "outputs": []
    },
    {
      "cell_type": "markdown",
      "metadata": {
        "id": "FHGl1zd-R-oJ"
      },
      "source": [
        "### Train and test Vectorizer 3."
      ]
    },
    {
      "cell_type": "code",
      "metadata": {
        "id": "TO-g33SJR-oK"
      },
      "source": [
        "X_train = documents[train_indexes]\n",
        "y_train = y[train_indexes]\n",
        "X_test = documents[test_indexes]\n",
        "y_test = y[test_indexes]"
      ],
      "execution_count": null,
      "outputs": []
    },
    {
      "cell_type": "code",
      "metadata": {
        "id": "sOfZ5cZFR-oL"
      },
      "source": [
        "clf = LogisticRegression(random_state=0, max_iter=150).fit(X_train, y_train)\n",
        "predictions = clf.predict(X_test)"
      ],
      "execution_count": null,
      "outputs": []
    },
    {
      "cell_type": "code",
      "metadata": {
        "colab": {
          "base_uri": "https://localhost:8080/"
        },
        "outputId": "d91b94b1-dcdb-4383-9b84-5fb4d7a66ca3",
        "id": "GIgNfxlIR-oM"
      },
      "source": [
        "accuracy_score(y_test, predictions)"
      ],
      "execution_count": null,
      "outputs": [
        {
          "output_type": "execute_result",
          "data": {
            "text/plain": [
              "0.64"
            ]
          },
          "metadata": {},
          "execution_count": 37
        }
      ]
    }
  ]
}